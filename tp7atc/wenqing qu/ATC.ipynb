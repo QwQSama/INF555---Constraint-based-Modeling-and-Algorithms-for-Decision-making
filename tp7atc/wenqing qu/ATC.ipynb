{
 "cells": [
  {
   "cell_type": "markdown",
   "metadata": {},
   "source": [
    "# TP6: Air Traffic Control\n",
    "\n",
    "This practical session is about a real-world problem in air traffic control, treated in 1991 in Prolog with a meta-interpreter for propagating constraints over finite domains, when your teacher was at CNRS and consultant at Thomson-CSF/Thales.\n",
    "\n",
    "Today you are asked to use MiniZinc with finite domain constraints to model and solve this optimization problem.\n"
   ]
  },
  {
   "cell_type": "markdown",
   "metadata": {},
   "source": [
    "## Traffic regulation on arrivals\n",
    "Air traffic control in the terminal area corridors of an airport includes all arriving flights within 40 minutes of the runway. Scheduling the landing of flights is a critical task during peak periods. At an airport such as Orly, the arrivals can be regulated by delaying the departures of domestic flights to Orly, however, departure regulations do not apply to long-haul flights. \n",
    "\n",
    "The purpose of this TP is to show, using constraint-based modeling and optimization tools, that unnecessary delays can be avoided by optimizing the sequence of landing flights.\n",
    "\n",
    "The constraints of the problem can be defined as follows:\n",
    "* Each flight has an **expected time of arrival**, *counted in seconds from current time 0*. \n",
    "* The **actual time of arrival** that we want to compute must be located within a **strict range** (i.e. bounds excluded) determined by\n",
    "** a *delay factor*, set by default to 3 times the expected time of arrival,\n",
    "** and an *advance factor*, set to 0.8 by default, with respect to the expected time of arrival.\n",
    "\n",
    "The terminal area of an airport is **divided in space** with several runway approach **corridors**.\n",
    "* Each flight is assigned a corridor and can not leave it. \n",
    "\n",
    "The terminal area is also **divided in time** in three areas:\n",
    "* the **critical area** (5 min from the landing track, 5mn included) where no permutation of flights is possible,\n",
    "* the **regulated area** (5 to 20 minutes from the track, 20 mn included) where permutations between flights in different corridors only are possible,\n",
    "* the **third zone** (20 to 40 min from the track) where all permutations of flights are possible even within the same air corridor.\n",
    "\n",
    "Changes to flights are made by giving commands to the pilot who can modify the speed of the aircraft or the trajectory (either by widening a curve or by making loops), but we will not directly deal with these aspects here.\n",
    "\n",
    "The distances to be respected between flights depend on the **size of the aircrafts**.\n",
    "* There are three categories of aircrafts: A (large), B (medium), C (small).\n",
    "* Because of the air turbulences created, small aircrafts behind a large aircraft need a larger distance than the opposite.\n",
    "* The **matrix of safety distances**, Dij, expresses **in seconds** the minimum **strict time separation** between i and j if i precedes j, as follows:\n",
    "\n",
    "| Dij | A |  B  | C |\n",
    "| --- | --- | --- | --- |\n",
    "| A | 100 | 130 | 160 |\n",
    "| B | 70 | 80 |100|\n",
    "| C | 60 | 60 | 70 |\n",
    " \n",
    "For the sake of simplification, it will be sufficient to apply these **time separation constraints at landing time**, that is to say at the computed time of arrival, **not in all intermediate points**.\n",
    "\n",
    "The basic strategy of the air traffic controllers essentially consists in preserving the order of the sequence of arrivals (i.e. **First-In First-Out FIFO strategy**)\n",
    "* by advancing and delaying the flights in order to satisfy the time separation constraints between aircrafts. \n",
    "\n",
    "However, since the distance matrix is not symmetrical, it is possible to **minimize the overall time of arrival of the set of flights by permuting some flights** in the expected sequence of arrivals. The search for an optimal solution then becomes NP-difficult."
   ]
  },
  {
   "attachments": {
    "ATC.png": {
     "image/png": "[encoded data removed]"
    }
   },
   "cell_type": "markdown",
   "metadata": {},
   "source": [
    "## Data from Orly Airport\n",
    "\n",
    "The vintage image below shows a screen copy of the system developed in 1991 in Prolog with constraints for finding optimal solutions. It is shown here to help visualize both the data about the **3 air corridors** towards Orly's landing track, the expected time arrival and one optimal solution for **15 flights**:\n",
    "* the track is depicted on the left, \n",
    "* the corridors are materialized by 3 horizontal bands,\n",
    "* the lower part of the screen shows the initially expected time of arrival together with the solution resulting from the First-In First-Out FIFO strategy preserving the order of arrival (28.67 mn in this example). \n",
    "* the upper part shows an optimal solution of proven optimal cost 26.5 mn. This solution consists in permuting flights 6 and 7-8, 12 and 13, 14 and 15. \n",
    "\n",
    "![ATC.png](attachment:ATC.png)\n",
    "\n",
    "The file **ATCorly.dzn contains a data set** for\n",
    "* 15 flights\n",
    "* in the 3 air corridors of Orly.\n",
    "In this example, \n",
    "the minimum time for landing the sequence of flights keeping the order of the sequence (FIFO strategy) is 23.58 minutes (i.e. 23mn35s)\n",
    "\n",
    "The **ATCsydney.dzn** is another dataset of\n",
    "* 20 flights\n",
    "* in 3 air corridors."
   ]
  },
  {
   "cell_type": "code",
   "execution_count": 1,
   "metadata": {},
   "outputs": [],
   "source": [
    "import inf555"
   ]
  },
  {
   "cell_type": "code",
   "execution_count": 2,
   "metadata": {},
   "outputs": [
    {
     "name": "stdout",
     "output_type": "stream",
     "text": [
      "\u001b[0m\u001b[K\u001b[0;34m%%%%%%%%%%%%%%%%%%%%%%%%%%%%%\r\n",
      "\u001b[0m\u001b[K\u001b[0;34m% Data file from Orly airport\r\n",
      "\u001b[0m\u001b[K\u001b[0;34m%%%%%%%%%%%%%%%%%%%%%%%%%%%%%\r\n",
      "\u001b[0m\u001b[K\u001b[0m\r\n",
      "\u001b[0m\u001b[K\u001b[0;34m% The flights are assumed to be sorted by increasing order of expected arrival time\r\n",
      "\u001b[0m\u001b[K\u001b[0m\r\n",
      "\u001b[0m\u001b[K\u001b[0;34m% number of flights\r\n",
      "\u001b[0m\u001b[K\u001b[0mnf = \u001b[0;31m15\u001b[0m; \r\n",
      "\u001b[0m\u001b[K\u001b[0m\r\n",
      "\u001b[0m\u001b[K\u001b[0;34m% number of corridors\r\n",
      "\u001b[0m\u001b[K\u001b[0mnc = \u001b[0;31m3\u001b[0m;\r\n",
      "\u001b[0m\u001b[K\u001b[0m\r\n",
      "\u001b[0m\u001b[K\u001b[0;34m% expected time of arrival in seconds\r\n",
      "\u001b[0m\u001b[K\u001b[0m\r\n",
      "\u001b[0m\u001b[K\u001b[0mexpectedtime = [\u001b[0;31m75\u001b[0m,\u001b[0;31m180\u001b[0m,\u001b[0;31m265\u001b[0m,\u001b[0;31m270\u001b[0m,\u001b[0;31m285\u001b[0m,\u001b[0;31m320\u001b[0m,\u001b[0;31m330\u001b[0m,\u001b[0;31m435\u001b[0m,\u001b[0;31m565\u001b[0m,\u001b[0;31m660\u001b[0m,\u001b[0;31m685\u001b[0m,\u001b[0;31m715\u001b[0m,\u001b[0;31m735\u001b[0m,\u001b[0;31m855\u001b[0m,\u001b[0;31m880\u001b[0m];\r\n",
      "\u001b[0m\u001b[K\u001b[0m\r\n",
      "\u001b[0m\u001b[K\u001b[0;34m% aircraft categories (A=1, B=2, C=3)\r\n",
      "\u001b[0m\u001b[K\u001b[0m\r\n",
      "\u001b[0m\u001b[K\u001b[0mcategory = [\u001b[0;31m2\u001b[0m,\u001b[0;31m3\u001b[0m,\u001b[0;31m3\u001b[0m,\u001b[0;31m2\u001b[0m,\u001b[0;31m3\u001b[0m,\u001b[0;31m1\u001b[0m,\u001b[0;31m3\u001b[0m,\u001b[0;31m1\u001b[0m,\u001b[0;31m2\u001b[0m,\u001b[0;31m2\u001b[0m,\u001b[0;31m1\u001b[0m,\u001b[0;31m3\u001b[0m,\u001b[0;31m2\u001b[0m,\u001b[0;31m1\u001b[0m,\u001b[0;31m3\u001b[0m];\r\n",
      "\u001b[0m\u001b[K\u001b[0m\r\n",
      "\u001b[0m\u001b[K\u001b[0;34m% aircraft corridors\r\n",
      "\u001b[0m\u001b[K\u001b[0m\r\n",
      "\u001b[0m\u001b[K\u001b[0mcorridor = [\u001b[0;31m1\u001b[0m,\u001b[0;31m2\u001b[0m,\u001b[0;31m1\u001b[0m,\u001b[0;31m1\u001b[0m,\u001b[0;31m1\u001b[0m,\u001b[0;31m2\u001b[0m,\u001b[0;31m1\u001b[0m,\u001b[0;31m3\u001b[0m,\u001b[0;31m3\u001b[0m,\u001b[0;31m1\u001b[0m,\u001b[0;31m1\u001b[0m,\u001b[0;31m2\u001b[0m,\u001b[0;31m1\u001b[0m,\u001b[0;31m3\u001b[0m,\u001b[0;31m1\u001b[0m];\r\n",
      "\u001b[0m\u001b[K\u001b[0m\r\n",
      "\u001b[0m\u001b[K\u001b[0m\u001b[0m\r\n"
     ]
    }
   ],
   "source": [
    "!vimcat.sh ATCorly.dzn"
   ]
  },
  {
   "cell_type": "code",
   "execution_count": 3,
   "metadata": {},
   "outputs": [
    {
     "name": "stdout",
     "output_type": "stream",
     "text": [
      "\u001b[0m\u001b[K\u001b[0;34m%%%%%%%%%%%%%%%%%\r\n",
      "\u001b[0m\u001b[K\u001b[0;34m% Larger data set\r\n",
      "\u001b[0m\u001b[K\u001b[0;34m%%%%%%%%%%%%%%%%%\r\n",
      "\u001b[0m\u001b[K\u001b[0m\r\n",
      "\u001b[0m\u001b[K\u001b[0;34m% The flights are assumed to be sorted by increasing order of expected arrival time\r\n",
      "\u001b[0m\u001b[K\u001b[0m\r\n",
      "\u001b[0m\u001b[K\u001b[0;34m% number of flights\r\n",
      "\u001b[0m\u001b[K\u001b[0mnf = \u001b[0;31m20\u001b[0m; \r\n",
      "\u001b[0m\u001b[K\u001b[0m\r\n",
      "\u001b[0m\u001b[K\u001b[0;34m% number of corridors\r\n",
      "\u001b[0m\u001b[K\u001b[0mnc = \u001b[0;31m3\u001b[0m;\r\n",
      "\u001b[0m\u001b[K\u001b[0m\r\n",
      "\u001b[0m\u001b[K\u001b[0;34m% expected time of arrival in seconds\r\n",
      "\u001b[0m\u001b[K\u001b[0m\r\n",
      "\u001b[0m\u001b[K\u001b[0mexpectedtime = [\u001b[0;31m75\u001b[0m, \u001b[0;31m180\u001b[0m, \u001b[0;31m265\u001b[0m, \u001b[0;31m270\u001b[0m, \u001b[0;31m285\u001b[0m, \u001b[0;31m320\u001b[0m, \u001b[0;31m330\u001b[0m, \u001b[0;31m435\u001b[0m, \u001b[0;31m565\u001b[0m, \u001b[0;31m660\u001b[0m, \u001b[0;31m685\u001b[0m, \u001b[0;31m690\u001b[0m, \u001b[0;31m715\u001b[0m, \u001b[0;1;37;41m720, 735, 740, 855, 860, 880, 885];\r\n",
      "\u001b[0m\u001b[K\u001b[0m\r\n",
      "\u001b[0m\u001b[K\u001b[0;34m% aircraft categories (A=1, B=2, C=3)\r\n",
      "\u001b[0m\u001b[K\u001b[0m\r\n",
      "\u001b[0m\u001b[K\u001b[0mcategory = [\u001b[0;31m2\u001b[0m,\u001b[0;31m3\u001b[0m,\u001b[0;31m3\u001b[0m,\u001b[0;31m2\u001b[0m,\u001b[0;31m3\u001b[0m,\u001b[0;31m1\u001b[0m,\u001b[0;31m3\u001b[0m,\u001b[0;31m1\u001b[0m,\u001b[0;31m2\u001b[0m,\u001b[0;31m2\u001b[0m,\u001b[0;31m1\u001b[0m,\u001b[0;31m3\u001b[0m,\u001b[0;31m2\u001b[0m,\u001b[0;31m1\u001b[0m,\u001b[0;31m3\u001b[0m,\u001b[0;31m2\u001b[0m,\u001b[0;31m3\u001b[0m,\u001b[0;31m3\u001b[0m,\u001b[0;31m2\u001b[0m,\u001b[0;31m3\u001b[0m];\r\n",
      "\u001b[0m\u001b[K\u001b[0m\r\n",
      "\u001b[0m\u001b[K\u001b[0;34m% aircraft corridors\r\n",
      "\u001b[0m\u001b[K\u001b[0m\r\n",
      "\u001b[0m\u001b[K\u001b[0mcorridor = [\u001b[0;31m1\u001b[0m,\u001b[0;31m2\u001b[0m,\u001b[0;31m1\u001b[0m,\u001b[0;31m1\u001b[0m,\u001b[0;31m1\u001b[0m,\u001b[0;31m2\u001b[0m,\u001b[0;31m1\u001b[0m,\u001b[0;31m3\u001b[0m,\u001b[0;31m3\u001b[0m,\u001b[0;31m1\u001b[0m,\u001b[0;31m1\u001b[0m,\u001b[0;31m2\u001b[0m,\u001b[0;31m1\u001b[0m,\u001b[0;31m3\u001b[0m,\u001b[0;31m1\u001b[0m,\u001b[0;31m1\u001b[0m,\u001b[0;31m2\u001b[0m,\u001b[0;31m1\u001b[0m,\u001b[0;31m1\u001b[0m,\u001b[0;31m1\u001b[0m];\u001b[0m\r\n"
     ]
    }
   ],
   "source": [
    "!vimcat.sh ATCsydney.dzn"
   ]
  },
  {
   "cell_type": "markdown",
   "metadata": {},
   "source": [
    "# Question 1. MiniZinc types and variables\n",
    "### Define in a file `ATC.mzn`\n",
    "* the types and variables for the data of the problem\n",
    "* the distance matrix\n",
    "* the decision variables, i.e. the array of computed times of arrival,\n",
    "* the predicates advance(i) and delay(i) that post the time range constraints with respect to the expected time of arrival of flight i\n",
    "* the range constraints for all flights\n",
    "* the predicate precedes(i, j) that posts the distance constraint if flight i precedes flight j "
   ]
  },
  {
   "cell_type": "code",
   "execution_count": 4,
   "metadata": {},
   "outputs": [
    {
     "name": "stdout",
     "output_type": "stream",
     "text": [
      "\u001b[0m\u001b[K\u001b[0;32mint\u001b[0m: nf;\r\n",
      "\u001b[0m\u001b[K\u001b[0;32mint\u001b[0m: nc;\r\n",
      "\u001b[0m\u001b[K\u001b[0m\r\n",
      "\u001b[0m\u001b[K\u001b[0;32mset\u001b[0m \u001b[0;32mof\u001b[0m \u001b[0;32mint\u001b[0m: CAT = \u001b[0;31m1\u001b[0;35m..\u001b[0;31m3\u001b[0m;\r\n",
      "\u001b[0m\u001b[K\u001b[0;32mset\u001b[0m \u001b[0;32mof\u001b[0m \u001b[0;32mint\u001b[0m: COR = \u001b[0;31m1\u001b[0;35m..\u001b[0mnc;\r\n",
      "\u001b[0m\u001b[K\u001b[0m\r\n",
      "\u001b[0m\u001b[K\u001b[0;32marray\u001b[0m[\u001b[0;31m1\u001b[0;35m..\u001b[0mnf] \u001b[0;32mof\u001b[0m \u001b[0;32mint\u001b[0m: expectedtime;\r\n",
      "\u001b[0m\u001b[K\u001b[0;32marray\u001b[0m[\u001b[0;31m1\u001b[0;35m..\u001b[0mnf] \u001b[0;32mof\u001b[0m CAT: category;\r\n",
      "\u001b[0m\u001b[K\u001b[0;32marray\u001b[0m[\u001b[0;31m1\u001b[0;35m..\u001b[0mnf] \u001b[0;32mof\u001b[0m COR: corridor;\r\n",
      "\u001b[0m\u001b[K\u001b[0m\r\n",
      "\u001b[0m\u001b[K\u001b[0;32marray\u001b[0m[CAT, CAT] \u001b[0;32mof\u001b[0m \u001b[0;32mint\u001b[0m: distance_matrix = [|\u001b[0;31m100\u001b[0m, \u001b[0;31m130\u001b[0m, \u001b[0;31m160\u001b[0m,\r\n",
      "\u001b[0m\u001b[K\u001b[0m                                           |\u001b[0;31m70\u001b[0m, \u001b[0;31m80\u001b[0m, \u001b[0;31m100\u001b[0m,\r\n",
      "\u001b[0m\u001b[K\u001b[0m                                           |\u001b[0;31m60\u001b[0m, \u001b[0;31m60\u001b[0m, \u001b[0;31m70\u001b[0m|];\r\n",
      "\u001b[0m\u001b[K\u001b[0;32marray\u001b[0m[\u001b[0;31m1\u001b[0;35m..\u001b[0mnf] \u001b[0;32mof\u001b[0m \u001b[0;32mvar\u001b[0m \u001b[0;32mint\u001b[0m: time;\r\n",
      "\u001b[0m\u001b[K\u001b[0m\r\n",
      "\u001b[0m\u001b[K\u001b[0;33mconstraint\u001b[0m \u001b[0;36mforall\u001b[0m (i \u001b[0;33min\u001b[0m \u001b[0;31m1\u001b[0;35m..\u001b[0mnf) \r\n",
      "\u001b[0m\u001b[K\u001b[0m    (\r\n",
      "\u001b[0m\u001b[K\u001b[0m        (time[i] \u001b[0;35m>\u001b[0m \u001b[0;31m0\u001b[0m.\u001b[0;31m8\u001b[0m \u001b[0;35m*\u001b[0m expectedtime[i]) \u001b[0;35m/\\\u001b[0m \r\n",
      "\u001b[0m\u001b[K\u001b[0m        (time[i] \u001b[0;35m<\u001b[0m \u001b[0;31m3\u001b[0m \u001b[0;35m*\u001b[0m expectedtime[i])\r\n",
      "\u001b[0m\u001b[K\u001b[0m    );\r\n",
      "\u001b[0m\u001b[K\u001b[0m\r\n",
      "\u001b[0m\u001b[K\u001b[0;33mpredicate\u001b[0m precedes(\u001b[0;32mvar\u001b[0m \u001b[0;32mint\u001b[0m: i, \u001b[0;32mvar\u001b[0m \u001b[0;32mint\u001b[0m: j) = \r\n",
      "\u001b[0m\u001b[K\u001b[0m    (\r\n",
      "\u001b[0m\u001b[K\u001b[0m        (time[j] \u001b[0;35m-\u001b[0m time[i]) \u001b[0;35m>\u001b[0m (distance_matrix[category[i], category[j]]) \u001b[0;35m/\\\r\n",
      "\u001b[0m\u001b[K\u001b[0m        time[i] \u001b[0;35m<\u001b[0m time[j]\r\n",
      "\u001b[0m\u001b[K\u001b[0m    );\u001b[0m\r\n"
     ]
    }
   ],
   "source": [
    "!vimcat.sh ATC.mzn"
   ]
  },
  {
   "cell_type": "markdown",
   "metadata": {},
   "source": [
    "# Question 2. First-In First-Out Strategy in MiniZinc\n",
    "### Define in a file `ATCfifo.mzn`\n",
    "* the inclusion of file ATC.mzn\n",
    "* the distance constraints for the FIFO strategy\n",
    "* the search using the FIFO strategy as heuristics\n",
    "* the output for printing the global landing time, the solution found, and the computation time\n",
    "\n",
    "### Execute the FIFO strategy on Orly and Sydney data\n",
    "The global landing time should be 23.58mn (i.e. 23mn35s) on Orly data and 30.17mn (i.e. 30mn10s) on Sydney data "
   ]
  },
  {
   "cell_type": "code",
   "execution_count": 5,
   "metadata": {},
   "outputs": [
    {
     "name": "stdout",
     "output_type": "stream",
     "text": [
      "\u001b[0m\u001b[K\u001b[0;33minclude\u001b[0m \u001b[0;31m\"ATC.mzn\"\u001b[0m;\r\n",
      "\u001b[0m\u001b[K\u001b[0m\r\n",
      "\u001b[0m\u001b[K\u001b[0;33mconstraint\u001b[0m \u001b[0;36mforall\u001b[0m (i \u001b[0;33min\u001b[0m \u001b[0;31m2\u001b[0;35m..\u001b[0mnf) (precedes(i\u001b[0;35m-\u001b[0;31m1\u001b[0m, i));\r\n",
      "\u001b[0m\u001b[K\u001b[0m\r\n",
      "\u001b[0m\u001b[K\u001b[0;33msolve\u001b[0m \u001b[0;33mminimize\u001b[0m time[nf];\u001b[0m\r\n"
     ]
    }
   ],
   "source": [
    "!vimcat.sh ATCfifo.mzn"
   ]
  },
  {
   "cell_type": "code",
   "execution_count": 6,
   "metadata": {},
   "outputs": [
    {
     "name": "stdout",
     "output_type": "stream",
     "text": [
      "Solution(objective=1415, time=[61, 162, 233, 294, 395, 456, 617, 678, 809, 890, 961, 1122, 1183, 1254, 1415], _checker='')\n"
     ]
    }
   ],
   "source": [
    "print(inf555.minizinc('ATCfifo.mzn', 'ATCorly.dzn'))"
   ]
  },
  {
   "cell_type": "code",
   "execution_count": 7,
   "metadata": {},
   "outputs": [
    {
     "name": "stdout",
     "output_type": "stream",
     "text": [
      "Solution(objective=1810, time=[61, 162, 233, 294, 395, 456, 617, 678, 809, 890, 961, 1122, 1183, 1254, 1415, 1476, 1577, 1648, 1709, 1810], _checker='')\n"
     ]
    }
   ],
   "source": [
    "print(inf555.minizinc('ATCfifo.mzn', 'ATCsydney.dzn'))"
   ]
  },
  {
   "cell_type": "markdown",
   "metadata": {},
   "source": [
    "# Question 3. Time Window Constraint Satisfiability \n",
    "Before dealing with the optimization problem, let us first deal with the problem of checking the satisfiability of the constraints of the  problem for a given sequence of fligths.\n",
    "\n",
    "Those constraints are slightly more general than the disjunctive precedence constraints for job-shop scheduling as in the `bridge.mzn` but can be dealt with using the same techniques.\n",
    "\n",
    "### Define in file `ATCsat.mzn`\n",
    "* the critical area constraints (avoiding to post the transition closure of the precedence constraints)\n",
    "* the regulated area constraints\n",
    "* the third area constraints\n",
    "* the search for satisfiability "
   ]
  },
  {
   "cell_type": "code",
   "execution_count": 8,
   "metadata": {},
   "outputs": [
    {
     "name": "stdout",
     "output_type": "stream",
     "text": [
      "\u001b[0m\u001b[K\u001b[0;33minclude\u001b[0m \u001b[0;31m\"ATC.mzn\"\u001b[0m;\r\n",
      "\u001b[0m\u001b[K\u001b[0m\r\n",
      "\u001b[0m\u001b[K\u001b[0;32marray\u001b[0m[\u001b[0;31m1\u001b[0;35m..\u001b[0mnf] \u001b[0;32mof\u001b[0m \u001b[0;32mvar\u001b[0m \u001b[0;32mint\u001b[0m: order;\r\n",
      "\u001b[0m\u001b[K\u001b[0m\r\n",
      "\u001b[0m\u001b[K\u001b[0;33mconstraint\u001b[0m \u001b[0;36mforall\u001b[0m (i,j \u001b[0;33min\u001b[0m \u001b[0;31m1\u001b[0;35m..\u001b[0mnf \u001b[0;33mwhere\u001b[0m i \u001b[0;35m<\u001b[0m j)\r\n",
      "\u001b[0m\u001b[K\u001b[0m    (\r\n",
      "\u001b[0m\u001b[K\u001b[0m        order[i] \u001b[0;35m!=\u001b[0m order[j] \u001b[0;35m/\\\r\n",
      "\u001b[0m\u001b[K\u001b[0m        order[i] \u001b[0;35m<=\u001b[0m nf \u001b[0;35m/\\\r\n",
      "\u001b[0m\u001b[K\u001b[0m        order[i] \u001b[0;35m>=\u001b[0m \u001b[0;31m1\r\n",
      "\u001b[0m\u001b[K\u001b[0m    );\r\n",
      "\u001b[0m\u001b[K\u001b[0m\r\n",
      "\u001b[0m\u001b[K\u001b[0;33mconstraint\u001b[0m \u001b[0;36mforall\u001b[0m (i \u001b[0;33min\u001b[0m \u001b[0;31m2\u001b[0;35m..\u001b[0mnf )\r\n",
      "\u001b[0m\u001b[K\u001b[0m    (\r\n",
      "\u001b[0m\u001b[K\u001b[0m        (time[order[i\u001b[0;35m-\u001b[0;31m1\u001b[0m]] \u001b[0;35m<\u001b[0mtime[order[i]] ) \u001b[0;35m/\\\r\n",
      "\u001b[0m\u001b[K\u001b[0m        (precedes(order[i\u001b[0;35m-\u001b[0;31m1\u001b[0m], order[i]))\r\n",
      "\u001b[0m\u001b[K\u001b[0m    );\r\n",
      "\u001b[0m\u001b[K\u001b[0m\r\n",
      "\u001b[0m\u001b[K\u001b[0m\r\n",
      "\u001b[0m\u001b[K\u001b[0;33mconstraint\u001b[0m \u001b[0;36mforall\u001b[0m (i \u001b[0;33min\u001b[0m \u001b[0;31m1\u001b[0;35m..\u001b[0mnf )\r\n",
      "\u001b[0m\u001b[K\u001b[0m    (\r\n",
      "\u001b[0m\u001b[K\u001b[0m        (order[i] \u001b[0;35m==\u001b[0m i) \u001b[0;35m\\/\r\n",
      "\u001b[0m\u001b[K\u001b[0m        (\r\n",
      "\u001b[0m\u001b[K\u001b[0m            (expectedtime[i] \u001b[0;35m>\u001b[0m \u001b[0;31m300\u001b[0m) \u001b[0;35m/\\\r\n",
      "\u001b[0m\u001b[K\u001b[0m            expectedtime[order[i]] \u001b[0;35m>\u001b[0m \u001b[0;31m300\u001b[0m \u001b[0;35m/\\\r\n",
      "\u001b[0m\u001b[K\u001b[0m            (\r\n",
      "\u001b[0m\u001b[K\u001b[0m                ((expectedtime[i] \u001b[0;35m>\u001b[0m \u001b[0;31m1200\u001b[0m) \u001b[0;35m/\\\u001b[0m (expectedtime[order[i]] \u001b[0;35m>\u001b[0m \u001b[0;31m1200\u001b[0m)) \u001b[0;35m\\/\r\n",
      "\u001b[0m\u001b[K\u001b[0m                (corridor[i] \u001b[0;35m!=\u001b[0m corridor[order[i]])\r\n",
      "\u001b[0m\u001b[K\u001b[0m            )\r\n",
      "\u001b[0m\u001b[K\u001b[0m        )\r\n",
      "\u001b[0m\u001b[K\u001b[0m    );\r\n",
      "\u001b[0m\u001b[K\u001b[0m\r\n",
      "\u001b[0m\u001b[K\u001b[0m\r\n",
      "\u001b[0m\u001b[K\u001b[0;33msolve\u001b[0m \u001b[0;33mminimize\u001b[0m \u001b[0;36mmax\u001b[0m(time);\u001b[0m\r\n"
     ]
    }
   ],
   "source": [
    "!vimcat.sh ATCsat.mzn"
   ]
  },
  {
   "cell_type": "code",
   "execution_count": 9,
   "metadata": {},
   "outputs": [
    {
     "name": "stdout",
     "output_type": "stream",
     "text": [
      "Solution(objective=1235, order=[1, 2, 3, 4, 5, 7, 9, 6, 11, 10, 12, 15, 13, 14, 8], time=[61, 162, 233, 294, 395, 598, 466, 1235, 527, 830, 699, 931, 1063, 1134, 1002], _checker='')\n"
     ]
    }
   ],
   "source": [
    "print(inf555.minizinc('ATCsat.mzn', 'ATCorly.dzn'))"
   ]
  },
  {
   "cell_type": "code",
   "execution_count": 10,
   "metadata": {},
   "outputs": [
    {
     "name": "stdout",
     "output_type": "stream",
     "text": [
      "Solution(objective=1610, order=[1, 2, 3, 4, 5, 7, 9, 10, 16, 6, 11, 8, 13, 20, 12, 17, 15, 18, 19, 14], time=[61, 162, 233, 294, 395, 760, 466, 962, 527, 608, 861, 1265, 1093, 1610, 1407, 689, 1336, 1478, 1539, 1194], _checker='')\n"
     ]
    }
   ],
   "source": [
    "print(inf555.minizinc('ATCsat.mzn', 'ATCsydney.dzn'))"
   ]
  },
  {
   "cell_type": "markdown",
   "metadata": {},
   "source": [
    "# Question 4. Add and-choice and or-choice heuristics to implement the FIFO strategy\n",
    "\n",
    "\n",
    "\n",
    "\n",
    "### Define in file `ATCsatFIFO.mzn` the FIFO search heuristics\n",
    "\n",
    "\n",
    "Verify that with those and-choice (choice of first variables) and or-choice (choice of first values) heuristics you compute the same solution as when expressed with (precedence) constraints instead of heuristics\n",
    "\n"
   ]
  },
  {
   "cell_type": "code",
   "execution_count": 11,
   "metadata": {},
   "outputs": [
    {
     "name": "stdout",
     "output_type": "stream",
     "text": [
      "\u001b[0m\u001b[K\u001b[0;33minclude\u001b[0m \u001b[0;31m\"ATC.mzn\"\u001b[0m;\r\n",
      "\u001b[0m\u001b[K\u001b[0m\r\n",
      "\u001b[0m\u001b[K\u001b[0;33mconstraint\u001b[0m \u001b[0;36mforall\u001b[0m (i \u001b[0;33min\u001b[0m \u001b[0;31m2\u001b[0;35m..\u001b[0mnf) (precedes(i\u001b[0;35m-\u001b[0;31m1\u001b[0m, i));\r\n",
      "\u001b[0m\u001b[K\u001b[0m\r\n",
      "\u001b[0m\u001b[K\u001b[0;33msolve\u001b[0m:: int_search(time, input_order, indomain_min, complete) \u001b[0;33mminimize\u001b[0m time[nf];\u001b[0m\r\n"
     ]
    }
   ],
   "source": [
    "!vimcat.sh ATCsatFIFO.mzn"
   ]
  },
  {
   "cell_type": "code",
   "execution_count": 12,
   "metadata": {},
   "outputs": [
    {
     "name": "stdout",
     "output_type": "stream",
     "text": [
      "Solution(objective=1415, time=[61, 162, 233, 294, 395, 456, 617, 678, 809, 890, 961, 1122, 1183, 1254, 1415], _checker='')\n"
     ]
    }
   ],
   "source": [
    "print(inf555.minizinc('ATCsatFIFO.mzn', 'ATCorly.dzn'))"
   ]
  },
  {
   "cell_type": "code",
   "execution_count": 13,
   "metadata": {},
   "outputs": [
    {
     "name": "stdout",
     "output_type": "stream",
     "text": [
      "Solution(objective=1810, time=[61, 162, 233, 294, 395, 456, 617, 678, 809, 890, 961, 1122, 1183, 1254, 1415, 1476, 1577, 1648, 1709, 1810], _checker='')\n"
     ]
    }
   ],
   "source": [
    "print(inf555.minizinc('ATCsatFIFO.mzn', 'ATCsydney.dzn'))"
   ]
  },
  {
   "cell_type": "markdown",
   "metadata": {},
   "source": [
    "# Question 5. Computing an Optimal ATC Solution\n",
    "\n",
    "\n",
    "### Define in a file ATCoptim.mzn\n",
    "* the objective function and the search to mimize the global landing time of the flights\n",
    "\n",
    "What is the optimal cost ?\n",
    "\n",
    "How far was the FIFO strategy from the optimal solution ?"
   ]
  },
  {
   "cell_type": "code",
   "execution_count": 14,
   "metadata": {},
   "outputs": [
    {
     "name": "stdout",
     "output_type": "stream",
     "text": [
      "\u001b[0m\u001b[K\u001b[0;33minclude\u001b[0m \u001b[0;31m\"ATC.mzn\"\u001b[0m;\r\n",
      "\u001b[0m\u001b[K\u001b[0m\r\n",
      "\u001b[0m\u001b[K\u001b[0;32marray\u001b[0m[\u001b[0;31m1\u001b[0;35m..\u001b[0mnf] \u001b[0;32mof\u001b[0m \u001b[0;32mvar\u001b[0m \u001b[0;32mint\u001b[0m: order;\r\n",
      "\u001b[0m\u001b[K\u001b[0m\r\n",
      "\u001b[0m\u001b[K\u001b[0;33mconstraint\u001b[0m \u001b[0;36mforall\u001b[0m (i,j \u001b[0;33min\u001b[0m \u001b[0;31m1\u001b[0;35m..\u001b[0mnf \u001b[0;33mwhere\u001b[0m i \u001b[0;35m<\u001b[0m j)\r\n",
      "\u001b[0m\u001b[K\u001b[0m    (\r\n",
      "\u001b[0m\u001b[K\u001b[0m        order[i] \u001b[0;35m!=\u001b[0m order[j] \u001b[0;35m/\\\r\n",
      "\u001b[0m\u001b[K\u001b[0m        order[i] \u001b[0;35m<=\u001b[0m nf \u001b[0;35m/\\\r\n",
      "\u001b[0m\u001b[K\u001b[0m        order[i] \u001b[0;35m>=\u001b[0m \u001b[0;31m1\r\n",
      "\u001b[0m\u001b[K\u001b[0m    );\r\n",
      "\u001b[0m\u001b[K\u001b[0m\r\n",
      "\u001b[0m\u001b[K\u001b[0;33mconstraint\u001b[0m \u001b[0;36mforall\u001b[0m (i \u001b[0;33min\u001b[0m \u001b[0;31m2\u001b[0;35m..\u001b[0mnf )\r\n",
      "\u001b[0m\u001b[K\u001b[0m    (\r\n",
      "\u001b[0m\u001b[K\u001b[0m        (time[order[i\u001b[0;35m-\u001b[0;31m1\u001b[0m]] \u001b[0;35m<\u001b[0mtime[order[i]] ) \u001b[0;35m/\\\r\n",
      "\u001b[0m\u001b[K\u001b[0m        (precedes(order[i\u001b[0;35m-\u001b[0;31m1\u001b[0m], order[i]))\r\n",
      "\u001b[0m\u001b[K\u001b[0m    );\r\n",
      "\u001b[0m\u001b[K\u001b[0m\r\n",
      "\u001b[0m\u001b[K\u001b[0m\r\n",
      "\u001b[0m\u001b[K\u001b[0;33mconstraint\u001b[0m \u001b[0;36mforall\u001b[0m (i \u001b[0;33min\u001b[0m \u001b[0;31m1\u001b[0;35m..\u001b[0mnf )\r\n",
      "\u001b[0m\u001b[K\u001b[0m    (\r\n",
      "\u001b[0m\u001b[K\u001b[0m        (order[i] \u001b[0;35m==\u001b[0m i) \u001b[0;35m\\/\r\n",
      "\u001b[0m\u001b[K\u001b[0m        (\r\n",
      "\u001b[0m\u001b[K\u001b[0m            (expectedtime[i] \u001b[0;35m>\u001b[0m \u001b[0;31m300\u001b[0m) \u001b[0;35m/\\\r\n",
      "\u001b[0m\u001b[K\u001b[0m            expectedtime[order[i]] \u001b[0;35m>\u001b[0m \u001b[0;31m300\u001b[0m \u001b[0;35m/\\\r\n",
      "\u001b[0m\u001b[K\u001b[0m            (\r\n",
      "\u001b[0m\u001b[K\u001b[0m                ((expectedtime[i] \u001b[0;35m>\u001b[0m \u001b[0;31m1200\u001b[0m) \u001b[0;35m/\\\u001b[0m (expectedtime[order[i]] \u001b[0;35m>\u001b[0m \u001b[0;31m1200\u001b[0m)) \u001b[0;35m\\/\r\n",
      "\u001b[0m\u001b[K\u001b[0m                (corridor[i] \u001b[0;35m!=\u001b[0m corridor[order[i]])\r\n",
      "\u001b[0m\u001b[K\u001b[0m            )\r\n",
      "\u001b[0m\u001b[K\u001b[0m        )\r\n",
      "\u001b[0m\u001b[K\u001b[0m    );\r\n",
      "\u001b[0m\u001b[K\u001b[0m\r\n",
      "\u001b[0m\u001b[K\u001b[0m\r\n",
      "\u001b[0m\u001b[K\u001b[0;33msolve\u001b[0m \u001b[0;33mminimize\u001b[0m \u001b[0;36mmax\u001b[0m(time);\u001b[0m\r\n"
     ]
    }
   ],
   "source": [
    "!vimcat.sh ATCoptim.mzn"
   ]
  },
  {
   "cell_type": "code",
   "execution_count": 15,
   "metadata": {},
   "outputs": [
    {
     "name": "stdout",
     "output_type": "stream",
     "text": [
      "Solution(objective=1235, order=[1, 2, 3, 4, 5, 7, 9, 6, 11, 10, 12, 15, 13, 14, 8], time=[61, 162, 233, 294, 395, 598, 466, 1235, 527, 830, 699, 931, 1063, 1134, 1002], _checker='')\n"
     ]
    }
   ],
   "source": [
    "print(inf555.minizinc('ATCoptim.mzn', 'ATCorly.dzn'))"
   ]
  },
  {
   "cell_type": "code",
   "execution_count": 16,
   "metadata": {},
   "outputs": [
    {
     "name": "stdout",
     "output_type": "stream",
     "text": [
      "Solution(objective=1610, order=[1, 2, 3, 4, 5, 7, 9, 10, 16, 6, 11, 8, 13, 20, 12, 17, 15, 18, 19, 14], time=[61, 162, 233, 294, 395, 760, 466, 962, 527, 608, 861, 1265, 1093, 1610, 1407, 689, 1336, 1478, 1539, 1194], _checker='')\n"
     ]
    }
   ],
   "source": [
    "print(inf555.minizinc('ATCoptim.mzn', 'ATCsydney.dzn'))"
   ]
  },
  {
   "cell_type": "markdown",
   "metadata": {},
   "source": [
    "# Question 6: Design and Implement a Greedy Heuristics Algorithm\n",
    "\n",
    "* Examine the swaps done in the optimal solutions compared to the FIFO strategy\n",
    "* Find a heuristic criterion for determining when those swaps are good\n",
    "* Use this criterions to design a (deterministic) greedy heuristic strategy better than FIFO \n",
    "\n",
    "Implement it in file `ATCgreedy.mzn`"
   ]
  },
  {
   "cell_type": "code",
   "execution_count": 17,
   "metadata": {
    "scrolled": true
   },
   "outputs": [
    {
     "name": "stdout",
     "output_type": "stream",
     "text": [
      "\u001b[0m\u001b[K\u001b[0m\r\n",
      "\u001b[0m\u001b[K\u001b[0;33minclude\u001b[0m \u001b[0;31m\"ATC.mzn\"\u001b[0m;\r\n",
      "\u001b[0m\u001b[K\u001b[0m\r\n",
      "\u001b[0m\u001b[K\u001b[0m\r\n",
      "\u001b[0m\u001b[K\u001b[0;33mpredicate\u001b[0m pd(\u001b[0;32mvar\u001b[0m \u001b[0;32mint\u001b[0m: i, \u001b[0;32mvar\u001b[0m \u001b[0;32mint\u001b[0m: j) = \r\n",
      "\u001b[0m\u001b[K\u001b[0m    (\r\n",
      "\u001b[0m\u001b[K\u001b[0m        (expectedtime[i] \u001b[0;35m>\u001b[0m \u001b[0;31m300\u001b[0m) \u001b[0;35m/\\\r\n",
      "\u001b[0m\u001b[K\u001b[0m        (expectedtime[j] \u001b[0;35m>\u001b[0m \u001b[0;31m300\u001b[0m) \u001b[0;35m/\\\r\n",
      "\u001b[0m\u001b[K\u001b[0m        (\r\n",
      "\u001b[0m\u001b[K\u001b[0m            ((expectedtime[i]  \u001b[0;35m>\u001b[0m \u001b[0;31m1200\u001b[0m) \u001b[0;35m/\\\u001b[0m (expectedtime[j] \u001b[0;35m>\u001b[0m \u001b[0;31m1200\u001b[0m))\u001b[0;35m\\/\r\n",
      "\u001b[0m\u001b[K\u001b[0m            (corridor[i] \u001b[0;35m!=\u001b[0m corridor[j])\r\n",
      "\u001b[0m\u001b[K\u001b[0m        )\r\n",
      "\u001b[0m\u001b[K\u001b[0m    );\r\n",
      "\u001b[0m\u001b[K\u001b[0m\r\n",
      "\u001b[0m\u001b[K\u001b[0;33mconstraint\u001b[0m \u001b[0;36mforall\u001b[0m (i,j \u001b[0;33min\u001b[0m \u001b[0;31m1\u001b[0;35m..\u001b[0mnf \u001b[0;33mwhere\u001b[0m i \u001b[0;35m<\u001b[0m j)\r\n",
      "\u001b[0m\u001b[K\u001b[0m    (\r\n",
      "\u001b[0m\u001b[K\u001b[0m        \u001b[0;33mif\u001b[0m (time[i] \u001b[0;35m>\u001b[0m time[j])\r\n",
      "\u001b[0m\u001b[K\u001b[0m        \u001b[0;33mthen\r\n",
      "\u001b[0m\u001b[K\u001b[0m            (pd(i,j))\u001b[0;35m/\\\r\n",
      "\u001b[0m\u001b[K\u001b[0m            (precedes(j,i))\r\n",
      "\u001b[0m\u001b[K\u001b[0m        \u001b[0;33melse\r\n",
      "\u001b[0m\u001b[K\u001b[0m            (precedes(i,j))\r\n",
      "\u001b[0m\u001b[K\u001b[0m        \u001b[0;33mendif\r\n",
      "\u001b[0m\u001b[K\u001b[0m    );\r\n",
      "\u001b[0m\u001b[K\u001b[0m\r\n",
      "\u001b[0m\u001b[K\u001b[0m\r\n",
      "\u001b[0m\u001b[K\u001b[0;33msolve\u001b[0m \u001b[0;33mminimize\u001b[0m \u001b[0;36mmax\u001b[0m(time);\u001b[0m\r\n"
     ]
    }
   ],
   "source": [
    "!vimcat.sh ATCgreedy.mzn"
   ]
  },
  {
   "cell_type": "markdown",
   "metadata": {},
   "source": [
    "this is my first version for optimal solution but it needs too much time to run and i dont know why as it seems similar to search the order"
   ]
  },
  {
   "cell_type": "code",
   "execution_count": null,
   "metadata": {},
   "outputs": [],
   "source": [
    "print(inf555.minizinc('ATCgreedy.mzn', 'ATCorly.dzn'))"
   ]
  },
  {
   "cell_type": "code",
   "execution_count": null,
   "metadata": {},
   "outputs": [],
   "source": [
    "print(inf555.minizinc('ATCgreedy.mzn', 'ATCsydney.dzn'))"
   ]
  },
  {
   "cell_type": "code",
   "execution_count": null,
   "metadata": {},
   "outputs": [],
   "source": []
  }
 ],
 "metadata": {
  "kernelspec": {
   "display_name": "Python 3 (ipykernel)",
   "language": "python",
   "name": "python3"
  },
  "language_info": {
   "codemirror_mode": {
    "name": "ipython",
    "version": 3
   },
   "file_extension": ".py",
   "mimetype": "text/x-python",
   "name": "python",
   "nbconvert_exporter": "python",
   "pygments_lexer": "ipython3",
   "version": "3.9.6"
  }
 },
 "nbformat": 4,
 "nbformat_minor": 2
}
