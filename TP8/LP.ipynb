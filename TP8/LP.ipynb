{
 "cells": [
  {
   "attachments": {
    "image.png": {
     "image/png": "[encoded data removed]"
    }
   },
   "cell_type": "markdown",
   "metadata": {},
   "source": [
    "# TP8: Linear Programming\n",
    "\n",
    "This TP8 is about Linear Programming, i.e. modeling and solving decision problems using linear constraints over the real numbers.\n",
    "\n",
    "We will be using the `cbc `solver of MiniZinc which does implement the Simplex algorithm for solving both satisfiability and optimization problems. \n",
    "\n",
    "\n",
    "# Part I. Fourier's Example\n",
    "We start with the example of Fourier given in his lecture at Académies des Sciences in 1823 for illustrating his method for deciding the satisfiability of a finite set of linear inequalities over the real numbers, and for modeling decision problems with linear constraints.\n",
    "\n",
    "In his example, the problem is to\n",
    "* determine in which coordinates (X,Y)\n",
    "* a given weight p\n",
    "* can be placed on an isocele-rectangle-triangle table (with the right corner A in coordinates 0,0, B in 0,5 and C in 5,0)\n",
    "* in such a way that each leg of the triangle table does not support more than 1 weight unit.\n",
    "\n",
    "\n",
    "![image.png](attachment:image.png)\n",
    "\n",
    "The MiniZinc model below solves this problem."
   ]
  },
  {
   "cell_type": "code",
   "execution_count": 1,
   "metadata": {},
   "outputs": [],
   "source": [
    "import inf555"
   ]
  },
  {
   "cell_type": "code",
   "execution_count": 2,
   "metadata": {},
   "outputs": [
    {
     "name": "stdout",
     "output_type": "stream",
     "text": [
      "\u001b[0m\u001b[K\u001b[0;34m% Fourier's 1823 illustrative example for\r\n",
      "\u001b[0m\u001b[K\u001b[0;34m% modeling and solving decision problems with inequalities over the reals\r\n",
      "\u001b[0m\u001b[K\u001b[0m\r\n",
      "\u001b[0m\u001b[K\u001b[0;34m% Variables\r\n",
      "\u001b[0m\u001b[K\u001b[0;32mvar\u001b[0m \u001b[0;32mfloat\u001b[0m: A; \u001b[0;34m% pressures on the 3 legs of an isocele rectangle triangle table    \r\n",
      "\u001b[0m\u001b[K\u001b[0;32mvar\u001b[0m \u001b[0;32mfloat\u001b[0m: B;\r\n",
      "\u001b[0m\u001b[K\u001b[0;32mvar\u001b[0m \u001b[0;32mfloat\u001b[0m: C;\r\n",
      "\u001b[0m\u001b[K\u001b[0m\r\n",
      "\u001b[0m\u001b[K\u001b[0;32mvar\u001b[0m \u001b[0;32mfloat\u001b[0m: X;        \u001b[0;34m% position of the weight\r\n",
      "\u001b[0m\u001b[K\u001b[0;32mvar\u001b[0m \u001b[0;32mfloat\u001b[0m: Y;\r\n",
      "\u001b[0m\u001b[K\u001b[0m\r\n",
      "\u001b[0m\u001b[K\u001b[0;34m% Data\r\n",
      "\u001b[0m\u001b[K\u001b[0;32mfloat\u001b[0m: p;               \u001b[0;34m% weight to place\r\n",
      "\u001b[0m\u001b[K\u001b[0m\r\n",
      "\u001b[0m\u001b[K\u001b[0;32mfloat\u001b[0m: xB;          \u001b[0;34m% triangle table placed in A=(0,0) B=(xB,0) C=(0,yC)\r\n",
      "\u001b[0m\u001b[K\u001b[0;32mfloat\u001b[0m: yC; \r\n",
      "\u001b[0m\u001b[K\u001b[0m\r\n",
      "\u001b[0m\u001b[K\u001b[0;34m% Constraints\r\n",
      "\u001b[0m\u001b[K\u001b[0m\r\n",
      "\u001b[0m\u001b[K\u001b[0;33mconstraint\u001b[0m \u001b[0;31m0\u001b[0;35m<=\u001b[0mA \u001b[0;35m/\\\u001b[0m A\u001b[0;35m<=\u001b[0;31m1\u001b[0m;\r\n",
      "\u001b[0m\u001b[K\u001b[0m\r\n",
      "\u001b[0m\u001b[K\u001b[0;33mconstraint\u001b[0m \u001b[0;31m0\u001b[0;35m<=\u001b[0mB \u001b[0;35m/\\\u001b[0m B\u001b[0;35m<=\u001b[0;31m1\u001b[0m;\r\n",
      "\u001b[0m\u001b[K\u001b[0m\r\n",
      "\u001b[0m\u001b[K\u001b[0;33mconstraint\u001b[0m \u001b[0;31m0\u001b[0;35m<=\u001b[0mC \u001b[0;35m/\\\u001b[0mC \u001b[0;35m<=\u001b[0;31m1\u001b[0m;\r\n",
      "\u001b[0m\u001b[K\u001b[0m\r\n",
      "\u001b[0m\u001b[K\u001b[0;33mconstraint\u001b[0m A\u001b[0;35m+\u001b[0mB\u001b[0;35m+\u001b[0mC = p;\r\n",
      "\u001b[0m\u001b[K\u001b[0m\r\n",
      "\u001b[0m\u001b[K\u001b[0;33mconstraint\u001b[0m p\u001b[0;35m*\u001b[0mX = xB\u001b[0;35m*\u001b[0mB;\r\n",
      "\u001b[0m\u001b[K\u001b[0m\r\n",
      "\u001b[0m\u001b[K\u001b[0;33mconstraint\u001b[0m p\u001b[0;35m*\u001b[0mY = yC\u001b[0;35m*\u001b[0mC;\r\n",
      "\u001b[0m\u001b[K\u001b[0m\r\n",
      "\u001b[0m\u001b[K\u001b[0;34m% parametric objective function\r\n",
      "\u001b[0m\u001b[K\u001b[0m\r\n",
      "\u001b[0m\u001b[K\u001b[0;32mfloat\u001b[0m: a;\r\n",
      "\u001b[0m\u001b[K\u001b[0;32mfloat\u001b[0m: b;\r\n",
      "\u001b[0m\u001b[K\u001b[0;32mfloat\u001b[0m: c;\r\n",
      "\u001b[0m\u001b[K\u001b[0;32mfloat\u001b[0m: x;\r\n",
      "\u001b[0m\u001b[K\u001b[0;32mfloat\u001b[0m: y;\r\n",
      "\u001b[0m\u001b[K\u001b[0;32mvar\u001b[0m \u001b[0;32mfloat\u001b[0m: f = a\u001b[0;35m*\u001b[0mA\u001b[0;35m+\u001b[0mb\u001b[0;35m*\u001b[0mB\u001b[0;35m+\u001b[0mc\u001b[0;35m*\u001b[0mC\u001b[0;35m+\u001b[0mx\u001b[0;35m*\u001b[0mX\u001b[0;35m+\u001b[0my\u001b[0;35m*\u001b[0mY;\r\n",
      "\u001b[0m\u001b[K\u001b[0m\r\n",
      "\u001b[0m\u001b[K\u001b[0;33msolve\u001b[0m \u001b[0;33mminimize\u001b[0m f;\u001b[0m\r\n"
     ]
    }
   ],
   "source": [
    "!vimcat.sh Fourier.mzn"
   ]
  },
  {
   "cell_type": "code",
   "execution_count": 3,
   "metadata": {},
   "outputs": [
    {
     "name": "stdout",
     "output_type": "stream",
     "text": [
      "Solution(objective=0.0, A=1.0, B=1.0, C=0.0, X=10.0, Y=-0.0, _checker='')\n"
     ]
    }
   ],
   "source": [
    "solution=inf555.minizinc('Fourier.mzn', data={'p':2,'xB':20,'yC':20,'a':0,'b':0,'c':0,'x':0,'y':0}, solver=inf555.cbc)\n",
    "print(solution)"
   ]
  },
  {
   "cell_type": "code",
   "execution_count": 4,
   "metadata": {},
   "outputs": [
    {
     "name": "stdout",
     "output_type": "stream",
     "text": [
      "Solution(objective=0.0, A=0.6000000000000001, B=0.7, C=0.7, X=7.0, Y=7.0, _checker='')\n"
     ]
    }
   ],
   "source": [
    "solution=inf555.minizinc('Fourier.mzn', data={'p': 2,'X':7,'Y':7,'xB':20,'yC':20,'a':0,'b':0,'c':0,'x':0,'y':0}, solver=inf555.cbc)\n",
    "print(solution)"
   ]
  },
  {
   "cell_type": "code",
   "execution_count": 5,
   "metadata": {},
   "outputs": [
    {
     "name": "stdout",
     "output_type": "stream",
     "text": [
      "Solution(objective=0.0, A=1.0, B=1.0, C=1.0, X=6.666666666666667, Y=6.666666666666667, _checker='')\n"
     ]
    }
   ],
   "source": [
    "solution=inf555.minizinc('Fourier.mzn', data={'p':3,'xB':20,'yC':20,'a':0,'b':0,'c':0,'x':0,'y':0}, solver=inf555.cbc)\n",
    "print(solution)"
   ]
  },
  {
   "cell_type": "code",
   "execution_count": 6,
   "metadata": {},
   "outputs": [
    {
     "name": "stdout",
     "output_type": "stream",
     "text": [
      "None\n",
      "UNSATISFIABLE\n"
     ]
    }
   ],
   "source": [
    "solution=inf555.minizinc('Fourier.mzn', data={'p':4,'xB':20,'yC':20,'a':0,'b':0,'c':0,'x':0,'y':0}, solver=inf555.cbc)\n",
    "print(solution)\n",
    "print(solution.status)"
   ]
  },
  {
   "cell_type": "markdown",
   "metadata": {},
   "source": [
    "## Question 1. Query the model to determine the placement of a weight of 2.5 units minimizing the force on A\n"
   ]
  },
  {
   "cell_type": "code",
   "execution_count": null,
   "metadata": {},
   "outputs": [],
   "source": []
  },
  {
   "cell_type": "markdown",
   "metadata": {},
   "source": [
    "## Question 2.  Determine the region where a  weight of 2.5 units can be placed\n",
    "\n",
    "* Query the model to determine below that region \n",
    "\n",
    "* Write your textual answer here\n",
    "\n",
    "...\n",
    "\n",
    "\n",
    "\n",
    "...\n"
   ]
  },
  {
   "cell_type": "code",
   "execution_count": null,
   "metadata": {},
   "outputs": [],
   "source": []
  },
  {
   "cell_type": "code",
   "execution_count": null,
   "metadata": {},
   "outputs": [],
   "source": []
  },
  {
   "cell_type": "code",
   "execution_count": null,
   "metadata": {},
   "outputs": [],
   "source": []
  },
  {
   "cell_type": "code",
   "execution_count": null,
   "metadata": {},
   "outputs": [],
   "source": []
  },
  {
   "cell_type": "markdown",
   "metadata": {},
   "source": [
    "# Part II. Production Planning \n",
    "In this second part we consider the problem of producing goods with capacity constraints and a profit maximization objective.\n",
    "\n",
    "More specifically, we consider that a company makes two products: bands and coils\n",
    "\n",
    "Due to the limited quantity of raw materials for making bands and coils,\n",
    "* the maximum quantity of bands that can be produced is 6000 tonnes,\n",
    "* and 4000 tonnes for coils.\n",
    "\n",
    "Furthermore,\n",
    "* 200 tonnes of bands can be produced per hour,\n",
    "* and 140 tonnes of coils per hour,\n",
    "* and a maximum of 40h can be dedicated to the production.\n",
    "\n",
    "The profit per tonne of bands produced is 25 euros, and 30 euros for coils.\n",
    "  \n",
    "\n",
    "## Question 3. Write a model production.mzn to determine\n",
    "\n",
    "  - the time B to allocate to the production of bands\n",
    "\n",
    "  - and the time C to allocate to the production of coils\n",
    "\n",
    "  - in order to maximize the profit\n",
    "\n",
    "Explain the result\n",
    "\n",
    "*write your textual answer here*\n",
    "\n",
    "...\n",
    "\n",
    "\n",
    "\n",
    "...\n"
   ]
  },
  {
   "cell_type": "code",
   "execution_count": null,
   "metadata": {},
   "outputs": [],
   "source": [
    "!vimcat.sh production.mzn"
   ]
  },
  {
   "cell_type": "code",
   "execution_count": null,
   "metadata": {},
   "outputs": [],
   "source": [
    "print(inf555.minizinc('production.mzn', solver=inf555.cbc))"
   ]
  },
  {
   "cell_type": "markdown",
   "metadata": {},
   "source": [
    "Let us now generalize the problem to any company that makes a list of products, where each product is given with\n",
    "\n",
    "* the profit in euros per tonne of product produced\n",
    "\n",
    "* the maximum quantity of product that can be produced for each product\n",
    "\n",
    "* the number of tonnes produced per hour allocated to the production for each product\n",
    "\n",
    "* the total time allocated to the production\n",
    "\n",
    "and the problem is to determine the list of production times allocated for each product (decision variables)\n",
    "*  satisfying the production data constraints\n",
    "*  the maximum Time for the production\n",
    "*  and maximizing the profit\n",
    "\n",
    "\n",
    "\n",
    "## Question 4.Define in file `generic.mzn` a generic  production planning solver\n",
    "* by fixing a data format for the capacity constraints and profit function\n",
    "* and posting and solving the corresponding constraints\n",
    "\n",
    "Test you program on the data of the simple example above"
   ]
  },
  {
   "cell_type": "code",
   "execution_count": null,
   "metadata": {},
   "outputs": [],
   "source": [
    "!vimcat.sh bandscoils.dzn"
   ]
  },
  {
   "cell_type": "code",
   "execution_count": null,
   "metadata": {},
   "outputs": [],
   "source": [
    "!vimcat.sh generic.mzn"
   ]
  },
  {
   "cell_type": "code",
   "execution_count": null,
   "metadata": {},
   "outputs": [],
   "source": [
    "print(inf555.minizinc('generic.mzn', 'bandscoils.dzn', solver=inf555.cbc))"
   ]
  },
  {
   "cell_type": "code",
   "execution_count": null,
   "metadata": {},
   "outputs": [],
   "source": []
  },
  {
   "cell_type": "markdown",
   "metadata": {},
   "source": [
    "# Part III. Cost-Benefit Analysis\n",
    "\n",
    "Back to the problem and data of question 3, we would like now to solve the dual problem of estimating the \"shadow prices\", or values in euros, of the 3 ressources that constrain our current production capacities, i.e.\n",
    "\n",
    "* the value of one hour of production (currently limited to 40 hours)\n",
    "\n",
    "* the value of the raw materials necessary to produce one tonne of bands (currently limited to 6000 tonnes)\n",
    "\n",
    "* and the value of the raw materials necessary to produce one more tonne of coils (currently limited to 4000 tonnes)\n",
    "\n",
    "Those positive shadow prices for our 3 ressouces must correspond to a greater or equal value of our current production capacity, and can be interpreted as marginal cost-benefit value for each of them.\n",
    "\n",
    "They thus represent the minimum prices per unit of our ressource stock at which it would be profitable to sell them in our current production (or the maximum price at which it is reasonable to buy them in order to augment our production profit).\n",
    "\n",
    "They are determined by minimizing the corresponding value of our current production capacity (since we want minimum prices).\n",
    "\n",
    "  \n",
    "##  Question 5.  Write a model `costbenefit.mzn` to solve this problem "
   ]
  },
  {
   "cell_type": "code",
   "execution_count": null,
   "metadata": {},
   "outputs": [],
   "source": [
    "!vimcat.sh costbenefit.mzn"
   ]
  },
  {
   "cell_type": "code",
   "execution_count": null,
   "metadata": {},
   "outputs": [],
   "source": [
    "print(inf555.minizinc('costbenefit.mzn', solver=inf555.cbc))"
   ]
  },
  {
   "cell_type": "markdown",
   "metadata": {},
   "source": [
    "## Question 6. Explain the result\n",
    "...\n",
    "\n",
    "\n",
    "\n",
    "...\n",
    "\n",
    "\n",
    "\n",
    "...\n"
   ]
  },
  {
   "cell_type": "code",
   "execution_count": null,
   "metadata": {},
   "outputs": [],
   "source": []
  }
 ],
 "metadata": {
  "kernelspec": {
   "display_name": "Python 3 (ipykernel)",
   "language": "python",
   "name": "python3"
  },
  "language_info": {
   "codemirror_mode": {
    "name": "ipython",
    "version": 3
   },
   "file_extension": ".py",
   "mimetype": "text/x-python",
   "name": "python",
   "nbconvert_exporter": "python",
   "pygments_lexer": "ipython3",
   "version": "3.9.6"
  }
 },
 "nbformat": 4,
 "nbformat_minor": 2
}
