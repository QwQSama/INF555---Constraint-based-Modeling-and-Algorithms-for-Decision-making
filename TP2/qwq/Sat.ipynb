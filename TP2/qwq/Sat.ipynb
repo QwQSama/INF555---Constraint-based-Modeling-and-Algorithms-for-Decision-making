{
 "cells": [
  {
   "cell_type": "markdown",
   "metadata": {},
   "source": [
    "### INF555 - Constraint-based Modeling and Algorithms for Decision Making\n",
    "\n",
    "### Ecole Polytechnique - Master of Artificial Intelligence & Advanced Visual Computing (MAI)\n",
    "\n",
    "# TP2: Boolean SAT Models and SAT Solvers \n",
    "In today's TP, \n",
    "* we will first model graph coloring problems as Boolean satisfaction problems in MiniZinc usinf Chuffed's SAT solver and do the same for the N-Queens problem;\n",
    "* then we will a simple Python program for computing one step of **Davis-Putnam** elimination and some **Boolean Constraint Propagation(BCP)**.\n",
    "\n",
    "# Part 1: Boolean modeling\n",
    "\n",
    "## Graph Coloring\n",
    "Let us start with your already favorite example: coloring the Australiant map."
   ]
  },
  {
   "cell_type": "code",
   "execution_count": 207,
   "metadata": {},
   "outputs": [],
   "source": [
    "from IPython.core import page\n",
    "page.page = print"
   ]
  },
  {
   "cell_type": "code",
   "execution_count": 208,
   "metadata": {},
   "outputs": [],
   "source": [
    "import inf555"
   ]
  },
  {
   "cell_type": "code",
   "execution_count": 209,
   "metadata": {},
   "outputs": [
    {
     "name": "stdout",
     "output_type": "stream",
     "text": [
      "\u001b[0m\u001b[K\u001b[0mVertices = {wa, nt, sa, q, nsw, v};\r\n",
      "\u001b[0m\u001b[K\u001b[0mNbEdges = \u001b[0;31m1\u001b[0;35m..\u001b[0;31m9\u001b[0m;\r\n",
      "\u001b[0m\u001b[K\u001b[0mEdges1 = [wa, wa, nt, nt, sa, sa, sa, q, nsw];\r\n",
      "\u001b[0m\u001b[K\u001b[0mEdges2 = [nt, sa, sa, q, q, nsw, v, nsw, v];\u001b[0m\r\n"
     ]
    }
   ],
   "source": [
    "!vimcat.sh aust_param.dzn"
   ]
  },
  {
   "cell_type": "markdown",
   "metadata": {},
   "source": [
    "As a reminder, we have already solved the decision problem to coloring a graph defined in the format above with at most `nc` colors, using the following MiniZinc model with integer decision variables:"
   ]
  },
  {
   "cell_type": "code",
   "execution_count": 210,
   "metadata": {},
   "outputs": [
    {
     "name": "stdout",
     "output_type": "stream",
     "text": [
      "\u001b[0m\u001b[K\u001b[0;32mint\u001b[0m: nc;\r\n",
      "\u001b[0m\u001b[K\u001b[0;32menum\u001b[0m Vertices;\r\n",
      "\u001b[0m\u001b[K\u001b[0;32mset\u001b[0m \u001b[0;32mof\u001b[0m \u001b[0;32mint\u001b[0m: NbEdges;\r\n",
      "\u001b[0m\u001b[K\u001b[0;32marray\u001b[0m[NbEdges] \u001b[0;32mof\u001b[0m Vertices: Edges1;\r\n",
      "\u001b[0m\u001b[K\u001b[0;32marray\u001b[0m[NbEdges] \u001b[0;32mof\u001b[0m Vertices: Edges2;\r\n",
      "\u001b[0m\u001b[K\u001b[0m\r\n",
      "\u001b[0m\u001b[K\u001b[0;32marray\u001b[0m[Vertices] \u001b[0;32mof\u001b[0m \u001b[0;32mvar\u001b[0m \u001b[0;32mint\u001b[0m: Color;\r\n",
      "\u001b[0m\u001b[K\u001b[0;33mconstraint\u001b[0m \u001b[0;36mforall\u001b[0m (color \u001b[0;33min\u001b[0m Color)(color \u001b[0;35m>=\u001b[0;31m0\u001b[0m \u001b[0;35m/\\\u001b[0m color \u001b[0;35m<\u001b[0m nc);\r\n",
      "\u001b[0m\u001b[K\u001b[0;33mconstraint\u001b[0m \u001b[0;36mforall\u001b[0m (n \u001b[0;33min\u001b[0m NbEdges)(Color[Edges1[n]] \u001b[0;35m!=\u001b[0m Color[Edges2[n]]);\r\n",
      "\u001b[0m\u001b[K\u001b[0m\r\n",
      "\u001b[0m\u001b[K\u001b[0;33msolve\u001b[0m \u001b[0;33msatisfy\u001b[0m;\u001b[0m\r\n"
     ]
    }
   ],
   "source": [
    "!vimcat.sh aust_param.mzn"
   ]
  },
  {
   "cell_type": "code",
   "execution_count": 211,
   "metadata": {},
   "outputs": [
    {
     "name": "stdout",
     "output_type": "stream",
     "text": [
      "Solution(Color=[2, 1, 0, 2, 1, 2], _checker='')\n"
     ]
    }
   ],
   "source": [
    "print(inf555.minizinc('aust_param.mzn', 'aust_param.dzn', data={'nc': 3}, solver=inf555.chuffed))"
   ]
  },
  {
   "cell_type": "markdown",
   "metadata": {},
   "source": [
    "## Question 1. Write a BOOLEAN model for the graph coloring problem \n",
    "* in a [bool_graph.mzn](bool_graph.mzn) file\n",
    "* to check the coloriability with `nc` colors of the graph given in [aust_param.dzn](aust_param.dzn) file.\n",
    "\n",
    "One will use only\n",
    "* Boolean (`bool`) variables\n",
    "* and put the constraints in CNF, i.e., \n",
    " * conjunctions (`/\\` or `forall`)\n",
    " * of disjunctions (`\\/` or `exists`)\n",
    "\n",
    "We use the Chuffed solver that relies on a SAT solver for the Boolean part."
   ]
  },
  {
   "cell_type": "code",
   "execution_count": 212,
   "metadata": {},
   "outputs": [
    {
     "name": "stdout",
     "output_type": "stream",
     "text": [
      "Solution(Color=[[True, False, False], [False, True, False], [False, False, True], [True, False, False], [False, True, False], [True, False, False]], _checker='')\n"
     ]
    }
   ],
   "source": [
    "print(inf555.minizinc('bool_graph.mzn', 'aust_param.dzn', data={'nc': 3}, solver=inf555.chuffed))"
   ]
  },
  {
   "cell_type": "markdown",
   "metadata": {},
   "source": [
    "## N-Queens \n",
    "\n",
    "Last week we saw a constraint-based model over the integer domain for solving the Nqueens problem."
   ]
  },
  {
   "cell_type": "code",
   "execution_count": 213,
   "metadata": {},
   "outputs": [
    {
     "name": "stdout",
     "output_type": "stream",
     "text": [
      "\u001b[0m\u001b[K\u001b[0;32mint\u001b[0m: n;\r\n",
      "\u001b[0m\u001b[K\u001b[0;32marray\u001b[0m[\u001b[0;31m1\u001b[0;35m..\u001b[0mn] \u001b[0;32mof\u001b[0m \u001b[0;32mvar\u001b[0m \u001b[0;31m1\u001b[0;35m..\u001b[0mn: queens;\r\n",
      "\u001b[0m\u001b[K\u001b[0m\r\n",
      "\u001b[0m\u001b[K\u001b[0;33mconstraint\u001b[0m \u001b[0;36mforall\u001b[0m (i, j \u001b[0;33min\u001b[0m \u001b[0;31m1\u001b[0;35m..\u001b[0mn \u001b[0;33mwhere\u001b[0m i \u001b[0;35m<\u001b[0m j) (\r\n",
      "\u001b[0m\u001b[K\u001b[0m   queens[i] \u001b[0;35m!=\u001b[0m queens[j] \u001b[0;35m/\\\r\n",
      "\u001b[0m\u001b[K\u001b[0m   queens[i] \u001b[0;35m!=\u001b[0m queens[j] \u001b[0;35m+\u001b[0m j \u001b[0;35m-\u001b[0m i \u001b[0;35m/\\\r\n",
      "\u001b[0m\u001b[K\u001b[0m   queens[i] \u001b[0;35m!=\u001b[0m queens[j] \u001b[0;35m+\u001b[0m i \u001b[0;35m-\u001b[0m j\r\n",
      "\u001b[0m\u001b[K\u001b[0m);\r\n",
      "\u001b[0m\u001b[K\u001b[0m\r\n",
      "\u001b[0m\u001b[K\u001b[0;33msolve\u001b[0m \u001b[0;33msatisfy\u001b[0m;\r\n",
      "\u001b[0m\u001b[K\u001b[0m\r\n",
      "\u001b[0m\u001b[K\u001b[0;33moutput\u001b[0m [\u001b[0;33mif\u001b[0m fix(queens[j]) \u001b[0;35m==\u001b[0m i \u001b[0;33mthen\u001b[0m \u001b[0;31m\"Q\"\u001b[0m \u001b[0;33melse\u001b[0m \u001b[0;31m\".\"\u001b[0m \u001b[0;33mendif\u001b[0m \u001b[0;35m++\r\n",
      "\u001b[0m\u001b[K\u001b[0m        \u001b[0;33mif\u001b[0m j \u001b[0;35m==\u001b[0m n \u001b[0;33mthen\u001b[0m \u001b[0;31m\"\u001b[0;35m\\n\u001b[0;31m\"\u001b[0m \u001b[0;33melse\u001b[0m \u001b[0;31m\" \"\u001b[0m \u001b[0;33mendif\u001b[0m | i,j \u001b[0;33min\u001b[0m \u001b[0;31m1\u001b[0;35m..\u001b[0mn]\u001b[0m\r\n"
     ]
    }
   ],
   "source": [
    "!vimcat.sh nqueens.mzn"
   ]
  },
  {
   "cell_type": "code",
   "execution_count": 214,
   "metadata": {},
   "outputs": [
    {
     "name": "stdout",
     "output_type": "stream",
     "text": [
      ". . . . . . Q . . . . . . . . .\n",
      ". . . . . . . . Q . . . . . . .\n",
      ". . . . . Q . . . . . . . . . .\n",
      ". . . . . . . . . . . Q . . . .\n",
      ". . . . . . . . . Q . . . . . .\n",
      "Q . . . . . . . . . . . . . . .\n",
      ". . . . . . . . . . Q . . . . .\n",
      ". Q . . . . . . . . . . . . . .\n",
      ". . . . Q . . . . . . . . . . .\n",
      ". . Q . . . . . . . . . . . . .\n",
      ". . . . . . . Q . . . . . . . .\n",
      ". . . . . . . . . . . . . Q . .\n",
      ". . . Q . . . . . . . . . . . .\n",
      ". . . . . . . . . . . . . . Q .\n",
      ". . . . . . . . . . . . Q . . .\n",
      ". . . . . . . . . . . . . . . Q\n",
      "\n"
     ]
    }
   ],
   "source": [
    "print(inf555.minizinc('nqueens.mzn', data={'n': 16}, solver=inf555.chuffed))"
   ]
  },
  {
   "cell_type": "markdown",
   "metadata": {},
   "source": [
    "## Question 2. Write a BOOLEAN model for the N-Queens problem\n",
    "* in MiniZinc in a [bool_nqueens.mzn](bool_nqueens.mzn) file\n",
    "* using Boolean variables only \n",
    "* and test it on $n=16$"
   ]
  },
  {
   "cell_type": "code",
   "execution_count": 215,
   "metadata": {},
   "outputs": [
    {
     "name": "stdout",
     "output_type": "stream",
     "text": [
      "\u001b[0m\u001b[K\u001b[0;32mint\u001b[0m: n;\r\n",
      "\u001b[0m\u001b[K\u001b[0;32marray\u001b[0m[\u001b[0;31m1\u001b[0;35m..\u001b[0mn,\u001b[0;31m1\u001b[0;35m..\u001b[0mn] \u001b[0;32mof\u001b[0m \u001b[0;32mvar\u001b[0m \u001b[0;32mbool\u001b[0m: queens;\r\n",
      "\u001b[0m\u001b[K\u001b[0m\r\n",
      "\u001b[0m\u001b[K\u001b[0;33mconstraint\u001b[0m \r\n",
      "\u001b[0m\u001b[K\u001b[0m    \u001b[0;36mforall\u001b[0m (i \u001b[0;33min\u001b[0m \u001b[0;31m1\u001b[0;35m..\u001b[0mn) \r\n",
      "\u001b[0m\u001b[K\u001b[0m    (\r\n",
      "\u001b[0m\u001b[K\u001b[0m        \u001b[0;36mexists\u001b[0m(j \u001b[0;33min\u001b[0m \u001b[0;31m1\u001b[0;35m..\u001b[0mn) (queens[i,j])\r\n",
      "\u001b[0m\u001b[K\u001b[0m    );\r\n",
      "\u001b[0m\u001b[K\u001b[0m\r\n",
      "\u001b[0m\u001b[K\u001b[0;33mconstraint\u001b[0m \r\n",
      "\u001b[0m\u001b[K\u001b[0m    \u001b[0;36mforall\u001b[0m (i \u001b[0;33min\u001b[0m \u001b[0;31m1\u001b[0;35m..\u001b[0mn) \r\n",
      "\u001b[0m\u001b[K\u001b[0m    (\r\n",
      "\u001b[0m\u001b[K\u001b[0m        \u001b[0;36mexists\u001b[0m(j \u001b[0;33min\u001b[0m \u001b[0;31m1\u001b[0;35m..\u001b[0mn) (queens[j,i])\r\n",
      "\u001b[0m\u001b[K\u001b[0m    );\r\n",
      "\u001b[0m\u001b[K\u001b[0m\r\n",
      "\u001b[0m\u001b[K\u001b[0;33mconstraint\u001b[0m \r\n",
      "\u001b[0m\u001b[K\u001b[0m    \u001b[0;36mforall\u001b[0m (i \u001b[0;33min\u001b[0m \u001b[0;31m1\u001b[0;35m..\u001b[0mn) \r\n",
      "\u001b[0m\u001b[K\u001b[0m    (\r\n",
      "\u001b[0m\u001b[K\u001b[0m        \u001b[0;36mforall\u001b[0m(j,k \u001b[0;33min\u001b[0m \u001b[0;31m1\u001b[0;35m..\u001b[0mn \u001b[0;33mwhere\u001b[0m j\u001b[0;35m!=\u001b[0mk) \r\n",
      "\u001b[0m\u001b[K\u001b[0m            (\u001b[0;35mnot\u001b[0m (queens[i,j] \u001b[0;35m/\\\u001b[0m queens[i,k]))\r\n",
      "\u001b[0m\u001b[K\u001b[0m    );\r\n",
      "\u001b[0m\u001b[K\u001b[0m\r\n",
      "\u001b[0m\u001b[K\u001b[0;33mconstraint\u001b[0m \r\n",
      "\u001b[0m\u001b[K\u001b[0m    \u001b[0;36mforall\u001b[0m (i \u001b[0;33min\u001b[0m \u001b[0;31m1\u001b[0;35m..\u001b[0mn) \r\n",
      "\u001b[0m\u001b[K\u001b[0m    (\r\n",
      "\u001b[0m\u001b[K\u001b[0m        \u001b[0;36mforall\u001b[0m(j,k \u001b[0;33min\u001b[0m \u001b[0;31m1\u001b[0;35m..\u001b[0mn \u001b[0;33mwhere\u001b[0m j\u001b[0;35m!=\u001b[0mk) \r\n",
      "\u001b[0m\u001b[K\u001b[0m            (\u001b[0;35mnot\u001b[0m (queens[j,i] \u001b[0;35m/\\\u001b[0m queens[k,i]))\r\n",
      "\u001b[0m\u001b[K\u001b[0m    );\r\n",
      "\u001b[0m\u001b[K\u001b[0m\r\n",
      "\u001b[0m\u001b[K\u001b[0;33mconstraint\u001b[0m \r\n",
      "\u001b[0m\u001b[K\u001b[0m    \u001b[0;36mforall\u001b[0m (i,j \u001b[0;33min\u001b[0m \u001b[0;31m1\u001b[0;35m..\u001b[0mn) \r\n",
      "\u001b[0m\u001b[K\u001b[0m    (\r\n",
      "\u001b[0m\u001b[K\u001b[0m        \u001b[0;36mforall\u001b[0m(k \u001b[0;33min\u001b[0m \u001b[0;31m1\u001b[0;35m..\u001b[0mn) \r\n",
      "\u001b[0m\u001b[K\u001b[0m            ((\u001b[0;35mnot\u001b[0m (queens[i,j] \u001b[0;35m/\\\u001b[0m queens[i\u001b[0;35m+\u001b[0mk,j\u001b[0;35m+\u001b[0mk])) \u001b[0;35m/\\\u001b[0m (\u001b[0;35mnot\u001b[0m (queens[i,j] \u001b[0;35m/\\\u001b[0m quee\u001b[0;1;37;41mns[i-k,j+k])))\r\n",
      "\u001b[0m\u001b[K\u001b[0m    );\r\n",
      "\u001b[0m\u001b[K\u001b[0m\r\n",
      "\u001b[0m\u001b[K\u001b[0;33msolve\u001b[0m \u001b[0;33msatisfy\u001b[0m;\r\n",
      "\u001b[0m\u001b[K\u001b[0m\r\n",
      "\u001b[0m\u001b[K\u001b[0;33moutput\u001b[0m [\u001b[0;33mif\u001b[0m fix(queens[i,j]) \u001b[0;33mthen\u001b[0m \u001b[0;31m\"Q\"\u001b[0m \u001b[0;33melse\u001b[0m \u001b[0;31m\".\"\u001b[0m \u001b[0;33mendif\u001b[0m \u001b[0;35m++\r\n",
      "\u001b[0m\u001b[K\u001b[0m        \u001b[0;33mif\u001b[0m j \u001b[0;35m==\u001b[0m n \u001b[0;33mthen\u001b[0m \u001b[0;31m\"\u001b[0;35m\\n\u001b[0;31m\"\u001b[0m \u001b[0;33melse\u001b[0m \u001b[0;31m\" \"\u001b[0m \u001b[0;33mendif\u001b[0m | i,j \u001b[0;33min\u001b[0m \u001b[0;31m1\u001b[0;35m..\u001b[0mn]\u001b[0m\r\n"
     ]
    }
   ],
   "source": [
    "!vimcat.sh bool_nqueens.mzn"
   ]
  },
  {
   "cell_type": "code",
   "execution_count": 216,
   "metadata": {},
   "outputs": [
    {
     "name": "stdout",
     "output_type": "stream",
     "text": [
      ". . . . . . . . . Q . . . . . .\n",
      ". . . . . . . Q . . . . . . . .\n",
      ". . . . . . . . . . Q . . . . .\n",
      ". . . Q . . . . . . . . . . . .\n",
      ". . . . . . Q . . . . . . . . .\n",
      ". . . . . . . . . . . . . . . Q\n",
      ". . . . . Q . . . . . . . . . .\n",
      ". . . . . . . . . . . . . . Q .\n",
      ". . . . . . . . . . . Q . . . .\n",
      ". . . . . . . . . . . . . Q . .\n",
      ". . . . . . . . Q . . . . . . .\n",
      ". . . . . . . . . . . . Q . . .\n",
      ". Q . . . . . . . . . . . . . .\n",
      ". . . . Q . . . . . . . . . . .\n",
      ". . Q . . . . . . . . . . . . .\n",
      "Q . . . . . . . . . . . . . . .\n",
      "\n"
     ]
    }
   ],
   "source": [
    "print(inf555.minizinc('bool_nqueens.mzn', data={'n': 16}, solver=inf555.chuffed))"
   ]
  },
  {
   "cell_type": "markdown",
   "metadata": {},
   "source": [
    "# Part 2: SAT Solver\n",
    "\n",
    "Let us start with a small Python function that reduces clauses _à la_ Davis-Putnam.\n",
    "\n",
    "You might want to re-read https://docs.python.org/3/tutorial/index.html chapters 3, 4 and 5 if you are not familiar with Python.\n",
    "\n",
    "We will represent\n",
    "* clauses by sets,\n",
    "* variables by positive integers,\n",
    "* and negation by negative values.\n",
    "\n",
    "For instance the clause _(b + c' + f')_ becomes `{2, -3, -6}`\n",
    "\n",
    "We will use the classical encoding of CNF files where\n",
    "* the first line of the file is `p cnf V C`\n",
    " * where `V` is the number of variables\n",
    " * and `C` the number of clauses\n",
    "* then each clause is written on a line,\n",
    " * with literals as above,\n",
    " * separated by spaces,\n",
    " * line ended by a conventional `0`.\n",
    "\n",
    "## Question 3. Modify the file named [dp.py](dp.py)([VSCode](http://localhost:8080/?folder=/home/jovyan)) \n",
    "such that the function `davis_putnam`\n",
    "* takes a list of clauses (sets) and a variable (integer),\n",
    "* returns a new list of sets with the given variable eliminated***\n",
    "\n",
    "We should have, as shown in the slides:\n",
    "\n",
    "`davis_putnam([{1, 2, 3}, {2, -3, -6}, {-2, 5}], 2)` -> `[{1, 3, 5}, {-6, -3, 5}]`\n",
    "\n",
    "For the moment, we do not care about the satisfiability of the resulting clauses."
   ]
  },
  {
   "cell_type": "code",
   "execution_count": 217,
   "metadata": {},
   "outputs": [
    {
     "name": "stdout",
     "output_type": "stream",
     "text": [
      "The autoreload extension is already loaded. To reload it, use:\n",
      "  %reload_ext autoreload\n"
     ]
    }
   ],
   "source": [
    "%load_ext autoreload\n",
    "%autoreload 2"
   ]
  },
  {
   "cell_type": "code",
   "execution_count": 218,
   "metadata": {},
   "outputs": [],
   "source": [
    "from dp import davis_putnam"
   ]
  },
  {
   "cell_type": "code",
   "execution_count": 219,
   "metadata": {},
   "outputs": [
    {
     "name": "stdout",
     "output_type": "stream",
     "text": [
      "\u001b[0;31m# These are Python3 type-annotations\u001b[0m\u001b[0;34m\u001b[0m\n",
      "\u001b[0;34m\u001b[0m\u001b[0;32mfrom\u001b[0m \u001b[0mtyping\u001b[0m \u001b[0;32mimport\u001b[0m \u001b[0mList\u001b[0m\u001b[0;34m,\u001b[0m \u001b[0mSet\u001b[0m\u001b[0;34m\u001b[0m\n",
      "\u001b[0;34m\u001b[0m\u001b[0mVar\u001b[0m \u001b[0;34m=\u001b[0m \u001b[0mint\u001b[0m\u001b[0;34m\u001b[0m\n",
      "\u001b[0;34m\u001b[0m\u001b[0mLiteral\u001b[0m \u001b[0;34m=\u001b[0m \u001b[0mint\u001b[0m\u001b[0;34m\u001b[0m\n",
      "\u001b[0;34m\u001b[0m\u001b[0mClause\u001b[0m \u001b[0;34m=\u001b[0m \u001b[0mSet\u001b[0m\u001b[0;34m[\u001b[0m\u001b[0mLiteral\u001b[0m\u001b[0;34m]\u001b[0m\u001b[0;34m\u001b[0m\n",
      "\u001b[0;34m\u001b[0m\u001b[0mInstance\u001b[0m \u001b[0;34m=\u001b[0m \u001b[0mList\u001b[0m\u001b[0;34m[\u001b[0m\u001b[0mClause\u001b[0m\u001b[0;34m]\u001b[0m\u001b[0;34m\u001b[0m\n",
      "\u001b[0;34m\u001b[0m\u001b[0;34m\u001b[0m\n",
      "\u001b[0;34m\u001b[0m\u001b[0;34m\u001b[0m\n",
      "\u001b[0;34m\u001b[0m\u001b[0;32mdef\u001b[0m \u001b[0mdavis_putnam\u001b[0m\u001b[0;34m(\u001b[0m\u001b[0minstance\u001b[0m\u001b[0;34m:\u001b[0m \u001b[0mInstance\u001b[0m\u001b[0;34m,\u001b[0m \u001b[0mvar\u001b[0m\u001b[0;34m:\u001b[0m \u001b[0mVar\u001b[0m\u001b[0;34m)\u001b[0m \u001b[0;34m->\u001b[0m \u001b[0mInstance\u001b[0m\u001b[0;34m:\u001b[0m\u001b[0;34m\u001b[0m\n",
      "\u001b[0;34m\u001b[0m    \u001b[0;34m\"\"\"Eliminate var from instance using Davis-Putnam algorithm.\"\"\"\u001b[0m\u001b[0;34m\u001b[0m\n",
      "\u001b[0;34m\u001b[0m    \u001b[0mL_no_x\u001b[0m \u001b[0;34m=\u001b[0m \u001b[0;34m[\u001b[0m\u001b[0;34m]\u001b[0m\u001b[0;34m\u001b[0m\n",
      "\u001b[0;34m\u001b[0m    \u001b[0mL_xp\u001b[0m \u001b[0;34m=\u001b[0m \u001b[0;34m[\u001b[0m\u001b[0;34m]\u001b[0m \u001b[0;34m\u001b[0m\n",
      "\u001b[0;34m\u001b[0m    \u001b[0mL_xn\u001b[0m \u001b[0;34m=\u001b[0m \u001b[0;34m[\u001b[0m\u001b[0;34m]\u001b[0m\u001b[0;34m\u001b[0m\n",
      "\u001b[0;34m\u001b[0m    \u001b[0;32mfor\u001b[0m \u001b[0mc\u001b[0m \u001b[0;32min\u001b[0m \u001b[0minstance\u001b[0m\u001b[0;34m:\u001b[0m\u001b[0;34m\u001b[0m\n",
      "\u001b[0;34m\u001b[0m        \u001b[0;32mif\u001b[0m \u001b[0mvar\u001b[0m \u001b[0;32min\u001b[0m \u001b[0mc\u001b[0m\u001b[0;34m:\u001b[0m\u001b[0;34m\u001b[0m\n",
      "\u001b[0;34m\u001b[0m            \u001b[0mL_xp\u001b[0m\u001b[0;34m.\u001b[0m\u001b[0mappend\u001b[0m\u001b[0;34m(\u001b[0m\u001b[0mc\u001b[0m \u001b[0;34m-\u001b[0m \u001b[0;34m{\u001b[0m\u001b[0mvar\u001b[0m\u001b[0;34m}\u001b[0m\u001b[0;34m)\u001b[0m\u001b[0;34m\u001b[0m\n",
      "\u001b[0;34m\u001b[0m        \u001b[0;32melif\u001b[0m \u001b[0;34m-\u001b[0m\u001b[0mvar\u001b[0m \u001b[0;32min\u001b[0m \u001b[0mc\u001b[0m\u001b[0;34m:\u001b[0m\u001b[0;34m\u001b[0m\n",
      "\u001b[0;34m\u001b[0m            \u001b[0mL_xn\u001b[0m\u001b[0;34m.\u001b[0m\u001b[0mappend\u001b[0m\u001b[0;34m(\u001b[0m\u001b[0mc\u001b[0m \u001b[0;34m-\u001b[0m \u001b[0;34m{\u001b[0m\u001b[0;34m-\u001b[0m\u001b[0mvar\u001b[0m\u001b[0;34m}\u001b[0m\u001b[0;34m)\u001b[0m\u001b[0;34m\u001b[0m\n",
      "\u001b[0;34m\u001b[0m        \u001b[0;32melse\u001b[0m\u001b[0;34m:\u001b[0m\u001b[0;34m\u001b[0m\n",
      "\u001b[0;34m\u001b[0m            \u001b[0mL_no_x\u001b[0m\u001b[0;34m.\u001b[0m\u001b[0mappend\u001b[0m\u001b[0;34m(\u001b[0m\u001b[0mc\u001b[0m\u001b[0;34m)\u001b[0m\u001b[0;34m\u001b[0m\n",
      "\u001b[0;34m\u001b[0m    \u001b[0minstance\u001b[0m \u001b[0;34m=\u001b[0m \u001b[0;34m[\u001b[0m\u001b[0;34m]\u001b[0m\u001b[0;34m\u001b[0m\n",
      "\u001b[0;34m\u001b[0m    \u001b[0;32mfor\u001b[0m \u001b[0mc\u001b[0m \u001b[0;32min\u001b[0m \u001b[0mL_no_x\u001b[0m\u001b[0;34m:\u001b[0m\u001b[0;34m\u001b[0m\n",
      "\u001b[0;34m\u001b[0m        \u001b[0minstance\u001b[0m\u001b[0;34m.\u001b[0m\u001b[0mappend\u001b[0m\u001b[0;34m(\u001b[0m\u001b[0mc\u001b[0m\u001b[0;34m)\u001b[0m\u001b[0;34m\u001b[0m\n",
      "\u001b[0;34m\u001b[0m    \u001b[0;34m\u001b[0m\n",
      "\u001b[0;34m\u001b[0m    \u001b[0;32mfor\u001b[0m \u001b[0mcp\u001b[0m \u001b[0;32min\u001b[0m \u001b[0mL_xp\u001b[0m\u001b[0;34m:\u001b[0m\u001b[0;34m\u001b[0m\n",
      "\u001b[0;34m\u001b[0m        \u001b[0;32mfor\u001b[0m \u001b[0mcn\u001b[0m \u001b[0;32min\u001b[0m \u001b[0mL_xn\u001b[0m\u001b[0;34m:\u001b[0m\u001b[0;34m\u001b[0m\n",
      "\u001b[0;34m\u001b[0m            \u001b[0minstance\u001b[0m\u001b[0;34m.\u001b[0m\u001b[0mappend\u001b[0m\u001b[0;34m(\u001b[0m\u001b[0mcp\u001b[0m \u001b[0;34m|\u001b[0m \u001b[0mcn\u001b[0m\u001b[0;34m)\u001b[0m\u001b[0;34m\u001b[0m\n",
      "\u001b[0;34m\u001b[0m\u001b[0;34m\u001b[0m\n",
      "\u001b[0;34m\u001b[0m\u001b[0;34m\u001b[0m\n",
      "\u001b[0;34m\u001b[0m    \u001b[0;32mreturn\u001b[0m \u001b[0minstance\u001b[0m\u001b[0;34m\u001b[0m\u001b[0;34m\u001b[0m\u001b[0m\n",
      "\n"
     ]
    }
   ],
   "source": [
    "%pycat dp.py"
   ]
  },
  {
   "cell_type": "code",
   "execution_count": 220,
   "metadata": {},
   "outputs": [
    {
     "data": {
      "text/plain": [
       "[{1, 3, 5}, {-6, -3, 5}]"
      ]
     },
     "execution_count": 220,
     "metadata": {},
     "output_type": "execute_result"
    }
   ],
   "source": [
    "davis_putnam([{1, 2, 3}, {2, -3, -6}, {-2, 5}], 2)"
   ]
  },
  {
   "cell_type": "markdown",
   "metadata": {},
   "source": [
    "Ensure that the result is correct even if the given variable appears only once or even not at all."
   ]
  },
  {
   "cell_type": "code",
   "execution_count": 221,
   "metadata": {},
   "outputs": [
    {
     "data": {
      "text/plain": [
       "[{1, 2, 3}, {-6, -3, 2}]"
      ]
     },
     "execution_count": 221,
     "metadata": {},
     "output_type": "execute_result"
    }
   ],
   "source": [
    "davis_putnam([{1, 2, 3}, {2, -3, -6}, {-2, 5}], 5)"
   ]
  },
  {
   "cell_type": "code",
   "execution_count": 222,
   "metadata": {},
   "outputs": [
    {
     "data": {
      "text/plain": [
       "[{1, 2, 3}, {-6, -3, 2}, {-2, 5}]"
      ]
     },
     "execution_count": 222,
     "metadata": {},
     "output_type": "execute_result"
    }
   ],
   "source": [
    "davis_putnam([{1, 2, 3}, {2, -3, -6}, {-2, 5}], 4)"
   ]
  },
  {
   "cell_type": "markdown",
   "metadata": {},
   "source": [
    "## Question 4. What result indicates a SAT problem? an UNSAT problem?\n",
    "\n",
    "_Give examples in the cells below and write your answer here_\n",
    "\n",
    "make sure there each variable exists at most once in a clause\n",
    "\n",
    "run davis_putnam function until only one clause remian\n",
    "\n",
    "if the last claue is not empty then SAT else UNSAT"
   ]
  },
  {
   "cell_type": "markdown",
   "metadata": {},
   "source": [
    "SAT Example"
   ]
  },
  {
   "cell_type": "code",
   "execution_count": 223,
   "metadata": {},
   "outputs": [
    {
     "data": {
      "text/plain": [
       "[{-2, 5}, {-6, 1, 2}]"
      ]
     },
     "execution_count": 223,
     "metadata": {},
     "output_type": "execute_result"
    }
   ],
   "source": [
    "davis_putnam([{1, 2, 3}, {2, -3, -6}, {-2, 5}], 3)"
   ]
  },
  {
   "cell_type": "code",
   "execution_count": 224,
   "metadata": {},
   "outputs": [
    {
     "data": {
      "text/plain": [
       "[{-6, 1, 5}]"
      ]
     },
     "execution_count": 224,
     "metadata": {},
     "output_type": "execute_result"
    }
   ],
   "source": [
    "davis_putnam([{-2, 5}, {-6, 1, 2}], 2)"
   ]
  },
  {
   "cell_type": "markdown",
   "metadata": {},
   "source": [
    "UNSAT Example"
   ]
  },
  {
   "cell_type": "code",
   "execution_count": 225,
   "metadata": {},
   "outputs": [
    {
     "data": {
      "text/plain": [
       "[{2}, {-5, -2}, {5}]"
      ]
     },
     "execution_count": 225,
     "metadata": {},
     "output_type": "execute_result"
    }
   ],
   "source": [
    "davis_putnam([{1, 2}, {2}, {-2, -5},{5}], 1)"
   ]
  },
  {
   "cell_type": "code",
   "execution_count": 226,
   "metadata": {},
   "outputs": [
    {
     "data": {
      "text/plain": [
       "[{2}, {-2}]"
      ]
     },
     "execution_count": 226,
     "metadata": {},
     "output_type": "execute_result"
    }
   ],
   "source": [
    "davis_putnam([{2}, {-2, -5}, {5}], 5)"
   ]
  },
  {
   "cell_type": "code",
   "execution_count": 227,
   "metadata": {},
   "outputs": [
    {
     "data": {
      "text/plain": [
       "[set()]"
      ]
     },
     "execution_count": 227,
     "metadata": {},
     "output_type": "execute_result"
    }
   ],
   "source": [
    "davis_putnam([{2}, {-2}], 2)"
   ]
  },
  {
   "cell_type": "markdown",
   "metadata": {},
   "source": [
    "## Question 5. Give one example where the number of clauses grows\n",
    "\n",
    "_give comments here_\n",
    "\n",
    "for a list of clauses, we replace all clauses containing x or -x with clauses in number of at lost n*m \n",
    "(where n in the number of clauses containing x and m is the number of clauses containing -x, at most because some clause maybe a unit clause containg only x or -x)\n",
    "\n",
    "So when n*m > n+m, the number of clauses grows\n",
    "\n",
    "in this case n=m=3, and no unit clause, then new list has n*m=9 clauses and origin list has only 6 clauses\n"
   ]
  },
  {
   "cell_type": "code",
   "execution_count": 228,
   "metadata": {},
   "outputs": [
    {
     "data": {
      "text/plain": [
       "[{2, 5}, {2, 6}, {2, 7}, {3, 5}, {3, 6}, {3, 7}, {4, 5}, {4, 6}, {4, 7}]"
      ]
     },
     "execution_count": 228,
     "metadata": {},
     "output_type": "execute_result"
    }
   ],
   "source": [
    "davis_putnam([{1, 2}, {1,3}, {1,4},{-1,5},{-1,6},{-1,7}], 1)"
   ]
  },
  {
   "cell_type": "markdown",
   "metadata": {},
   "source": [
    "Let us now implement the part that is common to DP and D(P)LL, i.e., the unit propagation or BCP.\n",
    "\n",
    "## Question 6. In the file [bcp.py](bcp.py), define a function `unit_propagate` \n",
    "* that takes an instance and a current assignment, as an ordered list of 'Unassigned', 'True', 'False' values, \n",
    "* and applies all Boolean clause rewritings\n",
    "* before returning the resulting instance and assignment.\n",
    "\n",
    "It should have done all possible propagations but can be naive and inefficient.\n",
    "\n",
    "* An empty instance with a non-empty assignment will indicate **SAT**\n",
    "* whereas by convention an empty assignment will indicate **UNSAT**."
   ]
  },
  {
   "cell_type": "code",
   "execution_count": 229,
   "metadata": {},
   "outputs": [
    {
     "name": "stdout",
     "output_type": "stream",
     "text": [
      "\u001b[0;32mfrom\u001b[0m \u001b[0menum\u001b[0m \u001b[0;32mimport\u001b[0m \u001b[0mEnum\u001b[0m\u001b[0;34m\u001b[0m\n",
      "\u001b[0;34m\u001b[0m\u001b[0;32mfrom\u001b[0m \u001b[0mtyping\u001b[0m \u001b[0;32mimport\u001b[0m \u001b[0mList\u001b[0m\u001b[0;34m,\u001b[0m \u001b[0mSet\u001b[0m\u001b[0;34m\u001b[0m\n",
      "\u001b[0;34m\u001b[0m\u001b[0mVar\u001b[0m \u001b[0;34m=\u001b[0m \u001b[0mint\u001b[0m\u001b[0;34m\u001b[0m\n",
      "\u001b[0;34m\u001b[0m\u001b[0mLiteral\u001b[0m \u001b[0;34m=\u001b[0m \u001b[0mint\u001b[0m\u001b[0;34m\u001b[0m\n",
      "\u001b[0;34m\u001b[0m\u001b[0mClause\u001b[0m \u001b[0;34m=\u001b[0m \u001b[0mSet\u001b[0m\u001b[0;34m[\u001b[0m\u001b[0mLiteral\u001b[0m\u001b[0;34m]\u001b[0m\u001b[0;34m\u001b[0m\n",
      "\u001b[0;34m\u001b[0m\u001b[0mInstance\u001b[0m \u001b[0;34m=\u001b[0m \u001b[0mList\u001b[0m\u001b[0;34m[\u001b[0m\u001b[0mClause\u001b[0m\u001b[0;34m]\u001b[0m\u001b[0;34m\u001b[0m\n",
      "\u001b[0;34m\u001b[0m\u001b[0;34m\u001b[0m\n",
      "\u001b[0;34m\u001b[0m\u001b[0mValue\u001b[0m \u001b[0;34m=\u001b[0m \u001b[0mEnum\u001b[0m\u001b[0;34m(\u001b[0m\u001b[0;34m'Value'\u001b[0m\u001b[0;34m,\u001b[0m \u001b[0;34m[\u001b[0m\u001b[0;34m'Unassigned'\u001b[0m\u001b[0;34m,\u001b[0m \u001b[0;34m'True'\u001b[0m\u001b[0;34m,\u001b[0m \u001b[0;34m'False'\u001b[0m\u001b[0;34m]\u001b[0m\u001b[0;34m)\u001b[0m\u001b[0;34m\u001b[0m\n",
      "\u001b[0;34m\u001b[0m\u001b[0mAssignment\u001b[0m \u001b[0;34m=\u001b[0m \u001b[0mList\u001b[0m\u001b[0;34m[\u001b[0m\u001b[0mValue\u001b[0m\u001b[0;34m]\u001b[0m\u001b[0;34m\u001b[0m\n",
      "\u001b[0;34m\u001b[0m\u001b[0;34m\u001b[0m\n",
      "\u001b[0;34m\u001b[0m\u001b[0;34m\u001b[0m\n",
      "\u001b[0;34m\u001b[0m\u001b[0;32mdef\u001b[0m \u001b[0munit_propagate\u001b[0m\u001b[0;34m(\u001b[0m\u001b[0minstance\u001b[0m\u001b[0;34m:\u001b[0m \u001b[0mInstance\u001b[0m\u001b[0;34m,\u001b[0m \u001b[0massignment\u001b[0m\u001b[0;34m:\u001b[0m \u001b[0mAssignment\u001b[0m\u001b[0;34m)\u001b[0m \u001b[0;34m->\u001b[0m \u001b[0;34m(\u001b[0m\u001b[0mInstance\u001b[0m\u001b[0;34m,\u001b[0m \u001b[0mAssignment\u001b[0m\u001b[0;34m)\u001b[0m\u001b[0;34m:\u001b[0m\u001b[0;34m\u001b[0m\n",
      "\u001b[0;34m\u001b[0m    \u001b[0;34m\"\"\"Apply BCP to current instance and update assignment.\"\"\"\u001b[0m\u001b[0;34m\u001b[0m\n",
      "\u001b[0;34m\u001b[0m    \u001b[0ml_true\u001b[0m \u001b[0;34m=\u001b[0m \u001b[0;34m[\u001b[0m\u001b[0;34m]\u001b[0m\u001b[0;34m\u001b[0m\n",
      "\u001b[0;34m\u001b[0m    \u001b[0ml_false\u001b[0m \u001b[0;34m=\u001b[0m \u001b[0;34m[\u001b[0m\u001b[0;34m]\u001b[0m\u001b[0;34m\u001b[0m\n",
      "\u001b[0;34m\u001b[0m    \u001b[0mres\u001b[0m \u001b[0;34m=\u001b[0m \u001b[0;34m[\u001b[0m\u001b[0;34m]\u001b[0m\u001b[0;34m\u001b[0m\n",
      "\u001b[0;34m\u001b[0m    \u001b[0;32mfor\u001b[0m \u001b[0mv\u001b[0m \u001b[0;32min\u001b[0m \u001b[0mrange\u001b[0m\u001b[0;34m(\u001b[0m\u001b[0mlen\u001b[0m\u001b[0;34m(\u001b[0m\u001b[0massignment\u001b[0m\u001b[0;34m)\u001b[0m\u001b[0;34m)\u001b[0m\u001b[0;34m:\u001b[0m\u001b[0;34m\u001b[0m\n",
      "\u001b[0;34m\u001b[0m        \u001b[0;32mif\u001b[0m \u001b[0massignment\u001b[0m\u001b[0;34m[\u001b[0m\u001b[0mv\u001b[0m\u001b[0;34m]\u001b[0m \u001b[0;34m==\u001b[0m \u001b[0;34m\"True\"\u001b[0m\u001b[0;34m:\u001b[0m\u001b[0;34m\u001b[0m\n",
      "\u001b[0;34m\u001b[0m            \u001b[0ml_true\u001b[0m\u001b[0;34m.\u001b[0m\u001b[0mappend\u001b[0m\u001b[0;34m(\u001b[0m\u001b[0mv\u001b[0m\u001b[0;34m+\u001b[0m\u001b[0;36m1\u001b[0m\u001b[0;34m)\u001b[0m\u001b[0;34m\u001b[0m\n",
      "\u001b[0;34m\u001b[0m        \u001b[0;32melif\u001b[0m \u001b[0massignment\u001b[0m\u001b[0;34m[\u001b[0m\u001b[0mv\u001b[0m\u001b[0;34m]\u001b[0m \u001b[0;34m==\u001b[0m \u001b[0;34m\"False\"\u001b[0m\u001b[0;34m:\u001b[0m\u001b[0;34m\u001b[0m\n",
      "\u001b[0;34m\u001b[0m            \u001b[0ml_false\u001b[0m\u001b[0;34m.\u001b[0m\u001b[0mappend\u001b[0m\u001b[0;34m(\u001b[0m\u001b[0mv\u001b[0m\u001b[0;34m+\u001b[0m\u001b[0;36m1\u001b[0m\u001b[0;34m)\u001b[0m\u001b[0;34m\u001b[0m\n",
      "\u001b[0;34m\u001b[0m        \u001b[0mv\u001b[0m \u001b[0;34m+=\u001b[0m \u001b[0;36m1\u001b[0m\u001b[0;34m\u001b[0m\n",
      "\u001b[0;34m\u001b[0m    \u001b[0;32mfor\u001b[0m \u001b[0mc\u001b[0m \u001b[0;32min\u001b[0m \u001b[0minstance\u001b[0m\u001b[0;34m:\u001b[0m\u001b[0;34m\u001b[0m\n",
      "\u001b[0;34m\u001b[0m        \u001b[0mf_in\u001b[0m \u001b[0;34m=\u001b[0m \u001b[0;32mTrue\u001b[0m\u001b[0;34m\u001b[0m\n",
      "\u001b[0;34m\u001b[0m        \u001b[0mlc\u001b[0m \u001b[0;34m=\u001b[0m \u001b[0mc\u001b[0m\u001b[0;34m.\u001b[0m\u001b[0mcopy\u001b[0m\u001b[0;34m(\u001b[0m\u001b[0;34m)\u001b[0m\u001b[0;34m\u001b[0m\n",
      "\u001b[0;34m\u001b[0m        \u001b[0;32mfor\u001b[0m \u001b[0mvp\u001b[0m \u001b[0;32min\u001b[0m \u001b[0ml_true\u001b[0m\u001b[0;34m:\u001b[0m\u001b[0;34m\u001b[0m\n",
      "\u001b[0;34m\u001b[0m            \u001b[0;32mif\u001b[0m \u001b[0mvp\u001b[0m \u001b[0;32min\u001b[0m \u001b[0mc\u001b[0m\u001b[0;34m:\u001b[0m\u001b[0;34m\u001b[0m\n",
      "\u001b[0;34m\u001b[0m                \u001b[0mf_in\u001b[0m \u001b[0;34m=\u001b[0m \u001b[0;32mFalse\u001b[0m\u001b[0;34m\u001b[0m\n",
      "\u001b[0;34m\u001b[0m            \u001b[0mlc\u001b[0m \u001b[0;34m=\u001b[0m \u001b[0mlc\u001b[0m \u001b[0;34m-\u001b[0m \u001b[0;34m{\u001b[0m\u001b[0mvp\u001b[0m\u001b[0;34m,\u001b[0m \u001b[0;34m-\u001b[0m\u001b[0mvp\u001b[0m\u001b[0;34m}\u001b[0m\u001b[0;34m\u001b[0m\n",
      "\u001b[0;34m\u001b[0m        \u001b[0;32mfor\u001b[0m \u001b[0mvn\u001b[0m \u001b[0;32min\u001b[0m \u001b[0ml_false\u001b[0m\u001b[0;34m:\u001b[0m\u001b[0;34m\u001b[0m\n",
      "\u001b[0;34m\u001b[0m            \u001b[0;32mif\u001b[0m \u001b[0;34m-\u001b[0m\u001b[0mvn\u001b[0m \u001b[0;32min\u001b[0m \u001b[0mc\u001b[0m\u001b[0;34m:\u001b[0m\u001b[0;34m\u001b[0m\n",
      "\u001b[0;34m\u001b[0m                \u001b[0mf_in\u001b[0m \u001b[0;34m=\u001b[0m \u001b[0;32mFalse\u001b[0m\u001b[0;34m\u001b[0m\n",
      "\u001b[0;34m\u001b[0m            \u001b[0mlc\u001b[0m \u001b[0;34m=\u001b[0m \u001b[0mlc\u001b[0m \u001b[0;34m-\u001b[0m \u001b[0;34m{\u001b[0m\u001b[0mvn\u001b[0m\u001b[0;34m,\u001b[0m \u001b[0;34m-\u001b[0m\u001b[0mvn\u001b[0m\u001b[0;34m}\u001b[0m\u001b[0;34m\u001b[0m\n",
      "\u001b[0;34m\u001b[0m        \u001b[0;32mif\u001b[0m \u001b[0mf_in\u001b[0m\u001b[0;34m:\u001b[0m\u001b[0;34m\u001b[0m\n",
      "\u001b[0;34m\u001b[0m            \u001b[0mres\u001b[0m\u001b[0;34m.\u001b[0m\u001b[0mappend\u001b[0m\u001b[0;34m(\u001b[0m\u001b[0mlc\u001b[0m\u001b[0;34m)\u001b[0m\u001b[0;34m\u001b[0m\n",
      "\u001b[0;34m\u001b[0m    \u001b[0minstance\u001b[0m \u001b[0;34m=\u001b[0m \u001b[0mres\u001b[0m\u001b[0;34m.\u001b[0m\u001b[0mcopy\u001b[0m\u001b[0;34m(\u001b[0m\u001b[0;34m)\u001b[0m\u001b[0;34m\u001b[0m\n",
      "\u001b[0;34m\u001b[0m    \u001b[0mres\u001b[0m \u001b[0;34m=\u001b[0m \u001b[0;34m[\u001b[0m\u001b[0;34m]\u001b[0m\u001b[0;34m\u001b[0m\n",
      "\u001b[0;34m\u001b[0m    \u001b[0ml_unit\u001b[0m \u001b[0;34m=\u001b[0m \u001b[0;34m[\u001b[0m\u001b[0;34m]\u001b[0m\u001b[0;34m\u001b[0m\n",
      "\u001b[0;34m\u001b[0m    \u001b[0;32mfor\u001b[0m \u001b[0mc\u001b[0m \u001b[0;32min\u001b[0m \u001b[0minstance\u001b[0m\u001b[0;34m:\u001b[0m\u001b[0;34m\u001b[0m\n",
      "\u001b[0;34m\u001b[0m        \u001b[0;32mif\u001b[0m \u001b[0mlen\u001b[0m\u001b[0;34m(\u001b[0m\u001b[0mc\u001b[0m\u001b[0;34m)\u001b[0m \u001b[0;34m==\u001b[0m \u001b[0;36m1\u001b[0m\u001b[0;34m:\u001b[0m\u001b[0;34m\u001b[0m\n",
      "\u001b[0;34m\u001b[0m            \u001b[0ml_unit\u001b[0m\u001b[0;34m.\u001b[0m\u001b[0mappend\u001b[0m\u001b[0;34m(\u001b[0m\u001b[0mlist\u001b[0m\u001b[0;34m(\u001b[0m\u001b[0mc\u001b[0m\u001b[0;34m)\u001b[0m\u001b[0;34m[\u001b[0m\u001b[0;36m0\u001b[0m\u001b[0;34m]\u001b[0m\u001b[0;34m)\u001b[0m\u001b[0;34m\u001b[0m\n",
      "\u001b[0;34m\u001b[0m    \u001b[0;32mif\u001b[0m \u001b[0mlen\u001b[0m\u001b[0;34m(\u001b[0m\u001b[0ml_unit\u001b[0m\u001b[0;34m)\u001b[0m \u001b[0;34m==\u001b[0m \u001b[0;36m0\u001b[0m\u001b[0;34m:\u001b[0m\u001b[0;34m\u001b[0m\n",
      "\u001b[0;34m\u001b[0m        \u001b[0;32mreturn\u001b[0m \u001b[0minstance\u001b[0m\u001b[0;34m,\u001b[0m \u001b[0massignment\u001b[0m\u001b[0;34m\u001b[0m\n",
      "\u001b[0;34m\u001b[0m\u001b[0;34m\u001b[0m\n",
      "\u001b[0;34m\u001b[0m    \u001b[0;32mfor\u001b[0m \u001b[0mv\u001b[0m \u001b[0;32min\u001b[0m \u001b[0ml_unit\u001b[0m\u001b[0;34m:\u001b[0m\u001b[0;34m\u001b[0m\n",
      "\u001b[0;34m\u001b[0m        \u001b[0;32mif\u001b[0m \u001b[0;34m-\u001b[0m\u001b[0mv\u001b[0m \u001b[0;32min\u001b[0m \u001b[0ml_unit\u001b[0m\u001b[0;34m:\u001b[0m\u001b[0;34m\u001b[0m\n",
      "\u001b[0;34m\u001b[0m            \u001b[0;32mreturn\u001b[0m \u001b[0;34m[\u001b[0m\u001b[0;34m{\u001b[0m\u001b[0mv\u001b[0m\u001b[0;34m}\u001b[0m\u001b[0;34m,\u001b[0m\u001b[0;34m{\u001b[0m\u001b[0;34m-\u001b[0m\u001b[0mv\u001b[0m\u001b[0;34m}\u001b[0m\u001b[0;34m]\u001b[0m\u001b[0;34m,\u001b[0m\u001b[0massignment\u001b[0m\u001b[0;34m\u001b[0m\n",
      "\u001b[0;34m\u001b[0m    \u001b[0;34m\u001b[0m\n",
      "\u001b[0;34m\u001b[0m    \u001b[0;32mfor\u001b[0m \u001b[0mv\u001b[0m \u001b[0;32min\u001b[0m \u001b[0ml_unit\u001b[0m\u001b[0;34m:\u001b[0m\u001b[0;34m\u001b[0m\n",
      "\u001b[0;34m\u001b[0m        \u001b[0;32mif\u001b[0m \u001b[0mv\u001b[0m\u001b[0;34m>\u001b[0m\u001b[0;36m0\u001b[0m\u001b[0;34m:\u001b[0m\u001b[0;34m\u001b[0m\n",
      "\u001b[0;34m\u001b[0m            \u001b[0massignment\u001b[0m\u001b[0;34m[\u001b[0m\u001b[0mv\u001b[0m\u001b[0;34m-\u001b[0m\u001b[0;36m1\u001b[0m\u001b[0;34m]\u001b[0m \u001b[0;34m=\u001b[0m \u001b[0;34m'True'\u001b[0m\u001b[0;34m\u001b[0m\n",
      "\u001b[0;34m\u001b[0m        \u001b[0;32melse\u001b[0m\u001b[0;34m:\u001b[0m\u001b[0;34m\u001b[0m\n",
      "\u001b[0;34m\u001b[0m            \u001b[0massignment\u001b[0m\u001b[0;34m[\u001b[0m\u001b[0;34m-\u001b[0m\u001b[0mv\u001b[0m\u001b[0;34m-\u001b[0m\u001b[0;36m1\u001b[0m\u001b[0;34m]\u001b[0m \u001b[0;34m=\u001b[0m \u001b[0;34m'False'\u001b[0m\u001b[0;34m\u001b[0m\n",
      "\u001b[0;34m\u001b[0m    \u001b[0;34m\u001b[0m\n",
      "\u001b[0;34m\u001b[0m\u001b[0;34m\u001b[0m\n",
      "\u001b[0;34m\u001b[0m    \u001b[0;32mreturn\u001b[0m \u001b[0minstance\u001b[0m\u001b[0;34m,\u001b[0m \u001b[0massignment\u001b[0m\u001b[0;34m\u001b[0m\u001b[0;34m\u001b[0m\u001b[0m\n",
      "\n"
     ]
    }
   ],
   "source": [
    "%pycat bcp.py"
   ]
  },
  {
   "cell_type": "code",
   "execution_count": 230,
   "metadata": {},
   "outputs": [],
   "source": [
    "from bcp import unit_propagate"
   ]
  },
  {
   "cell_type": "code",
   "execution_count": 231,
   "metadata": {},
   "outputs": [
    {
     "data": {
      "text/plain": [
       "([{5}, {-5, 4}],\n",
       " ['Unassigned', 'True', 'Unassigned', 'Unassigned', 'True', 'Unassigned'])"
      ]
     },
     "execution_count": 231,
     "metadata": {},
     "output_type": "execute_result"
    }
   ],
   "source": [
    "unit_propagate([{1, 2, 3}, {2, -3, -6}, {-2, 5}, {-2, -5, 4}], ['Unassigned', 'True', 'Unassigned', 'Unassigned', 'Unassigned', 'Unassigned'])"
   ]
  },
  {
   "cell_type": "code",
   "execution_count": 232,
   "metadata": {},
   "outputs": [
    {
     "data": {
      "text/plain": [
       "([{4}], ['Unassigned', 'True', 'Unassigned', 'True', 'True', 'Unassigned'])"
      ]
     },
     "execution_count": 232,
     "metadata": {},
     "output_type": "execute_result"
    }
   ],
   "source": [
    "unit_propagate([{5}, {-5, 4}], ['Unassigned', 'True', 'Unassigned', 'Unassigned', 'True', 'Unassigned'])"
   ]
  },
  {
   "cell_type": "code",
   "execution_count": 233,
   "metadata": {},
   "outputs": [
    {
     "data": {
      "text/plain": [
       "([], ['Unassigned', 'True', 'Unassigned', 'True', 'True', 'Unassigned'])"
      ]
     },
     "execution_count": 233,
     "metadata": {},
     "output_type": "execute_result"
    }
   ],
   "source": [
    "unit_propagate([{4}], ['Unassigned', 'True', 'Unassigned', 'True', 'True', 'Unassigned'])"
   ]
  },
  {
   "cell_type": "markdown",
   "metadata": {},
   "source": [
    "## Question 7. Complete your program to make it a complete SAT solver"
   ]
  },
  {
   "cell_type": "code",
   "execution_count": 234,
   "metadata": {},
   "outputs": [],
   "source": [
    "def SAT_or_not(instance):\n",
    "    if len(instance) == 2:\n",
    "        if (len(list(instance[0])) == 1) and (len(list(instance[1])) == 1):\n",
    "            if (list(instance[0]))[0] == -(list(instance[1]))[0]:\n",
    "                return 1\n",
    "    if len(instance) == 0:\n",
    "        return 0\n",
    "    return -1"
   ]
  },
  {
   "cell_type": "code",
   "execution_count": 235,
   "metadata": {},
   "outputs": [],
   "source": [
    "def SAT_solver(instance, assignment):\n",
    "    times = 0\n",
    "    times_max = 10000\n",
    "    \n",
    "    while (times<times_max):\n",
    "        new_instance,new_assignment = unit_propagate(instance, assignment)\n",
    "        while (new_instance != instance or new_assignment != assignment):\n",
    "            instance = new_instance\n",
    "            assignment = new_assignment\n",
    "            new_instance,new_assignment = unit_propagate(instance, assignment)\n",
    "            #print(instance,assignment)\n",
    "            \n",
    "        res = SAT_or_not(instance)\n",
    "        if res == 1:\n",
    "            return 'UNSAT'\n",
    "        if res == 0:\n",
    "            return 'SAT', assignment\n",
    "\n",
    "        var = 0\n",
    "        for i in range(len(instance)):\n",
    "            for j in range(i+1,len(instance)):\n",
    "                ci = list(instance[i])\n",
    "                cj = list(instance[j])\n",
    "                for x in ci:\n",
    "                    for y in cj:\n",
    "                        if x==y or x==-y:\n",
    "                            var = abs(x)\n",
    "                            break\n",
    "        if var == 0:\n",
    "            return 'var error',instance,assignment\n",
    "        instance = davis_putnam(instance, var)\n",
    "        #print(var)\n",
    "        #print(instance)\n",
    "        \n",
    "        if len(instance) == 1:\n",
    "            for v in list(instance[0]):\n",
    "                if v>0:\n",
    "                    assignment[v-1] = 'True'\n",
    "                else:\n",
    "                    assignment[-v-1] = 'False'\n",
    "                    \n",
    "        #print(assignment)       \n",
    "        \n",
    "        times += 1\n",
    "    \n",
    "    return 'time error',new_instance,new_assignment\n",
    "                                          "
   ]
  },
  {
   "cell_type": "code",
   "execution_count": 236,
   "metadata": {},
   "outputs": [
    {
     "data": {
      "text/plain": [
       "('SAT', ['Unassigned', 'True', 'Unassigned', 'True', 'True', 'Unassigned'])"
      ]
     },
     "execution_count": 236,
     "metadata": {},
     "output_type": "execute_result"
    }
   ],
   "source": [
    "SAT_solver([{1, 2, 3}, {2, -3, -6}, {-2, 5}, {-2, -5, 4}], ['Unassigned', 'True', 'Unassigned', 'Unassigned', 'Unassigned', 'Unassigned'])"
   ]
  },
  {
   "cell_type": "code",
   "execution_count": 241,
   "metadata": {},
   "outputs": [
    {
     "data": {
      "text/plain": [
       "('SAT', ['True', 'False', 'Unassigned', 'Unassigned', 'Unassigned', 'False'])"
      ]
     },
     "execution_count": 241,
     "metadata": {},
     "output_type": "execute_result"
    }
   ],
   "source": [
    "SAT_solver([{1, 2, 3}, {2, -3, -6}, {-2, 5}, {-2, -5, 4}], ['Unassigned', 'False', 'Unassigned', 'Unassigned', 'Unassigned', 'Unassigned'])"
   ]
  },
  {
   "cell_type": "code",
   "execution_count": 238,
   "metadata": {},
   "outputs": [
    {
     "data": {
      "text/plain": [
       "'UNSAT'"
      ]
     },
     "execution_count": 238,
     "metadata": {},
     "output_type": "execute_result"
    }
   ],
   "source": [
    "SAT_solver([{1,2},{2}, {-2}], ['Unassigned', 'Unassigned'])"
   ]
  },
  {
   "cell_type": "markdown",
   "metadata": {},
   "source": [
    "## Question 8. Use your SAT solver to solve the 4-queens problem\n",
    "\n",
    "by generating the query\n",
    "\n",
    "* either using your favorite editor\n",
    "* or by writing a small Python program [expand.py](expand.py) for it\n",
    "\n",
    "This is essentially what the transformation of MiniZinc to FlatZinc does for Boolean MiniZinc models."
   ]
  },
  {
   "cell_type": "code",
   "execution_count": null,
   "metadata": {},
   "outputs": [],
   "source": []
  },
  {
   "cell_type": "code",
   "execution_count": null,
   "metadata": {},
   "outputs": [],
   "source": []
  },
  {
   "cell_type": "markdown",
   "metadata": {},
   "source": [
    "## Do not forget to save your files on your machine\n",
    "[dp.py](dp.py)\n",
    "\n",
    "[bool_graph.mzn](bool_graph.mzn)\n",
    "\n",
    "[bool_nqueens.mzn](bool_nqueens.mzn)\n",
    "\n",
    "[bcp.py](bcp.py)\n",
    "\n",
    "[expand.py](sat.py) (optionally)\n",
    "\n",
    "[SAT.ipynb](SAT.ipynb) with the answers\n",
    "\n",
    "## and send us your work via the Moodle"
   ]
  },
  {
   "cell_type": "code",
   "execution_count": null,
   "metadata": {},
   "outputs": [],
   "source": []
  }
 ],
 "metadata": {
  "kernelspec": {
   "display_name": "Python 3 (ipykernel)",
   "language": "python",
   "name": "python3"
  },
  "language_info": {
   "codemirror_mode": {
    "name": "ipython",
    "version": 3
   },
   "file_extension": ".py",
   "mimetype": "text/x-python",
   "name": "python",
   "nbconvert_exporter": "python",
   "pygments_lexer": "ipython3",
   "version": "3.9.6"
  }
 },
 "nbformat": 4,
 "nbformat_minor": 2
}
