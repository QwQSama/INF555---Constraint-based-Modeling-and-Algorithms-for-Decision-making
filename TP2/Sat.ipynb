{
 "cells": [
  {
   "cell_type": "markdown",
   "metadata": {},
   "source": [
    "### INF555 - Constraint-based Modeling and Algorithms for Decision Making\n",
    "\n",
    "### Ecole Polytechnique - Master of Artificial Intelligence & Advanced Visual Computing (MAI)\n",
    "\n",
    "# TP2: Boolean SAT Models and SAT Solvers \n",
    "In today's TP, \n",
    "* we will first model graph coloring problems as Boolean satisfaction problems in MiniZinc usinf Chuffed's SAT solver and do the same for the N-Queens problem;\n",
    "* then we will a simple Python program for computing one step of **Davis-Putnam** elimination and some **Boolean Constraint Propagation(BCP)**.\n",
    "\n",
    "# Part 1: Boolean modeling\n",
    "\n",
    "## Graph Coloring\n",
    "Let us start with your already favorite example: coloring the Australiant map."
   ]
  },
  {
   "cell_type": "code",
   "execution_count": null,
   "metadata": {},
   "outputs": [],
   "source": [
    "from IPython.core import page\n",
    "page.page = print"
   ]
  },
  {
   "cell_type": "code",
   "execution_count": null,
   "metadata": {},
   "outputs": [],
   "source": [
    "import inf555"
   ]
  },
  {
   "cell_type": "code",
   "execution_count": null,
   "metadata": {},
   "outputs": [],
   "source": [
    "!vimcat.sh aust_param.dzn"
   ]
  },
  {
   "cell_type": "markdown",
   "metadata": {},
   "source": [
    "As a reminder, we have already solved the decision problem to coloring a graph defined in the format above with at most `nc` colors, using the following MiniZinc model with integer decision variables:"
   ]
  },
  {
   "cell_type": "code",
   "execution_count": null,
   "metadata": {},
   "outputs": [],
   "source": [
    "!vimcat.sh aust_param.mzn"
   ]
  },
  {
   "cell_type": "code",
   "execution_count": null,
   "metadata": {},
   "outputs": [],
   "source": [
    "print(inf555.minizinc('aust_param.mzn', 'aust_param.dzn', data={'nc': 3}, solver=inf555.chuffed))"
   ]
  },
  {
   "cell_type": "markdown",
   "metadata": {},
   "source": [
    "## Question 1. Write a BOOLEAN model for the graph coloring problem \n",
    "* in a [bool_graph.mzn](bool_graph.mzn) file\n",
    "* to check the coloriability with `nc` colors of the graph given in [aust_param.dzn](aust_param.dzn) file.\n",
    "\n",
    "One will use only\n",
    "* Boolean (`bool`) variables\n",
    "* and put the constraints in CNF, i.e., \n",
    " * conjunctions (`/\\` or `forall`)\n",
    " * of disjunctions (`\\/` or `exists`)\n",
    "\n",
    "We use the Chuffed solver that relies on a SAT solver for the Boolean part."
   ]
  },
  {
   "cell_type": "code",
   "execution_count": null,
   "metadata": {},
   "outputs": [],
   "source": [
    "print(inf555.minizinc('bool_graph.mzn', 'aust_param.dzn', data={'nc': 3}, solver=inf555.chuffed))"
   ]
  },
  {
   "cell_type": "markdown",
   "metadata": {},
   "source": [
    "## N-Queens \n",
    "\n",
    "Last week we saw a constraint-based model over the integer domain for solving the Nqueens problem."
   ]
  },
  {
   "cell_type": "code",
   "execution_count": null,
   "metadata": {},
   "outputs": [],
   "source": [
    "!vimcat.sh nqueens.mzn"
   ]
  },
  {
   "cell_type": "code",
   "execution_count": null,
   "metadata": {},
   "outputs": [],
   "source": [
    "print(inf555.minizinc('nqueens.mzn', data={'n': 16}, solver=inf555.chuffed))"
   ]
  },
  {
   "cell_type": "markdown",
   "metadata": {},
   "source": [
    "## Question 2. Write a BOOLEAN model for the N-Queens problem\n",
    "* in MiniZinc in a [bool_nqueens.mzn](bool_nqueens.mzn) file\n",
    "* using Boolean variables only \n",
    "* and test it on $n=16$"
   ]
  },
  {
   "cell_type": "code",
   "execution_count": null,
   "metadata": {},
   "outputs": [],
   "source": [
    "!vimcat.sh bool_nqueens.mzn"
   ]
  },
  {
   "cell_type": "code",
   "execution_count": null,
   "metadata": {},
   "outputs": [],
   "source": [
    "print(inf555.minizinc('bool_nqueens.mzn', data={'n': 16}, solver=inf555.chuffed))"
   ]
  },
  {
   "cell_type": "markdown",
   "metadata": {},
   "source": [
    "# Part 2: SAT Solver\n",
    "\n",
    "Let us start with a small Python function that reduces clauses _à la_ Davis-Putnam.\n",
    "\n",
    "You might want to re-read https://docs.python.org/3/tutorial/index.html chapters 3, 4 and 5 if you are not familiar with Python.\n",
    "\n",
    "We will represent\n",
    "* clauses by sets,\n",
    "* variables by positive integers,\n",
    "* and negation by negative values.\n",
    "\n",
    "For instance the clause _(b + c' + f')_ becomes `{2, -3, -6}`\n",
    "\n",
    "We will use the classical encoding of CNF files where\n",
    "* the first line of the file is `p cnf V C`\n",
    " * where `V` is the number of variables\n",
    " * and `C` the number of clauses\n",
    "* then each clause is written on a line,\n",
    " * with literals as above,\n",
    " * separated by spaces,\n",
    " * line ended by a conventional `0`.\n",
    "\n",
    "## Question 3. Modify the file named [dp.py](dp.py)([VSCode](http://localhost:8080/?folder=/home/jovyan)) \n",
    "such that the function `davis_putnam`\n",
    "* takes a list of clauses (sets) and a variable (integer),\n",
    "* returns a new list of sets with the given variable eliminated***\n",
    "\n",
    "We should have, as shown in the slides:\n",
    "\n",
    "`davis_putnam([{1, 2, 3}, {2, -3, -6}, {-2, 5}], 2)` -> `[{1, 3, 5}, {-6, -3, 5}]`\n",
    "\n",
    "For the moment, we do not care about the satisfiability of the resulting clauses."
   ]
  },
  {
   "cell_type": "code",
   "execution_count": null,
   "metadata": {},
   "outputs": [],
   "source": [
    "%load_ext autoreload\n",
    "%autoreload 2"
   ]
  },
  {
   "cell_type": "code",
   "execution_count": null,
   "metadata": {},
   "outputs": [],
   "source": [
    "from dp import davis_putnam"
   ]
  },
  {
   "cell_type": "code",
   "execution_count": null,
   "metadata": {},
   "outputs": [],
   "source": [
    "%pycat dp.py"
   ]
  },
  {
   "cell_type": "code",
   "execution_count": null,
   "metadata": {},
   "outputs": [],
   "source": [
    "davis_putnam([{1, 2, 3}, {2, -3, -6}, {-2, 5}], 2)"
   ]
  },
  {
   "cell_type": "markdown",
   "metadata": {},
   "source": [
    "Ensure that the result is correct even if the given variable appears only once or even not at all."
   ]
  },
  {
   "cell_type": "code",
   "execution_count": null,
   "metadata": {},
   "outputs": [],
   "source": [
    "davis_putnam([{1, 2, 3}, {2, -3, -6}, {-2, 5}], 5)"
   ]
  },
  {
   "cell_type": "code",
   "execution_count": null,
   "metadata": {},
   "outputs": [],
   "source": [
    "davis_putnam([{1, 2, 3}, {2, -3, -6}, {-2, 5}], 4)"
   ]
  },
  {
   "cell_type": "markdown",
   "metadata": {},
   "source": [
    "## Question 4. What result indicates a SAT problem? an UNSAT problem?\n",
    "\n",
    "_Give examples in the cells below and write your answer here_\n",
    "\n",
    "...\n",
    "\n",
    "\n",
    "...\n"
   ]
  },
  {
   "cell_type": "code",
   "execution_count": null,
   "metadata": {},
   "outputs": [],
   "source": []
  },
  {
   "cell_type": "code",
   "execution_count": null,
   "metadata": {},
   "outputs": [],
   "source": []
  },
  {
   "cell_type": "markdown",
   "metadata": {},
   "source": [
    "## Question 5. Give one example where the number of clauses grows\n",
    "\n",
    "_give comments here_\n",
    "\n",
    "...\n",
    "\n",
    "\n",
    "...\n"
   ]
  },
  {
   "cell_type": "code",
   "execution_count": null,
   "metadata": {},
   "outputs": [],
   "source": []
  },
  {
   "cell_type": "code",
   "execution_count": null,
   "metadata": {},
   "outputs": [],
   "source": []
  },
  {
   "cell_type": "markdown",
   "metadata": {},
   "source": [
    "Let us now implement the part that is common to DP and D(P)LL, i.e., the unit propagation or BCP.\n",
    "\n",
    "## Question 6. In the file [bcp.py](bcp.py), define a function `unit_propagate` \n",
    "* that takes an instance and a current assignment, as an ordered list of 'Unassigned', 'True', 'False' values, \n",
    "* and applies all Boolean clause rewritings\n",
    "* before returning the resulting instance and assignment.\n",
    "\n",
    "It should have done all possible propagations but can be naive and inefficient.\n",
    "\n",
    "* An empty instance with a non-empty assignment will indicate **SAT**\n",
    "* whereas by convention an empty assignment will indicate **UNSAT**."
   ]
  },
  {
   "cell_type": "code",
   "execution_count": null,
   "metadata": {},
   "outputs": [],
   "source": [
    "%pycat bcp.py"
   ]
  },
  {
   "cell_type": "code",
   "execution_count": null,
   "metadata": {},
   "outputs": [],
   "source": [
    "from bcp import unit_propagate"
   ]
  },
  {
   "cell_type": "code",
   "execution_count": null,
   "metadata": {},
   "outputs": [],
   "source": [
    "unit_propagate([{1, 2, 3}, {2, -3, -6}, {-2, 5}, {-2, -5, 4}], ['Unassigned', 'True', 'Unassigned', 'Unassigned', 'Unassigned', 'Unassigned'])"
   ]
  },
  {
   "cell_type": "code",
   "execution_count": null,
   "metadata": {},
   "outputs": [],
   "source": []
  },
  {
   "cell_type": "code",
   "execution_count": null,
   "metadata": {},
   "outputs": [],
   "source": []
  },
  {
   "cell_type": "markdown",
   "metadata": {},
   "source": [
    "## Question 7. Complete your program to make it a complete SAT solver"
   ]
  },
  {
   "cell_type": "code",
   "execution_count": null,
   "metadata": {},
   "outputs": [],
   "source": []
  },
  {
   "cell_type": "code",
   "execution_count": null,
   "metadata": {},
   "outputs": [],
   "source": []
  },
  {
   "cell_type": "markdown",
   "metadata": {},
   "source": [
    "## Question 8. Use your SAT solver to solve the 4-queens problem\n",
    "\n",
    "by generating the query\n",
    "\n",
    "* either using your favorite editor\n",
    "* or by writing a small Python program [expand.py](expand.py) for it\n",
    "\n",
    "This is essentially what the transformation of MiniZinc to FlatZinc does for Boolean MiniZinc models."
   ]
  },
  {
   "cell_type": "code",
   "execution_count": null,
   "metadata": {},
   "outputs": [],
   "source": []
  },
  {
   "cell_type": "code",
   "execution_count": null,
   "metadata": {},
   "outputs": [],
   "source": []
  },
  {
   "cell_type": "markdown",
   "metadata": {},
   "source": [
    "## Do not forget to save your files on your machine\n",
    "[dp.py](dp.py)\n",
    "\n",
    "[bool_graph.mzn](bool_graph.mzn)\n",
    "\n",
    "[bool_nqueens.mzn](bool_nqueens.mzn)\n",
    "\n",
    "[bcp.py](bcp.py)\n",
    "\n",
    "[expand.py](sat.py) (optionally)\n",
    "\n",
    "[SAT.ipynb](SAT.ipynb) with the answers\n",
    "\n",
    "## and send us your work via the Moodle"
   ]
  },
  {
   "cell_type": "code",
   "execution_count": null,
   "metadata": {},
   "outputs": [],
   "source": []
  }
 ],
 "metadata": {
  "kernelspec": {
   "display_name": "Python 3 (ipykernel)",
   "language": "python",
   "name": "python3"
  },
  "language_info": {
   "codemirror_mode": {
    "name": "ipython",
    "version": 3
   },
   "file_extension": ".py",
   "mimetype": "text/x-python",
   "name": "python",
   "nbconvert_exporter": "python",
   "pygments_lexer": "ipython3",
   "version": "3.9.6"
  }
 },
 "nbformat": 4,
 "nbformat_minor": 2
}
