{
 "cells": [
  {
   "cell_type": "markdown",
   "metadata": {},
   "source": [
    "### INF555 - Constraint-based Modeling and Algorithms for Decision Making \n",
    "\n",
    "### Ecole Polytechnique - Master of Artificial Intelligence & Advanced Visual Computing (MAI)\n",
    "\n",
    "## TP (Theory in Practice) session 1: introduction to MiniZinc Jupyter Notebooks\n",
    "\n",
    "This is a **Jupyter notebook** running in a **Docker image** and communicating with your browser on `port 8888` by default\n",
    "- It runs **Python3**, so every cell will be executed with Python3, a dynamic object-oriented language (we'll come back to some Python basics later on)\n",
    "- Shift-Enter executes a cell and goes to the next one\n",
    "- A double clic on a markdown cell allows you to edit it\n",
    "\n",
    "All TPs contain questions which you have to answer\n",
    "* either directly in the notebook by **editing the markdown cell for textual answers**\n",
    "* or by **creating a file** in Jupyter using the `new` button in file-explorer (upper-left `file open` menu)\n",
    "* without forgetting to *download on your local machine* the notebook `TP.ipynb` with your files to *finally upload them on the Moodle* at the end of each session (late uploads will be accepted until midnight)\n",
    "\n",
    "We will start all TPs by importing the module `inf555.py` which contains the necessary libraries to execute the constraint-based modelling language MiniZinc."
   ]
  },
  {
   "cell_type": "code",
   "execution_count": 1,
   "metadata": {},
   "outputs": [],
   "source": [
    "import inf555"
   ]
  },
  {
   "cell_type": "markdown",
   "metadata": {},
   "source": [
    "You can open the corresponding file `inf555.py` \n",
    "* from the file-explorer (upper-left icon) \n",
    "* or in your browser by clicking [this link](inf555.py)\n",
    "* or in your new [favorite editor](http://localhost:8080/?folder=/home/jovyan)\n"
   ]
  },
  {
   "cell_type": "markdown",
   "metadata": {},
   "source": [
    "## Map coloring\n",
    "\n",
    "A MiniZinc model is composed of\n",
    "- variable declarations\n",
    "- constraints\n",
    "- a `solve` statement\n",
    "\n",
    "Let us first have a look at a partial model (file `aust.mzn`) for coloring Australia such that two neighbor states have a different color.\n",
    "\n",
    "We will have colorized output in the notebook through a shell command"
   ]
  },
  {
   "cell_type": "code",
   "execution_count": 2,
   "metadata": {},
   "outputs": [
    {
     "name": "stdout",
     "output_type": "stream",
     "text": [
      "\u001b[0m\u001b[K\u001b[0;34m% Colouring Australia using nc colours\r\n",
      "\u001b[0m\u001b[K\u001b[0;32mint\u001b[0m: nc;\r\n",
      "\u001b[0m\u001b[K\u001b[0m\r\n",
      "\u001b[0m\u001b[K\u001b[0;32mvar\u001b[0m \u001b[0;31m1\u001b[0;35m..\u001b[0mnc: wa;   \u001b[0;32mvar\u001b[0m \u001b[0;31m1\u001b[0;35m..\u001b[0mnc: nt;  \u001b[0;32mvar\u001b[0m \u001b[0;31m1\u001b[0;35m..\u001b[0mnc: sa;   \u001b[0;32mvar\u001b[0m \u001b[0;31m1\u001b[0;35m..\u001b[0mnc: q;\r\n",
      "\u001b[0m\u001b[K\u001b[0;32mvar\u001b[0m \u001b[0;31m1\u001b[0;35m..\u001b[0mnc: nsw;  \u001b[0;32mvar\u001b[0m \u001b[0;31m1\u001b[0;35m..\u001b[0mnc: v;   \u001b[0;32mvar\u001b[0m \u001b[0;31m1\u001b[0;35m..\u001b[0mnc: t;\r\n",
      "\u001b[0m\u001b[K\u001b[0m\r\n",
      "\u001b[0m\u001b[K\u001b[0;33mconstraint\u001b[0m wa \u001b[0;35m!=\u001b[0m nt;\r\n",
      "\u001b[0m\u001b[K\u001b[0;33mconstraint\u001b[0m wa \u001b[0;35m!=\u001b[0m sa;\r\n",
      "\u001b[0m\u001b[K\u001b[0;33mconstraint\u001b[0m nt \u001b[0;35m!=\u001b[0m sa;\r\n",
      "\u001b[0m\u001b[K\u001b[0;33mconstraint\u001b[0m nt \u001b[0;35m!=\u001b[0m q;\r\n",
      "\u001b[0m\u001b[K\u001b[0;33mconstraint\u001b[0m sa \u001b[0;35m!=\u001b[0m q;\r\n",
      "\u001b[0m\u001b[K\u001b[0;33mconstraint\u001b[0m sa \u001b[0;35m!=\u001b[0m nsw;\r\n",
      "\u001b[0m\u001b[K\u001b[0;33mconstraint\u001b[0m sa \u001b[0;35m!=\u001b[0m v;\r\n",
      "\u001b[0m\u001b[K\u001b[0;33mconstraint\u001b[0m q \u001b[0;35m!=\u001b[0m nsw;\r\n",
      "\u001b[0m\u001b[K\u001b[0;33mconstraint\u001b[0m nsw \u001b[0;35m!=\u001b[0m v;\u001b[0m\r\n"
     ]
    }
   ],
   "source": [
    "!vimcat.sh aust.mzn"
   ]
  },
  {
   "cell_type": "markdown",
   "metadata": {},
   "source": [
    "### Question 1. What is missing to make a full MiniZinc model?\n",
    "\n",
    "write your answer here by editing this markdown cell:\n",
    "\n",
    "\n",
    "answer: the output statement\n"
   ]
  },
  {
   "cell_type": "code",
   "execution_count": 13,
   "metadata": {
    "scrolled": true
   },
   "outputs": [
    {
     "name": "stdout",
     "output_type": "stream",
     "text": [
      "\u001b[0m\u001b[K\u001b[0;33minclude\u001b[0m \u001b[0;31m\"aust.mzn\"\u001b[0m;\r\n",
      "\u001b[0m\u001b[K\u001b[0m\r\n",
      "\u001b[0m\u001b[K\u001b[0;33msolve\u001b[0m \u001b[0;33msatisfy\u001b[0m;\r\n",
      "\u001b[0m\u001b[K\u001b[0m\r\n",
      "\u001b[0m\u001b[K\u001b[0;34m% output [\"wa=\", show(wa), \"\\t nt=\", show(nt), \r\n",
      "\u001b[0m\u001b[K\u001b[0;34m%         \"\\t sa=\", show(sa), \"\\n\", \"q=\", show(q),  \r\n",
      "\u001b[0m\u001b[K\u001b[0;34m%         \"\\t nsw=\", show(nsw), \"\\t v=\", show(v), \"\\n\",\r\n",
      "\u001b[0m\u001b[K\u001b[0;34m%         \"t=\", show(t),  \"\\n\"];\u001b[0m\r\n"
     ]
    }
   ],
   "source": [
    "!vimcat.sh aust_solve.mzn"
   ]
  },
  {
   "cell_type": "code",
   "execution_count": 14,
   "metadata": {},
   "outputs": [
    {
     "name": "stdout",
     "output_type": "stream",
     "text": [
      "\u001b[0m\u001b[K\u001b[0mnc = \u001b[0;31m4\u001b[0m;\u001b[0m\r\n"
     ]
    }
   ],
   "source": [
    "!vimcat.sh aust.dzn"
   ]
  },
  {
   "cell_type": "markdown",
   "metadata": {},
   "source": [
    "Now the problem can be solved by running the following cell to get a solution (using the default constraint solver `gecode`)"
   ]
  },
  {
   "cell_type": "code",
   "execution_count": 15,
   "metadata": {},
   "outputs": [
    {
     "name": "stdout",
     "output_type": "stream",
     "text": [
      "Solution(wa=3, nt=2, sa=1, q=3, nsw=2, v=3, t=1, _checker='')\n"
     ]
    }
   ],
   "source": [
    "print(inf555.minizinc('aust_solve.mzn', 'aust.dzn'))"
   ]
  },
  {
   "cell_type": "markdown",
   "metadata": {},
   "source": [
    "We can use Python\n",
    "* to provide the data in Python instead of in a file\n",
    "* to ask for statistics\n",
    "* and by storing the solutions in a Python object"
   ]
  },
  {
   "cell_type": "code",
   "execution_count": 16,
   "metadata": {},
   "outputs": [
    {
     "name": "stdout",
     "output_type": "stream",
     "text": [
      "Solution(wa=3, nt=2, sa=1, q=3, nsw=2, v=3, t=1, _checker='')\n"
     ]
    }
   ],
   "source": [
    "result = inf555.minizinc('aust_solve.mzn', data={'nc': 4})\n",
    "print(result.solution)"
   ]
  },
  {
   "cell_type": "code",
   "execution_count": 17,
   "metadata": {},
   "outputs": [
    {
     "name": "stdout",
     "output_type": "stream",
     "text": [
      "{'failures': 0,\n",
      " 'flatIntConstraints': 9,\n",
      " 'flatIntVars': 7,\n",
      " 'flatTime': datetime.timedelta(microseconds=15327),\n",
      " 'initTime': datetime.timedelta(microseconds=137),\n",
      " 'method': 'satisfy',\n",
      " 'nodes': 8,\n",
      " 'paths': 0,\n",
      " 'peakDepth': 7,\n",
      " 'propagations': 9,\n",
      " 'propagators': 9,\n",
      " 'restarts': 0,\n",
      " 'solutions': 1,\n",
      " 'solveTime': datetime.timedelta(microseconds=72),\n",
      " 'time': datetime.timedelta(microseconds=20000),\n",
      " 'variables': 7}\n"
     ]
    }
   ],
   "source": [
    "import pprint\n",
    "pprint.pprint(result.statistics)"
   ]
  },
  {
   "cell_type": "code",
   "execution_count": 6,
   "metadata": {},
   "outputs": [
    {
     "name": "stdout",
     "output_type": "stream",
     "text": [
      "SATISFIED\n"
     ]
    }
   ],
   "source": [
    "print(result.status)"
   ]
  },
  {
   "cell_type": "markdown",
   "metadata": {},
   "source": [
    "We can also compute *all solutions* \n",
    "* by changing the default option\n",
    "* and printing the array of solutions in python"
   ]
  },
  {
   "cell_type": "code",
   "execution_count": 9,
   "metadata": {},
   "outputs": [
    {
     "name": "stdout",
     "output_type": "stream",
     "text": [
      "0:00:00.006239\n",
      "ALL_SOLUTIONS\n"
     ]
    }
   ],
   "source": [
    "result = inf555.minizinc('aust_solve.mzn', data={'nc': 4}, all_solutions=True)\n",
    "print(result.statistics['solveTime'])\n",
    "print(result.status)"
   ]
  },
  {
   "cell_type": "code",
   "execution_count": 10,
   "metadata": {},
   "outputs": [
    {
     "data": {
      "text/plain": [
       "[Solution(wa=3, nt=2, sa=1, q=3, nsw=2, v=3, t=1, _checker=''),\n",
       " Solution(wa=4, nt=2, sa=1, q=3, nsw=2, v=3, t=1, _checker=''),\n",
       " Solution(wa=3, nt=2, sa=1, q=4, nsw=2, v=3, t=1, _checker=''),\n",
       " Solution(wa=4, nt=2, sa=1, q=4, nsw=2, v=3, t=1, _checker=''),\n",
       " Solution(wa=3, nt=2, sa=1, q=3, nsw=2, v=4, t=1, _checker=''),\n",
       " Solution(wa=4, nt=2, sa=1, q=3, nsw=2, v=4, t=1, _checker=''),\n",
       " Solution(wa=3, nt=2, sa=1, q=4, nsw=2, v=4, t=1, _checker=''),\n",
       " Solution(wa=4, nt=2, sa=1, q=4, nsw=2, v=4, t=1, _checker=''),\n",
       " Solution(wa=3, nt=2, sa=1, q=3, nsw=2, v=3, t=2, _checker=''),\n",
       " Solution(wa=4, nt=2, sa=1, q=3, nsw=2, v=3, t=2, _checker='')]"
      ]
     },
     "execution_count": 10,
     "metadata": {},
     "output_type": "execute_result"
    }
   ],
   "source": [
    "result.solution[0:10]"
   ]
  },
  {
   "cell_type": "markdown",
   "metadata": {},
   "source": [
    "To come back to MiniZinc, there are three different `solve` statements:\n",
    "\n",
    "- `solve satisfy`\n",
    "- `solve minimize`\n",
    "- `solve maximize`"
   ]
  },
  {
   "cell_type": "code",
   "execution_count": 11,
   "metadata": {},
   "outputs": [
    {
     "name": "stdout",
     "output_type": "stream",
     "text": [
      "\u001b[0m\u001b[K\u001b[0;33minclude\u001b[0m \u001b[0;31m\"aust.mzn\"\u001b[0m;\r\n",
      "\u001b[0m\u001b[K\u001b[0m\r\n",
      "\u001b[0m\u001b[K\u001b[0;32mvar\u001b[0m \u001b[0;32mint\u001b[0m: \u001b[0;36mmax\u001b[0m;\r\n",
      "\u001b[0m\u001b[K\u001b[0m\r\n",
      "\u001b[0m\u001b[K\u001b[0;33mconstraint\u001b[0m \u001b[0;36mmax\u001b[0m \u001b[0;35m>=\u001b[0m \u001b[0;36mmax\u001b[0m([wa, nt, sa, q, nsw, v, t]);\r\n",
      "\u001b[0m\u001b[K\u001b[0m\r\n",
      "\u001b[0m\u001b[K\u001b[0;33msolve\u001b[0m \u001b[0;33mminimize\u001b[0m \u001b[0;36mmax\u001b[0m;\u001b[0m\r\n"
     ]
    }
   ],
   "source": [
    "!vimcat.sh aust_opt.mzn"
   ]
  },
  {
   "cell_type": "code",
   "execution_count": 12,
   "metadata": {},
   "outputs": [
    {
     "data": {
      "text/plain": [
       "Solution(objective=3, max=3, wa=3, nt=2, sa=1, q=3, nsw=2, v=3, t=1, _checker='')"
      ]
     },
     "execution_count": 12,
     "metadata": {},
     "output_type": "execute_result"
    }
   ],
   "source": [
    "inf555.minizinc('aust_opt.mzn', data={'nc': 4}).solution"
   ]
  },
  {
   "cell_type": "markdown",
   "metadata": {},
   "source": [
    "MiniZinc has a quite rich syntax\n",
    "\n",
    "with enumerated types, complex and reified constraints, arrays, sets and loops."
   ]
  },
  {
   "cell_type": "code",
   "execution_count": 13,
   "metadata": {},
   "outputs": [
    {
     "name": "stdout",
     "output_type": "stream",
     "text": [
      "\u001b[0m\u001b[K\u001b[0;32menum\u001b[0m Color;\r\n",
      "\u001b[0m\u001b[K\u001b[0;32mvar\u001b[0m Color: wa; \r\n",
      "\u001b[0m\u001b[K\u001b[0;32mvar\u001b[0m Color: nt; \r\n",
      "\u001b[0m\u001b[K\u001b[0;32mvar\u001b[0m Color: sa;\r\n",
      "\u001b[0m\u001b[K\u001b[0;32mvar\u001b[0m Color: q;\r\n",
      "\u001b[0m\u001b[K\u001b[0;32mvar\u001b[0m Color: nsw;\r\n",
      "\u001b[0m\u001b[K\u001b[0;32mvar\u001b[0m Color: v;\r\n",
      "\u001b[0m\u001b[K\u001b[0;32mvar\u001b[0m Color: t;\r\n",
      "\u001b[0m\u001b[K\u001b[0;33mconstraint\u001b[0m wa \u001b[0;35m!=\u001b[0m nt \u001b[0;35m/\\\u001b[0m wa \u001b[0;35m!=\u001b[0m sa \u001b[0;35m/\\\u001b[0m nt \u001b[0;35m!=\u001b[0m sa \u001b[0;35m/\\\u001b[0m nt \u001b[0;35m!=\u001b[0m q \u001b[0;35m/\\\u001b[0m sa \u001b[0;35m!=\u001b[0m q;\r\n",
      "\u001b[0m\u001b[K\u001b[0;33mconstraint\u001b[0m sa \u001b[0;35m!=\u001b[0m nsw \u001b[0;35m/\\\u001b[0m sa \u001b[0;35m!=\u001b[0m v \u001b[0;35m/\\\u001b[0m q \u001b[0;35m!=\u001b[0m nsw \u001b[0;35m/\\\u001b[0m nsw \u001b[0;35m!=\u001b[0m v; \r\n",
      "\u001b[0m\u001b[K\u001b[0;33msolve\u001b[0m \u001b[0;33msatisfy\u001b[0m;\u001b[0m\r\n"
     ]
    }
   ],
   "source": [
    "!vimcat.sh aust_enum.mzn"
   ]
  },
  {
   "cell_type": "code",
   "execution_count": 14,
   "metadata": {},
   "outputs": [
    {
     "name": "stdout",
     "output_type": "stream",
     "text": [
      "Solution(wa=<Color.blue: 3>, nt=<Color.green: 2>, sa=<Color.red: 1>, q=<Color.blue: 3>, nsw=<Color.green: 2>, v=<Color.blue: 3>, t=<Color.red: 1>, _checker='')\n"
     ]
    }
   ],
   "source": [
    "import enum\n",
    "Color = enum.Enum('Color', ['red', 'green', 'blue'])\n",
    "print(inf555.minizinc('aust_enum.mzn', data={'Color': Color}))"
   ]
  },
  {
   "cell_type": "code",
   "execution_count": 15,
   "metadata": {},
   "outputs": [
    {
     "name": "stdout",
     "output_type": "stream",
     "text": [
      "\u001b[0m\u001b[K\u001b[0;32mint\u001b[0m: n;\r\n",
      "\u001b[0m\u001b[K\u001b[0;32marray\u001b[0m[\u001b[0;31m0\u001b[0;35m..\u001b[0mn\u001b[0;35m-\u001b[0;31m1\u001b[0m] \u001b[0;32mof\u001b[0m \u001b[0;32mvar\u001b[0m \u001b[0;31m0\u001b[0;35m..\u001b[0mn: s;\r\n",
      "\u001b[0m\u001b[K\u001b[0m\r\n",
      "\u001b[0m\u001b[K\u001b[0;33mconstraint\u001b[0m \u001b[0;36mforall\u001b[0m(i \u001b[0;33min\u001b[0m \u001b[0;31m0\u001b[0;35m..\u001b[0mn\u001b[0;35m-\u001b[0;31m1\u001b[0m) (\r\n",
      "\u001b[0m\u001b[K\u001b[0m   s[i] = (\u001b[0;36msum\u001b[0m(j \u001b[0;33min\u001b[0m \u001b[0;31m0\u001b[0;35m..\u001b[0mn\u001b[0;35m-\u001b[0;31m1\u001b[0m) (\u001b[0;36mbool2int\u001b[0m(s[j]=i))));\r\n",
      "\u001b[0m\u001b[K\u001b[0m\r\n",
      "\u001b[0m\u001b[K\u001b[0;33msolve\u001b[0m \u001b[0;33msatisfy\u001b[0m;   \u001b[0m\r\n"
     ]
    }
   ],
   "source": [
    "!vimcat.sh magic_series.mzn"
   ]
  },
  {
   "cell_type": "code",
   "execution_count": 16,
   "metadata": {},
   "outputs": [
    {
     "data": {
      "text/plain": [
       "Solution(s=[4, 2, 1, 0, 1, 0, 0, 0], _checker='')"
      ]
     },
     "execution_count": 16,
     "metadata": {},
     "output_type": "execute_result"
    }
   ],
   "source": [
    "result = inf555.minizinc('magic_series.mzn', data={'n': 8})\n",
    "result.solution"
   ]
  },
  {
   "cell_type": "markdown",
   "metadata": {},
   "source": [
    "You should avoid writing Python code directly in the notebooks (even though it is possible).\n",
    "\n",
    "Please write python code in the [editor](http://localhost:8080/) and don't forget to download it to your local machine in order to upload it with your other answers on the Moodle.\n",
    "\n",
    "---\n",
    "\n",
    "## Wedding \n",
    "\n",
    "Here is another example, we will use the `output` command from MiniZinc to get an easier to read display of the result."
   ]
  },
  {
   "cell_type": "code",
   "execution_count": 18,
   "metadata": {},
   "outputs": [
    {
     "name": "stdout",
     "output_type": "stream",
     "text": [
      "\u001b[0m\u001b[K\u001b[0;32menum\u001b[0m Guests = {bride, groom, bestman, brdmaid, bob, carol,\r\n",
      "\u001b[0m\u001b[K\u001b[0m               ted, alice, ron, rona, ed, clara};\r\n",
      "\u001b[0m\u001b[K\u001b[0;32mset\u001b[0m \u001b[0;32mof\u001b[0m \u001b[0;32mint\u001b[0m: Seats = \u001b[0;31m1\u001b[0;35m..\u001b[0;31m12\u001b[0m;\r\n",
      "\u001b[0m\u001b[K\u001b[0;32mset\u001b[0m \u001b[0;32mof\u001b[0m \u001b[0;32mint\u001b[0m: Hatreds = \u001b[0;31m1\u001b[0;35m..\u001b[0;31m5\u001b[0m;\r\n",
      "\u001b[0m\u001b[K\u001b[0;32marray\u001b[0m[Hatreds] \u001b[0;32mof\u001b[0m Guests: h1 = [groom, carol, ed, bride, ted];\r\n",
      "\u001b[0m\u001b[K\u001b[0;32marray\u001b[0m[Hatreds] \u001b[0;32mof\u001b[0m Guests: h2 = [clara, bestman, ted, alice, ron];\r\n",
      "\u001b[0m\u001b[K\u001b[0;32mset\u001b[0m \u001b[0;32mof\u001b[0m Guests: Males = {groom, bestman, bob, ted, ron, ed};\r\n",
      "\u001b[0m\u001b[K\u001b[0;34m/* very different from\r\n",
      "\u001b[0m\u001b[K\u001b[0;34m * var {groom, bestman, bob, ted, ron, ed}: Males\r\n",
      "\u001b[0m\u001b[K\u001b[0;34m * which would define the domain of variable Males */\r\n",
      "\u001b[0m\u001b[K\u001b[0;32mset\u001b[0m \u001b[0;32mof\u001b[0m Guests: Females = {bride, brdmaid, carol, alice, rona, clara};\r\n",
      "\u001b[0m\u001b[K\u001b[0m\r\n",
      "\u001b[0m\u001b[K\u001b[0;32marray\u001b[0m[Guests] \u001b[0;32mof\u001b[0m \u001b[0;32mvar\u001b[0m Seats: pos;       \u001b[0;34m% seat of guest\r\n",
      "\u001b[0m\u001b[K\u001b[0;32marray\u001b[0m[Hatreds] \u001b[0;32mof\u001b[0m \u001b[0;32mvar\u001b[0m Seats: p1;       \u001b[0;34m% seat of guest 1 in hatred\r\n",
      "\u001b[0m\u001b[K\u001b[0;32marray\u001b[0m[Hatreds] \u001b[0;32mof\u001b[0m \u001b[0;32mvar\u001b[0m Seats: p2;       \u001b[0;34m% seat of guest 2 in hatred\r\n",
      "\u001b[0m\u001b[K\u001b[0;32marray\u001b[0m[Hatreds] \u001b[0;32mof\u001b[0m \u001b[0;32mvar\u001b[0m \u001b[0;31m0\u001b[0;35m..\u001b[0;31m1\u001b[0m: sameside;  \u001b[0;34m% seats of hatred on same side\r\n",
      "\u001b[0m\u001b[K\u001b[0;32marray\u001b[0m[Hatreds] \u001b[0;32mof\u001b[0m \u001b[0;32mvar\u001b[0m Seats: cost;     \u001b[0;34m% penalty of hatred\r\n",
      "\u001b[0m\u001b[K\u001b[0m\r\n",
      "\u001b[0m\u001b[K\u001b[0;33minclude\u001b[0m \u001b[0;31m\"alldifferent.mzn\"\u001b[0m;\r\n",
      "\u001b[0m\u001b[K\u001b[0;33mconstraint\u001b[0m alldifferent(pos);\r\n",
      "\u001b[0m\u001b[K\u001b[0;33mconstraint\u001b[0m \u001b[0;36mforall\u001b[0m(g \u001b[0;33min\u001b[0m Males) (pos[g] \u001b[0;35mmod\u001b[0m \u001b[0;31m2\u001b[0m \u001b[0;35m==\u001b[0m \u001b[0;31m1\u001b[0m);\r\n",
      "\u001b[0m\u001b[K\u001b[0;33mconstraint\u001b[0m \u001b[0;36mforall\u001b[0m([pos[g] \u001b[0;35mmod\u001b[0m \u001b[0;31m2\u001b[0m \u001b[0;35m==\u001b[0m \u001b[0;31m0\u001b[0m | g \u001b[0;33min\u001b[0m Females]);   \u001b[0;34m% list comprehension\r\n",
      "\u001b[0m\u001b[K\u001b[0;33mconstraint\u001b[0m \u001b[0;35mnot\u001b[0m (pos[ed] \u001b[0;33min\u001b[0m {\u001b[0;31m1\u001b[0m, \u001b[0;31m6\u001b[0m, \u001b[0;31m7\u001b[0m, \u001b[0;31m12\u001b[0m});\r\n",
      "\u001b[0m\u001b[K\u001b[0;33mconstraint\u001b[0m \u001b[0;36mabs\u001b[0m(pos[bride] \u001b[0;35m-\u001b[0m pos[groom]) \u001b[0;35m<=\u001b[0m \u001b[0;31m1\u001b[0m \u001b[0;35m/\\\r\n",
      "\u001b[0m\u001b[K\u001b[0m           (pos[bride] \u001b[0;35m<=\u001b[0m \u001b[0;31m6\u001b[0m \u001b[0;35m<->\u001b[0m pos[groom] \u001b[0;35m<=\u001b[0m \u001b[0;31m6\u001b[0m);\r\n",
      "\u001b[0m\u001b[K\u001b[0;33mconstraint\u001b[0m \u001b[0;36mforall\u001b[0m(h \u001b[0;33min\u001b[0m Hatreds) (\r\n",
      "\u001b[0m\u001b[K\u001b[0m               p1[h] = pos[h1[h]] \u001b[0;35m/\\\r\n",
      "\u001b[0m\u001b[K\u001b[0m               p2[h] = pos[h2[h]] \u001b[0;35m/\\\r\n",
      "\u001b[0m\u001b[K\u001b[0m               sameside[h] = \u001b[0;36mbool2int\u001b[0m(p1[h] \u001b[0;35m<=\u001b[0m \u001b[0;31m6\u001b[0m \u001b[0;35m<->\u001b[0m p2[h] \u001b[0;35m<=\u001b[0m \u001b[0;31m6\u001b[0m) \u001b[0;35m/\\\r\n",
      "\u001b[0m\u001b[K\u001b[0m               cost[h] = sameside[h] \u001b[0;35m*\u001b[0m \u001b[0;36mabs\u001b[0m(p1[h] \u001b[0;35m-\u001b[0m p2[h]) \u001b[0;35m+\r\n",
      "\u001b[0m\u001b[K\u001b[0m                  (\u001b[0;31m1\u001b[0m \u001b[0;35m-\u001b[0m sameside[h]) \u001b[0;35m*\u001b[0m (\u001b[0;36mabs\u001b[0m(\u001b[0;31m13\u001b[0m \u001b[0;35m-\u001b[0m p1[h] \u001b[0;35m-\u001b[0m p2[h]) \u001b[0;35m+\u001b[0m \u001b[0;31m1\u001b[0m));\r\n",
      "\u001b[0m\u001b[K\u001b[0m\r\n",
      "\u001b[0m\u001b[K\u001b[0;33msolve\u001b[0m \u001b[0;33mmaximize\u001b[0m \u001b[0;36msum\u001b[0m(h \u001b[0;33min\u001b[0m Hatreds) (cost[h]);\r\n",
      "\u001b[0m\u001b[K\u001b[0m\r\n",
      "\u001b[0m\u001b[K\u001b[0;33moutput\u001b[0m [\u001b[0;36mshow\u001b[0m(g) \u001b[0;35m++\u001b[0m \u001b[0;33mif\u001b[0m s \u001b[0;35m==\u001b[0m \u001b[0;31m6\u001b[0m \u001b[0;33mthen\u001b[0m \u001b[0;31m\"\u001b[0;35m\\n\u001b[0;31m\"\u001b[0m \u001b[0;33melse\u001b[0m \u001b[0;31m\"\u001b[0;35m\\t\u001b[0;31m\"\u001b[0m \u001b[0;33mendif\u001b[0m |\r\n",
      "\u001b[0m\u001b[K\u001b[0m        s \u001b[0;33min\u001b[0m Seats,g \u001b[0;33min\u001b[0m Guests \u001b[0;33mwhere\u001b[0m fix(pos[g]) \u001b[0;35m==\u001b[0m s] \u001b[0;35m++\u001b[0m [\u001b[0;31m\"\u001b[0;35m\\n\u001b[0;31m\"\u001b[0m];\u001b[0m\r\n"
     ]
    }
   ],
   "source": [
    "!vimcat.sh wedding.mzn"
   ]
  },
  {
   "cell_type": "markdown",
   "metadata": {},
   "source": [
    "It is possible to select other solvers, here we switch from the default [Gecode](http://gecode.org) to the [Chuffed](https://github.com/chuffed/chuffed) solver"
   ]
  },
  {
   "cell_type": "code",
   "execution_count": 19,
   "metadata": {},
   "outputs": [
    {
     "name": "stdout",
     "output_type": "stream",
     "text": [
      "0:00:00.006000\n",
      "ron\tclara\tbob\trona\tbestman\talice\n",
      "ted\tbrdmaid\tgroom\tbride\ted\tcarol\t\n",
      "\n"
     ]
    },
    {
     "data": {
      "text/plain": [
       "Solution(objective=22, pos=[10, 9, 5, 8, 3, 12, 7, 6, 1, 4, 11, 2], p1=[9, 12, 11, 10, 7], p2=[2, 5, 7, 6, 1], sameside=[0, 0, 1, 0, 0], cost=[3, 5, 4, 4, 6], _output_item='ron\\tclara\\tbob\\trona\\tbestman\\talice\\nted\\tbrdmaid\\tgroom\\tbride\\ted\\tcarol\\t\\n', _checker='')"
      ]
     },
     "execution_count": 19,
     "metadata": {},
     "output_type": "execute_result"
    }
   ],
   "source": [
    "result = inf555.minizinc('wedding.mzn', solver=inf555.chuffed)\n",
    "print(result.statistics['solveTime'])\n",
    "print(result)\n",
    "result.solution"
   ]
  },
  {
   "cell_type": "markdown",
   "metadata": {},
   "source": [
    "### Question 2. What does the above minizinc program do?\n",
    "\n",
    "write your answer here\n",
    "\n",
    "users use minizinc model to describe a mathematical problem \n",
    "then minizinc program translate the model into suitable forms for some solvers \n",
    "in the end the solver give one or some answers"
   ]
  },
  {
   "cell_type": "markdown",
   "metadata": {},
   "source": [
    "## Optimization\n",
    "\n",
    "Let us go back to our Australia coloring problem.\n",
    "\n",
    "Now, let's suppose that we want our minimization problem to be parametric, using the same techniques as in the wedding model above.\n",
    "\n",
    "We have the following data file:"
   ]
  },
  {
   "cell_type": "code",
   "execution_count": 18,
   "metadata": {},
   "outputs": [
    {
     "name": "stdout",
     "output_type": "stream",
     "text": [
      "\u001b[0m\u001b[K\u001b[0mVertices = {wa, nt, sa, q, nsw, v};\r\n",
      "\u001b[0m\u001b[K\u001b[0mNbEdges = \u001b[0;31m1\u001b[0;35m..\u001b[0;31m9\u001b[0m;\r\n",
      "\u001b[0m\u001b[K\u001b[0mEdges1 = [wa, wa, nt, nt, sa, sa, sa, q, nsw];\r\n",
      "\u001b[0m\u001b[K\u001b[0mEdges2 = [nt, sa, sa, q, q, nsw, v, nsw, v];\u001b[0m\r\n"
     ]
    }
   ],
   "source": [
    "!vimcat.sh aust_param.dzn"
   ]
  },
  {
   "cell_type": "markdown",
   "metadata": {},
   "source": [
    "### Question 3. Write the [aust_param.mzn](aust_param.mzn) model that minimizes `nc` as before\n",
    "such that the following call gives us the expected result***"
   ]
  },
  {
   "cell_type": "code",
   "execution_count": 29,
   "metadata": {},
   "outputs": [
    {
     "data": {
      "text/plain": [
       "Result(status=<Status.OPTIMAL_SOLUTION: 7>, solution=Solution(objective=3, max=3, color=[3, 2, 1, 3, 2, 3], _checker=''), statistics={'paths': 0, 'flatIntVars': 8, 'flatIntConstraints': 11, 'method': 'minimize', 'flatTime': datetime.timedelta(microseconds=18168), 'time': datetime.timedelta(microseconds=20000), 'initTime': datetime.timedelta(microseconds=1097), 'solveTime': datetime.timedelta(microseconds=491), 'solutions': 1, 'variables': 8, 'propagators': 11, 'propagations': 40, 'nodes': 9, 'failures': 3, 'restarts': 0, 'peakDepth': 7})"
      ]
     },
     "execution_count": 29,
     "metadata": {},
     "output_type": "execute_result"
    }
   ],
   "source": [
    "inf555.minizinc('aust_param.mzn', 'aust_param.dzn')"
   ]
  },
  {
   "cell_type": "markdown",
   "metadata": {},
   "source": [
    "## Loan"
   ]
  },
  {
   "cell_type": "code",
   "execution_count": 30,
   "metadata": {},
   "outputs": [
    {
     "name": "stdout",
     "output_type": "stream",
     "text": [
      "\u001b[0m\u001b[K\u001b[0;34m% variables\r\n",
      "\u001b[0m\u001b[K\u001b[0;32mvar\u001b[0m \u001b[0;32mfloat\u001b[0m: R;        \u001b[0;34m% quarterly repayment\r\n",
      "\u001b[0m\u001b[K\u001b[0;32mvar\u001b[0m \u001b[0;32mfloat\u001b[0m: P;        \u001b[0;34m% principal initially borrowed\r\n",
      "\u001b[0m\u001b[K\u001b[0;32mvar\u001b[0m \u001b[0;31m0\u001b[0m.\u001b[0;31m0\u001b[0m \u001b[0;35m..\u001b[0m \u001b[0;31m10\u001b[0m.\u001b[0;31m0\u001b[0m: I;  \u001b[0;34m% interest rate\r\n",
      "\u001b[0m\u001b[K\u001b[0m\r\n",
      "\u001b[0m\u001b[K\u001b[0;34m% intermediate variables\r\n",
      "\u001b[0m\u001b[K\u001b[0;32mvar\u001b[0m \u001b[0;32mfloat\u001b[0m: B1; \u001b[0;34m% balance after one quarter\r\n",
      "\u001b[0m\u001b[K\u001b[0;32mvar\u001b[0m \u001b[0;32mfloat\u001b[0m: B2; \u001b[0;34m% balance after two quarters\r\n",
      "\u001b[0m\u001b[K\u001b[0;32mvar\u001b[0m \u001b[0;32mfloat\u001b[0m: B3; \u001b[0;34m% balance after three quarters\r\n",
      "\u001b[0m\u001b[K\u001b[0;32mvar\u001b[0m \u001b[0;32mfloat\u001b[0m: B4; \u001b[0;34m% balance owing at end\r\n",
      "\u001b[0m\u001b[K\u001b[0m\r\n",
      "\u001b[0m\u001b[K\u001b[0;33mconstraint\u001b[0m B1 = P \u001b[0;35m*\u001b[0m (\u001b[0;31m1\u001b[0m.\u001b[0;31m0\u001b[0m \u001b[0;35m+\u001b[0m I) \u001b[0;35m-\u001b[0m R;\r\n",
      "\u001b[0m\u001b[K\u001b[0;33mconstraint\u001b[0m B2 = B1 \u001b[0;35m*\u001b[0m (\u001b[0;31m1\u001b[0m.\u001b[0;31m0\u001b[0m \u001b[0;35m+\u001b[0m I) \u001b[0;35m-\u001b[0m R;\r\n",
      "\u001b[0m\u001b[K\u001b[0;33mconstraint\u001b[0m B3 = B2 \u001b[0;35m*\u001b[0m (\u001b[0;31m1\u001b[0m.\u001b[0;31m0\u001b[0m \u001b[0;35m+\u001b[0m I) \u001b[0;35m-\u001b[0m R; \r\n",
      "\u001b[0m\u001b[K\u001b[0;33mconstraint\u001b[0m B4 = B3 \u001b[0;35m*\u001b[0m (\u001b[0;31m1\u001b[0m.\u001b[0;31m0\u001b[0m \u001b[0;35m+\u001b[0m I) \u001b[0;35m-\u001b[0m R;\r\n",
      "\u001b[0m\u001b[K\u001b[0m\r\n",
      "\u001b[0m\u001b[K\u001b[0;33msolve\u001b[0m \u001b[0;33msatisfy\u001b[0m;\r\n",
      "\u001b[0m\u001b[K\u001b[0m\r\n",
      "\u001b[0m\u001b[K\u001b[0;33moutput\u001b[0m [\r\n",
      "\u001b[0m\u001b[K\u001b[0m   \u001b[0;31m\"Borrowing \"\u001b[0m, \u001b[0;36mshow_float\u001b[0m(\u001b[0;31m0\u001b[0m, \u001b[0;31m2\u001b[0m, P), \u001b[0;31m\" at \"\u001b[0m, \u001b[0;36mshow\u001b[0m(I\u001b[0;35m*\u001b[0;31m100\u001b[0m.\u001b[0;31m0\u001b[0m), \r\n",
      "\u001b[0m\u001b[K\u001b[0m   \u001b[0;31m\"\u001b[0;35m% i\u001b[0;31mnterest, and repaying \"\u001b[0m, \u001b[0;36mshow_float\u001b[0m(\u001b[0;31m0\u001b[0m, \u001b[0;31m2\u001b[0m, R), \r\n",
      "\u001b[0m\u001b[K\u001b[0m   \u001b[0;31m\"\u001b[0;35m\\n\u001b[0;31mper quarter for 1 year leaves \"\u001b[0m, \u001b[0;36mshow_float\u001b[0m(\u001b[0;31m0\u001b[0m, \u001b[0;31m2\u001b[0m, B4), \u001b[0;31m\" owing\u001b[0;35m\\n\u001b[0;31m\"\r\n",
      "\u001b[0m\u001b[K\u001b[0m];\u001b[0m\r\n"
     ]
    }
   ],
   "source": [
    "!vimcat.sh loan.mzn"
   ]
  },
  {
   "cell_type": "code",
   "execution_count": 31,
   "metadata": {},
   "outputs": [
    {
     "name": "stdout",
     "output_type": "stream",
     "text": [
      "Borrowing 1000.00 at 4.0% interest, and repaying 260.00\n",
      "per quarter for 1 year leaves 65.78 owing\n",
      "\n"
     ]
    },
    {
     "data": {
      "text/plain": [
       "Solution(R=260.0, P=1000.0, I=0.04, B1=780.0, B2=551.2, B3=313.248, B4=65.77792000000005, _output_item='Borrowing 1000.00 at 4.0% interest, and repaying 260.00\\nper quarter for 1 year leaves 65.78 owing\\n', _checker='')"
      ]
     },
     "execution_count": 31,
     "metadata": {},
     "output_type": "execute_result"
    }
   ],
   "source": [
    "result = inf555.minizinc('loan.mzn', data={'P': 1000.0, 'R': 260.0, 'I': 0.04}, solver=inf555.cbc)\n",
    "print(result)\n",
    "result.solution"
   ]
  },
  {
   "cell_type": "code",
   "execution_count": 32,
   "metadata": {},
   "outputs": [
    {
     "name": "stdout",
     "output_type": "stream",
     "text": [
      "{'flatFloatConstraints': 3,\n",
      " 'flatFloatVars': 4,\n",
      " 'flatTime': datetime.timedelta(microseconds=24140),\n",
      " 'method': 'satisfy',\n",
      " 'nodes': 0,\n",
      " 'objective': 0,\n",
      " 'objectiveBound': 0,\n",
      " 'openNodes': -1,\n",
      " 'paths': 0,\n",
      " 'solveTime': datetime.timedelta(microseconds=4900),\n",
      " 'time': datetime.timedelta(microseconds=40000)}\n"
     ]
    }
   ],
   "source": [
    "pprint.pprint(result.statistics)"
   ]
  },
  {
   "cell_type": "markdown",
   "metadata": {},
   "source": [
    "### Question 4. Write the corresponding loan.dzn file\n",
    "* before running the next cell to answer the question:\n",
    "* \"How much do I need to pay per quarter if I want to borrow $1500 at 5% interest rate and owe nothing after 1 year?\"\n",
    "\n"
   ]
  },
  {
   "cell_type": "code",
   "execution_count": 36,
   "metadata": {},
   "outputs": [
    {
     "data": {
      "text/plain": [
       "Result(status=<Status.SATISFIED: 5>, solution=Solution(R=423.0177489051942, P=1500.0, I=0.05, B1=1151.982251094806, B2=786.563614744352, B3=402.8740465763754, B4=0.0, _output_item='Borrowing 1500.00 at 5.0% interest, and repaying 423.02\\nper quarter for 1 year leaves 0.00 owing\\n', _checker=''), statistics={'paths': 0, 'flatFloatVars': 4, 'flatFloatConstraints': 4, 'method': 'satisfy', 'flatTime': datetime.timedelta(microseconds=20706), 'objective': 0, 'objectiveBound': 0, 'nodes': 0, 'solveTime': datetime.timedelta(microseconds=400), 'time': datetime.timedelta(microseconds=20000), 'openNodes': -1})"
      ]
     },
     "execution_count": 36,
     "metadata": {},
     "output_type": "execute_result"
    }
   ],
   "source": [
    "inf555.minizinc('loan.mzn', 'loan.dzn', solver=inf555.cbc)"
   ]
  },
  {
   "cell_type": "markdown",
   "metadata": {},
   "source": [
    "To make the number of quarters a parameter, we will use the fact that MiniZinc allows us to define predicates, i.e. functions returning a boolean expression."
   ]
  },
  {
   "cell_type": "code",
   "execution_count": 42,
   "metadata": {},
   "outputs": [
    {
     "name": "stdout",
     "output_type": "stream",
     "text": [
      "\u001b[0m\u001b[K\u001b[0;34m% parameter\r\n",
      "\u001b[0m\u001b[K\u001b[0;32mint\u001b[0m: D;              \u001b[0;34m% duration in quarters\r\n",
      "\u001b[0m\u001b[K\u001b[0;34m% variables\r\n",
      "\u001b[0m\u001b[K\u001b[0;32mvar\u001b[0m \u001b[0;32mfloat\u001b[0m: R;        \u001b[0;34m% quarterly repayment\r\n",
      "\u001b[0m\u001b[K\u001b[0;32mvar\u001b[0m \u001b[0;32mfloat\u001b[0m: P;        \u001b[0;34m% principal initially borrowed\r\n",
      "\u001b[0m\u001b[K\u001b[0;32mvar\u001b[0m \u001b[0;31m0\u001b[0m.\u001b[0;31m0\u001b[0m \u001b[0;35m..\u001b[0m \u001b[0;31m10\u001b[0m.\u001b[0;31m0\u001b[0m: I;  \u001b[0;34m% interest rate\r\n",
      "\u001b[0m\u001b[K\u001b[0;32mvar\u001b[0m \u001b[0;32mfloat\u001b[0m: B;        \u001b[0;34m% balance owing at end\r\n",
      "\u001b[0m\u001b[K\u001b[0m\r\n",
      "\u001b[0m\u001b[K\u001b[0;34m% remember that you can use\r\n",
      "\u001b[0m\u001b[K\u001b[0;34m% if/then/else/endif\r\n",
      "\u001b[0m\u001b[K\u001b[0;34m% it is also possible to declare local variables like\r\n",
      "\u001b[0m\u001b[K\u001b[0;34m% let { var float: b; } in\r\n",
      "\u001b[0m\u001b[K\u001b[0;33mpredicate\u001b[0m cumulative_interest(\r\n",
      "\u001b[0m\u001b[K\u001b[0m   \u001b[0;32mvar\u001b[0m \u001b[0;32mfloat\u001b[0m: balance, \u001b[0;32mvar\u001b[0m \u001b[0;32mfloat\u001b[0m: principal, \u001b[0;32mvar\u001b[0m \u001b[0;32mfloat\u001b[0m: interest,\r\n",
      "\u001b[0m\u001b[K\u001b[0m   \u001b[0;32mvar\u001b[0m \u001b[0;32mfloat\u001b[0m: repayment, \u001b[0;32mint\u001b[0m: nbquarters) = \r\n",
      "\u001b[0m\u001b[K\u001b[0m   \u001b[0;33mif\u001b[0m (balance \u001b[0;35m==\u001b[0;31m0\u001b[0m)\r\n",
      "\u001b[0m\u001b[K\u001b[0m   \u001b[0;33mthen\u001b[0m \r\n",
      "\u001b[0m\u001b[K\u001b[0m      cumulative_interest(\r\n",
      "\u001b[0m\u001b[K\u001b[0m         (principal \u001b[0;35m*\u001b[0m (\u001b[0;31m1\u001b[0m \u001b[0;35m+\u001b[0m interest) \u001b[0;35m-\u001b[0m repayment ), principal,\r\n",
      "\u001b[0m\u001b[K\u001b[0m         interest, repayment, (nbquarters\u001b[0;35m-\u001b[0;31m1\u001b[0m)\r\n",
      "\u001b[0m\u001b[K\u001b[0m         )\r\n",
      "\u001b[0m\u001b[K\u001b[0m   \u001b[0;33melse\r\n",
      "\u001b[0m\u001b[K\u001b[0m      cumulative_interest(\r\n",
      "\u001b[0m\u001b[K\u001b[0m         (balance \u001b[0;35m*\u001b[0m (\u001b[0;31m1\u001b[0m \u001b[0;35m+\u001b[0m interest) \u001b[0;35m-\u001b[0m repayment ), principal,\r\n",
      "\u001b[0m\u001b[K\u001b[0m         interest, repayment, (nbquarters\u001b[0;35m-\u001b[0;31m1\u001b[0m)\r\n",
      "\u001b[0m\u001b[K\u001b[0m         )\r\n",
      "\u001b[0m\u001b[K\u001b[0m\r\n",
      "\u001b[0m\u001b[K\u001b[0;33mconstraint\u001b[0m cumulative_interest(B, P, I, R, D);\r\n",
      "\u001b[0m\u001b[K\u001b[0m\r\n",
      "\u001b[0m\u001b[K\u001b[0;33msolve\u001b[0m \u001b[0;33msatisfy\u001b[0m;\r\n",
      "\u001b[0m\u001b[K\u001b[0m\r\n",
      "\u001b[0m\u001b[K\u001b[0;33moutput\u001b[0m [\r\n",
      "\u001b[0m\u001b[K\u001b[0m   \u001b[0;31m\"Borrowing \"\u001b[0m, \u001b[0;36mshow_float\u001b[0m(\u001b[0;31m0\u001b[0m, \u001b[0;31m2\u001b[0m, P), \u001b[0;31m\" at \"\u001b[0m, \u001b[0;36mshow\u001b[0m(I\u001b[0;35m*\u001b[0;31m100\u001b[0m.\u001b[0;31m0\u001b[0m), \r\n",
      "\u001b[0m\u001b[K\u001b[0m   \u001b[0;31m\"\u001b[0;35m% i\u001b[0;31mnterest, and repaying \"\u001b[0m, \u001b[0;36mshow_float\u001b[0m(\u001b[0;31m0\u001b[0m, \u001b[0;31m2\u001b[0m, R), \r\n",
      "\u001b[0m\u001b[K\u001b[0m   \u001b[0;31m\"\u001b[0;35m\\n\u001b[0;31mper quarter for \"\u001b[0m, \u001b[0;36mshow\u001b[0m(D), \u001b[0;31m\" quarters, leaves \"\u001b[0m,\r\n",
      "\u001b[0m\u001b[K\u001b[0m   \u001b[0;36mshow_float\u001b[0m(\u001b[0;31m0\u001b[0m, \u001b[0;31m2\u001b[0m, B), \u001b[0;31m\" owing\u001b[0;35m\\n\u001b[0;31m\"\r\n",
      "\u001b[0m\u001b[K\u001b[0m];\u001b[0m\r\n"
     ]
    }
   ],
   "source": [
    "!vimcat.sh loan_predicate.mzn"
   ]
  },
  {
   "cell_type": "markdown",
   "metadata": {},
   "source": [
    "### Question 5. Modify the [loan_predicate.mzn](loan_predicate.mzn) file in order to recursively define our cumulative interest\n",
    "\n",
    "### Question 6.  Write the query to know \n",
    "* how much one should pay quarterly\n",
    "* in order to have a balance of 0.0\n",
    "* after 3 years\n",
    "* of borrowing $1000\n",
    "* at a 4% interest rate\n"
   ]
  },
  {
   "cell_type": "code",
   "execution_count": 49,
   "metadata": {},
   "outputs": [
    {
     "ename": "MiniZincError",
     "evalue": "MiniZinc stopped with a non-zero exit code, but did not output an error message. ",
     "output_type": "error",
     "traceback": [
      "\u001b[0;31m---------------------------------------------------------------------------\u001b[0m",
      "\u001b[0;31mMiniZincError\u001b[0m                             Traceback (most recent call last)",
      "\u001b[0;32m/tmp/ipykernel_62/2811260289.py\u001b[0m in \u001b[0;36m<module>\u001b[0;34m\u001b[0m\n\u001b[0;32m----> 1\u001b[0;31m \u001b[0minf555\u001b[0m\u001b[0;34m.\u001b[0m\u001b[0mminizinc\u001b[0m\u001b[0;34m(\u001b[0m\u001b[0;34m'loan_predicate.mzn'\u001b[0m\u001b[0;34m,\u001b[0m \u001b[0mdata\u001b[0m\u001b[0;34m=\u001b[0m\u001b[0;34m{\u001b[0m\u001b[0;34m'D'\u001b[0m\u001b[0;34m:\u001b[0m\u001b[0;36m12\u001b[0m\u001b[0;34m,\u001b[0m\u001b[0;34m'B'\u001b[0m\u001b[0;34m:\u001b[0m\u001b[0;36m0.0\u001b[0m\u001b[0;34m,\u001b[0m\u001b[0;34m'P'\u001b[0m\u001b[0;34m:\u001b[0m\u001b[0;36m1000.0\u001b[0m\u001b[0;34m,\u001b[0m\u001b[0;34m'I'\u001b[0m\u001b[0;34m:\u001b[0m\u001b[0;36m0.04\u001b[0m\u001b[0;34m}\u001b[0m\u001b[0;34m,\u001b[0m \u001b[0msolver\u001b[0m\u001b[0;34m=\u001b[0m\u001b[0minf555\u001b[0m\u001b[0;34m.\u001b[0m\u001b[0mcbc\u001b[0m\u001b[0;34m)\u001b[0m\u001b[0;34m\u001b[0m\u001b[0;34m\u001b[0m\u001b[0m\n\u001b[0m",
      "\u001b[0;32m~/inf555.py\u001b[0m in \u001b[0;36mminizinc\u001b[0;34m(solver, data, all_solutions, *files)\u001b[0m\n\u001b[1;32m     32\u001b[0m         \u001b[0;32melse\u001b[0m\u001b[0;34m:\u001b[0m\u001b[0;34m\u001b[0m\u001b[0;34m\u001b[0m\u001b[0m\n\u001b[1;32m     33\u001b[0m             \u001b[0minstance\u001b[0m\u001b[0;34m[\u001b[0m\u001b[0mkey\u001b[0m\u001b[0;34m]\u001b[0m \u001b[0;34m=\u001b[0m \u001b[0mvalue\u001b[0m\u001b[0;34m\u001b[0m\u001b[0;34m\u001b[0m\u001b[0m\n\u001b[0;32m---> 34\u001b[0;31m     \u001b[0;32mreturn\u001b[0m \u001b[0minstance\u001b[0m\u001b[0;34m.\u001b[0m\u001b[0msolve\u001b[0m\u001b[0;34m(\u001b[0m\u001b[0mall_solutions\u001b[0m\u001b[0;34m=\u001b[0m\u001b[0mall_solutions\u001b[0m\u001b[0;34m)\u001b[0m\u001b[0;34m\u001b[0m\u001b[0;34m\u001b[0m\u001b[0m\n\u001b[0m",
      "\u001b[0;32m/opt/conda/lib/python3.9/site-packages/minizinc/instance.py\u001b[0m in \u001b[0;36msolve\u001b[0;34m(self, timeout, nr_solutions, processes, random_seed, all_solutions, intermediate_solutions, free_search, optimisation_level, **kwargs)\u001b[0m\n\u001b[1;32m    115\u001b[0m             \u001b[0;32mif\u001b[0m \u001b[0msys\u001b[0m\u001b[0;34m.\u001b[0m\u001b[0mplatform\u001b[0m \u001b[0;34m==\u001b[0m \u001b[0;34m\"win32\"\u001b[0m\u001b[0;34m:\u001b[0m\u001b[0;34m\u001b[0m\u001b[0;34m\u001b[0m\u001b[0m\n\u001b[1;32m    116\u001b[0m                 \u001b[0masyncio\u001b[0m\u001b[0;34m.\u001b[0m\u001b[0mset_event_loop_policy\u001b[0m\u001b[0;34m(\u001b[0m\u001b[0masyncio\u001b[0m\u001b[0;34m.\u001b[0m\u001b[0mWindowsProactorEventLoopPolicy\u001b[0m\u001b[0;34m(\u001b[0m\u001b[0;34m)\u001b[0m\u001b[0;34m)\u001b[0m\u001b[0;34m\u001b[0m\u001b[0;34m\u001b[0m\u001b[0m\n\u001b[0;32m--> 117\u001b[0;31m             \u001b[0;32mreturn\u001b[0m \u001b[0masyncio\u001b[0m\u001b[0;34m.\u001b[0m\u001b[0mrun\u001b[0m\u001b[0;34m(\u001b[0m\u001b[0mcoroutine\u001b[0m\u001b[0;34m)\u001b[0m\u001b[0;34m\u001b[0m\u001b[0;34m\u001b[0m\u001b[0m\n\u001b[0m\u001b[1;32m    118\u001b[0m         \u001b[0;32melse\u001b[0m\u001b[0;34m:\u001b[0m\u001b[0;34m\u001b[0m\u001b[0;34m\u001b[0m\u001b[0m\n\u001b[1;32m    119\u001b[0m             \u001b[0;32mif\u001b[0m \u001b[0msys\u001b[0m\u001b[0;34m.\u001b[0m\u001b[0mplatform\u001b[0m \u001b[0;34m==\u001b[0m \u001b[0;34m\"win32\"\u001b[0m\u001b[0;34m:\u001b[0m\u001b[0;34m\u001b[0m\u001b[0;34m\u001b[0m\u001b[0m\n",
      "\u001b[0;32m/opt/conda/lib/python3.9/site-packages/nest_asyncio.py\u001b[0m in \u001b[0;36mrun\u001b[0;34m(future, debug)\u001b[0m\n\u001b[1;32m     30\u001b[0m         \u001b[0mloop\u001b[0m \u001b[0;34m=\u001b[0m \u001b[0masyncio\u001b[0m\u001b[0;34m.\u001b[0m\u001b[0mget_event_loop\u001b[0m\u001b[0;34m(\u001b[0m\u001b[0;34m)\u001b[0m\u001b[0;34m\u001b[0m\u001b[0;34m\u001b[0m\u001b[0m\n\u001b[1;32m     31\u001b[0m         \u001b[0mloop\u001b[0m\u001b[0;34m.\u001b[0m\u001b[0mset_debug\u001b[0m\u001b[0;34m(\u001b[0m\u001b[0mdebug\u001b[0m\u001b[0;34m)\u001b[0m\u001b[0;34m\u001b[0m\u001b[0;34m\u001b[0m\u001b[0m\n\u001b[0;32m---> 32\u001b[0;31m         \u001b[0;32mreturn\u001b[0m \u001b[0mloop\u001b[0m\u001b[0;34m.\u001b[0m\u001b[0mrun_until_complete\u001b[0m\u001b[0;34m(\u001b[0m\u001b[0mfuture\u001b[0m\u001b[0;34m)\u001b[0m\u001b[0;34m\u001b[0m\u001b[0;34m\u001b[0m\u001b[0m\n\u001b[0m\u001b[1;32m     33\u001b[0m \u001b[0;34m\u001b[0m\u001b[0m\n\u001b[1;32m     34\u001b[0m     \u001b[0;32mif\u001b[0m \u001b[0msys\u001b[0m\u001b[0;34m.\u001b[0m\u001b[0mversion_info\u001b[0m \u001b[0;34m>=\u001b[0m \u001b[0;34m(\u001b[0m\u001b[0;36m3\u001b[0m\u001b[0;34m,\u001b[0m \u001b[0;36m6\u001b[0m\u001b[0;34m,\u001b[0m \u001b[0;36m0\u001b[0m\u001b[0;34m)\u001b[0m\u001b[0;34m:\u001b[0m\u001b[0;34m\u001b[0m\u001b[0;34m\u001b[0m\u001b[0m\n",
      "\u001b[0;32m/opt/conda/lib/python3.9/site-packages/nest_asyncio.py\u001b[0m in \u001b[0;36mrun_until_complete\u001b[0;34m(self, future)\u001b[0m\n\u001b[1;32m     68\u001b[0m                 raise RuntimeError(\n\u001b[1;32m     69\u001b[0m                     'Event loop stopped before Future completed.')\n\u001b[0;32m---> 70\u001b[0;31m             \u001b[0;32mreturn\u001b[0m \u001b[0mf\u001b[0m\u001b[0;34m.\u001b[0m\u001b[0mresult\u001b[0m\u001b[0;34m(\u001b[0m\u001b[0;34m)\u001b[0m\u001b[0;34m\u001b[0m\u001b[0;34m\u001b[0m\u001b[0m\n\u001b[0m\u001b[1;32m     71\u001b[0m \u001b[0;34m\u001b[0m\u001b[0m\n\u001b[1;32m     72\u001b[0m     \u001b[0;32mdef\u001b[0m \u001b[0m_run_once\u001b[0m\u001b[0;34m(\u001b[0m\u001b[0mself\u001b[0m\u001b[0;34m)\u001b[0m\u001b[0;34m:\u001b[0m\u001b[0;34m\u001b[0m\u001b[0;34m\u001b[0m\u001b[0m\n",
      "\u001b[0;32m/opt/conda/lib/python3.9/asyncio/futures.py\u001b[0m in \u001b[0;36mresult\u001b[0;34m(self)\u001b[0m\n\u001b[1;32m    199\u001b[0m         \u001b[0mself\u001b[0m\u001b[0;34m.\u001b[0m\u001b[0m__log_traceback\u001b[0m \u001b[0;34m=\u001b[0m \u001b[0;32mFalse\u001b[0m\u001b[0;34m\u001b[0m\u001b[0;34m\u001b[0m\u001b[0m\n\u001b[1;32m    200\u001b[0m         \u001b[0;32mif\u001b[0m \u001b[0mself\u001b[0m\u001b[0;34m.\u001b[0m\u001b[0m_exception\u001b[0m \u001b[0;32mis\u001b[0m \u001b[0;32mnot\u001b[0m \u001b[0;32mNone\u001b[0m\u001b[0;34m:\u001b[0m\u001b[0;34m\u001b[0m\u001b[0;34m\u001b[0m\u001b[0m\n\u001b[0;32m--> 201\u001b[0;31m             \u001b[0;32mraise\u001b[0m \u001b[0mself\u001b[0m\u001b[0;34m.\u001b[0m\u001b[0m_exception\u001b[0m\u001b[0;34m\u001b[0m\u001b[0;34m\u001b[0m\u001b[0m\n\u001b[0m\u001b[1;32m    202\u001b[0m         \u001b[0;32mreturn\u001b[0m \u001b[0mself\u001b[0m\u001b[0;34m.\u001b[0m\u001b[0m_result\u001b[0m\u001b[0;34m\u001b[0m\u001b[0;34m\u001b[0m\u001b[0m\n\u001b[1;32m    203\u001b[0m \u001b[0;34m\u001b[0m\u001b[0m\n",
      "\u001b[0;32m/opt/conda/lib/python3.9/asyncio/tasks.py\u001b[0m in \u001b[0;36m__step\u001b[0;34m(***failed resolving arguments***)\u001b[0m\n\u001b[1;32m    254\u001b[0m                 \u001b[0;31m# We use the `send` method directly, because coroutines\u001b[0m\u001b[0;34m\u001b[0m\u001b[0;34m\u001b[0m\u001b[0;34m\u001b[0m\u001b[0m\n\u001b[1;32m    255\u001b[0m                 \u001b[0;31m# don't have `__iter__` and `__next__` methods.\u001b[0m\u001b[0;34m\u001b[0m\u001b[0;34m\u001b[0m\u001b[0;34m\u001b[0m\u001b[0m\n\u001b[0;32m--> 256\u001b[0;31m                 \u001b[0mresult\u001b[0m \u001b[0;34m=\u001b[0m \u001b[0mcoro\u001b[0m\u001b[0;34m.\u001b[0m\u001b[0msend\u001b[0m\u001b[0;34m(\u001b[0m\u001b[0;32mNone\u001b[0m\u001b[0;34m)\u001b[0m\u001b[0;34m\u001b[0m\u001b[0;34m\u001b[0m\u001b[0m\n\u001b[0m\u001b[1;32m    257\u001b[0m             \u001b[0;32melse\u001b[0m\u001b[0;34m:\u001b[0m\u001b[0;34m\u001b[0m\u001b[0;34m\u001b[0m\u001b[0m\n\u001b[1;32m    258\u001b[0m                 \u001b[0mresult\u001b[0m \u001b[0;34m=\u001b[0m \u001b[0mcoro\u001b[0m\u001b[0;34m.\u001b[0m\u001b[0mthrow\u001b[0m\u001b[0;34m(\u001b[0m\u001b[0mexc\u001b[0m\u001b[0;34m)\u001b[0m\u001b[0;34m\u001b[0m\u001b[0;34m\u001b[0m\u001b[0m\n",
      "\u001b[0;32m/opt/conda/lib/python3.9/site-packages/minizinc/CLI/instance.py\u001b[0m in \u001b[0;36msolve_async\u001b[0;34m(self, timeout, nr_solutions, processes, random_seed, all_solutions, intermediate_solutions, free_search, optimisation_level, **kwargs)\u001b[0m\n\u001b[1;32m    415\u001b[0m             \u001b[0msolution\u001b[0m \u001b[0;34m=\u001b[0m \u001b[0;34m[\u001b[0m\u001b[0;34m]\u001b[0m\u001b[0;34m\u001b[0m\u001b[0;34m\u001b[0m\u001b[0m\n\u001b[1;32m    416\u001b[0m \u001b[0;34m\u001b[0m\u001b[0m\n\u001b[0;32m--> 417\u001b[0;31m         async for result in self.solutions(\n\u001b[0m\u001b[1;32m    418\u001b[0m             \u001b[0mtimeout\u001b[0m\u001b[0;34m=\u001b[0m\u001b[0mtimeout\u001b[0m\u001b[0;34m,\u001b[0m\u001b[0;34m\u001b[0m\u001b[0;34m\u001b[0m\u001b[0m\n\u001b[1;32m    419\u001b[0m             \u001b[0mnr_solutions\u001b[0m\u001b[0;34m=\u001b[0m\u001b[0mnr_solutions\u001b[0m\u001b[0;34m,\u001b[0m\u001b[0;34m\u001b[0m\u001b[0;34m\u001b[0m\u001b[0m\n",
      "\u001b[0;32m/opt/conda/lib/python3.9/site-packages/minizinc/CLI/instance.py\u001b[0m in \u001b[0;36msolutions\u001b[0;34m(self, timeout, nr_solutions, processes, random_seed, all_solutions, intermediate_solutions, free_search, optimisation_level, verbose, debug_output, **kwargs)\u001b[0m\n\u001b[1;32m    387\u001b[0m                 \u001b[0;32mif\u001b[0m \u001b[0mcode\u001b[0m \u001b[0;34m!=\u001b[0m \u001b[0;36m0\u001b[0m \u001b[0;32mor\u001b[0m \u001b[0mstatus\u001b[0m \u001b[0;34m==\u001b[0m \u001b[0mStatus\u001b[0m\u001b[0;34m.\u001b[0m\u001b[0mERROR\u001b[0m\u001b[0;34m:\u001b[0m\u001b[0;34m\u001b[0m\u001b[0;34m\u001b[0m\u001b[0m\n\u001b[1;32m    388\u001b[0m                     \u001b[0mstderr\u001b[0m \u001b[0;34m=\u001b[0m \u001b[0;32mawait\u001b[0m \u001b[0mread_stderr\u001b[0m\u001b[0;34m\u001b[0m\u001b[0;34m\u001b[0m\u001b[0m\n\u001b[0;32m--> 389\u001b[0;31m                     \u001b[0;32mraise\u001b[0m \u001b[0mparse_error\u001b[0m\u001b[0;34m(\u001b[0m\u001b[0mstderr\u001b[0m\u001b[0;34m)\u001b[0m\u001b[0;34m\u001b[0m\u001b[0;34m\u001b[0m\u001b[0m\n\u001b[0m\u001b[1;32m    390\u001b[0m                 \u001b[0;32mif\u001b[0m \u001b[0mdebug_output\u001b[0m \u001b[0;32mis\u001b[0m \u001b[0;32mnot\u001b[0m \u001b[0;32mNone\u001b[0m\u001b[0;34m:\u001b[0m\u001b[0;34m\u001b[0m\u001b[0;34m\u001b[0m\u001b[0m\n\u001b[1;32m    391\u001b[0m                     \u001b[0;32mif\u001b[0m \u001b[0mstderr\u001b[0m \u001b[0;32mis\u001b[0m \u001b[0;32mNone\u001b[0m\u001b[0;34m:\u001b[0m\u001b[0;34m\u001b[0m\u001b[0;34m\u001b[0m\u001b[0m\n",
      "\u001b[0;31mMiniZincError\u001b[0m: MiniZinc stopped with a non-zero exit code, but did not output an error message. "
     ]
    }
   ],
   "source": [
    "inf555.minizinc('loan_predicate.mzn', data={'D':12,'B':0.0,'P':1000.0,'I':0.04}, solver=inf555.cbc)"
   ]
  },
  {
   "cell_type": "markdown",
   "metadata": {},
   "source": [
    "I meet unexpeted error \" MiniZinc stopped with a non-zero exit code, but did not output an error message. \" \n",
    "\n",
    "and Warining \"# We use the `send` method directly, because coroutines # don't have `__iter__` and `__next__` methods.\""
   ]
  },
  {
   "cell_type": "markdown",
   "metadata": {},
   "source": [
    "*Do not forget to download*\n",
    "* `TP.ipynb`\n",
    "* `aust_param.mzn`\n",
    "* `loan.dzn`\n",
    "* and the modified `loan_predicate.mzn` \n",
    "\n",
    "files to your machine (or work/ directory) \n",
    "\n",
    "and to *upload them* to the **Assignment** module of TP1 on the Moodle"
   ]
  },
  {
   "cell_type": "code",
   "execution_count": null,
   "metadata": {},
   "outputs": [],
   "source": []
  }
 ],
 "metadata": {
  "kernelspec": {
   "display_name": "Python 3 (ipykernel)",
   "language": "python",
   "name": "python3"
  },
  "language_info": {
   "codemirror_mode": {
    "name": "ipython",
    "version": 3
   },
   "file_extension": ".py",
   "mimetype": "text/x-python",
   "name": "python",
   "nbconvert_exporter": "python",
   "pygments_lexer": "ipython3",
   "version": "3.9.6"
  }
 },
 "nbformat": 4,
 "nbformat_minor": 2
}
